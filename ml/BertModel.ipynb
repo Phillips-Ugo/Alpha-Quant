{
 "cells": [
  {
   "cell_type": "code",
   "execution_count": 1,
   "metadata": {
    "executionInfo": {
     "elapsed": 24210,
     "status": "ok",
     "timestamp": 1753295082666,
     "user": {
      "displayName": "Belusochim Ogwumike Ugochukwu",
      "userId": "15099275448381681588"
     },
     "user_tz": 420
    },
    "id": "6Az7kv26RPp8"
   },
   "outputs": [],
   "source": [
    "# Pytorch Deep Learning\n",
    "import torch\n",
    "# Pandas+Numpy\n",
    "import pandas as pd\n",
    "# Sklearn metrics\n",
    "from sklearn.metrics import balanced_accuracy_score,accuracy_score\n",
    "\n",
    "# Hugging Face Transformer Libraries\n",
    "from transformers import AutoModelForSequenceClassification, AutoTokenizer, pipeline,Trainer, TrainingArguments\n",
    "# Hugging Face Datasets\n",
    "from datasets import Dataset"
   ]
  },
  {
   "cell_type": "code",
   "execution_count": 2,
   "metadata": {
    "executionInfo": {
     "elapsed": 204,
     "status": "ok",
     "timestamp": 1753295148300,
     "user": {
      "displayName": "Belusochim Ogwumike Ugochukwu",
      "userId": "15099275448381681588"
     },
     "user_tz": 420
    },
    "id": "z00zVBVd8Dsn"
   },
   "outputs": [],
   "source": [
    "import matplotlib.pyplot as plt\n",
    "import seaborn as sns"
   ]
  },
  {
   "cell_type": "code",
   "execution_count": 20,
   "metadata": {
    "executionInfo": {
     "elapsed": 23,
     "status": "ok",
     "timestamp": 1753295261583,
     "user": {
      "displayName": "Belusochim Ogwumike Ugochukwu",
      "userId": "15099275448381681588"
     },
     "user_tz": 420
    },
    "id": "ZzQFjBmhin4M"
   },
   "outputs": [],
   "source": [
    "import numpy as np\n"
   ]
  },
  {
   "cell_type": "code",
   "execution_count": 3,
   "metadata": {
    "colab": {
     "base_uri": "https://localhost:8080/"
    },
    "executionInfo": {
     "elapsed": 4,
     "status": "ok",
     "timestamp": 1753295149187,
     "user": {
      "displayName": "Belusochim Ogwumike Ugochukwu",
      "userId": "15099275448381681588"
     },
     "user_tz": 420
    },
    "id": "nIg9IfPJRPnu",
    "outputId": "a3e87ae2-f184-4383-cf31-c5a5e7f1a14e"
   },
   "outputs": [
    {
     "name": "stdout",
     "output_type": "stream",
     "text": [
      "CUDA available. GPU will be used for computation\n"
     ]
    }
   ],
   "source": [
    "if torch.cuda.is_available():\n",
    "  print(\"CUDA available. GPU will be used for computation\")\n",
    "  device =0\n",
    "else:\n",
    "  print(\"CUDA not available. Using CPU for computation.\")\n",
    "  device =-1\n",
    "\n"
   ]
  },
  {
   "cell_type": "code",
   "execution_count": 1,
   "metadata": {
    "colab": {
     "base_uri": "https://localhost:8080/"
    },
    "executionInfo": {
     "elapsed": 1312,
     "status": "ok",
     "timestamp": 1753295152436,
     "user": {
      "displayName": "Belusochim Ogwumike Ugochukwu",
      "userId": "15099275448381681588"
     },
     "user_tz": 420
    },
    "id": "of9mgbah54jE",
    "outputId": "f7e4ec0b-22dd-4f37-9050-c1d67015a24b"
   },
   "outputs": [
    {
     "name": "stderr",
     "output_type": "stream",
     "text": [
      "c:\\Users\\ugoch\\AppData\\Local\\Programs\\Python\\Python310\\lib\\site-packages\\tqdm\\auto.py:21: TqdmWarning: IProgress not found. Please update jupyter and ipywidgets. See https://ipywidgets.readthedocs.io/en/stable/user_install.html\n",
      "  from .autonotebook import tqdm as notebook_tqdm\n"
     ]
    }
   ],
   "source": [
    "import pandas as pd\n",
    "\n",
    "df = pd.read_csv(\"hf://datasets/mltrev23/financial-sentiment-analysis/archive.zip\")"
   ]
  },
  {
   "cell_type": "code",
   "execution_count": 5,
   "metadata": {
    "colab": {
     "base_uri": "https://localhost:8080/",
     "height": 424
    },
    "executionInfo": {
     "elapsed": 28,
     "status": "ok",
     "timestamp": 1753295154491,
     "user": {
      "displayName": "Belusochim Ogwumike Ugochukwu",
      "userId": "15099275448381681588"
     },
     "user_tz": 420
    },
    "id": "99sU0yyL96Ml",
    "outputId": "ee747022-048a-4d62-a504-269748d6e88b"
   },
   "outputs": [
    {
     "data": {
      "application/vnd.google.colaboratory.intrinsic+json": {
       "summary": "{\n  \"name\": \"df\",\n  \"rows\": 5842,\n  \"fields\": [\n    {\n      \"column\": \"Sentence\",\n      \"properties\": {\n        \"dtype\": \"string\",\n        \"num_unique_values\": 5322,\n        \"samples\": [\n          \"It is now the leading private road ambulance service company in Finland .\",\n          \"Finnish silicon wafers manufacturer Okmetic Oyj said it swung to a net profit of 4.9 mln euro $ 6.3 mln in the first nine months of 2006 from a net loss of 1.8 mln euro $ 2.3 mln a year earlier .\",\n          \"$GILD  is expanding its research facilities...keeping up with the pace of innovation  https://t.co/uOE7FJ4LOP\"\n        ],\n        \"semantic_type\": \"\",\n        \"description\": \"\"\n      }\n    },\n    {\n      \"column\": \"Sentiment\",\n      \"properties\": {\n        \"dtype\": \"category\",\n        \"num_unique_values\": 3,\n        \"samples\": [\n          \"positive\",\n          \"negative\",\n          \"neutral\"\n        ],\n        \"semantic_type\": \"\",\n        \"description\": \"\"\n      }\n    }\n  ]\n}",
       "type": "dataframe",
       "variable_name": "df"
      },
      "text/html": [
       "\n",
       "  <div id=\"df-31a1d4be-bd41-4e30-9542-4c9c6c168e1f\" class=\"colab-df-container\">\n",
       "    <div>\n",
       "<style scoped>\n",
       "    .dataframe tbody tr th:only-of-type {\n",
       "        vertical-align: middle;\n",
       "    }\n",
       "\n",
       "    .dataframe tbody tr th {\n",
       "        vertical-align: top;\n",
       "    }\n",
       "\n",
       "    .dataframe thead th {\n",
       "        text-align: right;\n",
       "    }\n",
       "</style>\n",
       "<table border=\"1\" class=\"dataframe\">\n",
       "  <thead>\n",
       "    <tr style=\"text-align: right;\">\n",
       "      <th></th>\n",
       "      <th>Sentence</th>\n",
       "      <th>Sentiment</th>\n",
       "    </tr>\n",
       "  </thead>\n",
       "  <tbody>\n",
       "    <tr>\n",
       "      <th>0</th>\n",
       "      <td>The GeoSolutions technology will leverage Bene...</td>\n",
       "      <td>positive</td>\n",
       "    </tr>\n",
       "    <tr>\n",
       "      <th>1</th>\n",
       "      <td>$ESI on lows, down $1.50 to $2.50 BK a real po...</td>\n",
       "      <td>negative</td>\n",
       "    </tr>\n",
       "    <tr>\n",
       "      <th>2</th>\n",
       "      <td>For the last quarter of 2010 , Componenta 's n...</td>\n",
       "      <td>positive</td>\n",
       "    </tr>\n",
       "    <tr>\n",
       "      <th>3</th>\n",
       "      <td>According to the Finnish-Russian Chamber of Co...</td>\n",
       "      <td>neutral</td>\n",
       "    </tr>\n",
       "    <tr>\n",
       "      <th>4</th>\n",
       "      <td>The Swedish buyout firm has sold its remaining...</td>\n",
       "      <td>neutral</td>\n",
       "    </tr>\n",
       "    <tr>\n",
       "      <th>...</th>\n",
       "      <td>...</td>\n",
       "      <td>...</td>\n",
       "    </tr>\n",
       "    <tr>\n",
       "      <th>5837</th>\n",
       "      <td>RISING costs have forced packaging producer Hu...</td>\n",
       "      <td>negative</td>\n",
       "    </tr>\n",
       "    <tr>\n",
       "      <th>5838</th>\n",
       "      <td>Nordic Walking was first used as a summer trai...</td>\n",
       "      <td>neutral</td>\n",
       "    </tr>\n",
       "    <tr>\n",
       "      <th>5839</th>\n",
       "      <td>According shipping company Viking Line , the E...</td>\n",
       "      <td>neutral</td>\n",
       "    </tr>\n",
       "    <tr>\n",
       "      <th>5840</th>\n",
       "      <td>In the building and home improvement trade , s...</td>\n",
       "      <td>neutral</td>\n",
       "    </tr>\n",
       "    <tr>\n",
       "      <th>5841</th>\n",
       "      <td>HELSINKI AFX - KCI Konecranes said it has won ...</td>\n",
       "      <td>positive</td>\n",
       "    </tr>\n",
       "  </tbody>\n",
       "</table>\n",
       "<p>5842 rows × 2 columns</p>\n",
       "</div>\n",
       "    <div class=\"colab-df-buttons\">\n",
       "\n",
       "  <div class=\"colab-df-container\">\n",
       "    <button class=\"colab-df-convert\" onclick=\"convertToInteractive('df-31a1d4be-bd41-4e30-9542-4c9c6c168e1f')\"\n",
       "            title=\"Convert this dataframe to an interactive table.\"\n",
       "            style=\"display:none;\">\n",
       "\n",
       "  <svg xmlns=\"http://www.w3.org/2000/svg\" height=\"24px\" viewBox=\"0 -960 960 960\">\n",
       "    <path d=\"M120-120v-720h720v720H120Zm60-500h600v-160H180v160Zm220 220h160v-160H400v160Zm0 220h160v-160H400v160ZM180-400h160v-160H180v160Zm440 0h160v-160H620v160ZM180-180h160v-160H180v160Zm440 0h160v-160H620v160Z\"/>\n",
       "  </svg>\n",
       "    </button>\n",
       "\n",
       "  <style>\n",
       "    .colab-df-container {\n",
       "      display:flex;\n",
       "      gap: 12px;\n",
       "    }\n",
       "\n",
       "    .colab-df-convert {\n",
       "      background-color: #E8F0FE;\n",
       "      border: none;\n",
       "      border-radius: 50%;\n",
       "      cursor: pointer;\n",
       "      display: none;\n",
       "      fill: #1967D2;\n",
       "      height: 32px;\n",
       "      padding: 0 0 0 0;\n",
       "      width: 32px;\n",
       "    }\n",
       "\n",
       "    .colab-df-convert:hover {\n",
       "      background-color: #E2EBFA;\n",
       "      box-shadow: 0px 1px 2px rgba(60, 64, 67, 0.3), 0px 1px 3px 1px rgba(60, 64, 67, 0.15);\n",
       "      fill: #174EA6;\n",
       "    }\n",
       "\n",
       "    .colab-df-buttons div {\n",
       "      margin-bottom: 4px;\n",
       "    }\n",
       "\n",
       "    [theme=dark] .colab-df-convert {\n",
       "      background-color: #3B4455;\n",
       "      fill: #D2E3FC;\n",
       "    }\n",
       "\n",
       "    [theme=dark] .colab-df-convert:hover {\n",
       "      background-color: #434B5C;\n",
       "      box-shadow: 0px 1px 3px 1px rgba(0, 0, 0, 0.15);\n",
       "      filter: drop-shadow(0px 1px 2px rgba(0, 0, 0, 0.3));\n",
       "      fill: #FFFFFF;\n",
       "    }\n",
       "  </style>\n",
       "\n",
       "    <script>\n",
       "      const buttonEl =\n",
       "        document.querySelector('#df-31a1d4be-bd41-4e30-9542-4c9c6c168e1f button.colab-df-convert');\n",
       "      buttonEl.style.display =\n",
       "        google.colab.kernel.accessAllowed ? 'block' : 'none';\n",
       "\n",
       "      async function convertToInteractive(key) {\n",
       "        const element = document.querySelector('#df-31a1d4be-bd41-4e30-9542-4c9c6c168e1f');\n",
       "        const dataTable =\n",
       "          await google.colab.kernel.invokeFunction('convertToInteractive',\n",
       "                                                    [key], {});\n",
       "        if (!dataTable) return;\n",
       "\n",
       "        const docLinkHtml = 'Like what you see? Visit the ' +\n",
       "          '<a target=\"_blank\" href=https://colab.research.google.com/notebooks/data_table.ipynb>data table notebook</a>'\n",
       "          + ' to learn more about interactive tables.';\n",
       "        element.innerHTML = '';\n",
       "        dataTable['output_type'] = 'display_data';\n",
       "        await google.colab.output.renderOutput(dataTable, element);\n",
       "        const docLink = document.createElement('div');\n",
       "        docLink.innerHTML = docLinkHtml;\n",
       "        element.appendChild(docLink);\n",
       "      }\n",
       "    </script>\n",
       "  </div>\n",
       "\n",
       "\n",
       "    <div id=\"df-f293e130-fc5b-42b1-8cf4-d11762b3ed33\">\n",
       "      <button class=\"colab-df-quickchart\" onclick=\"quickchart('df-f293e130-fc5b-42b1-8cf4-d11762b3ed33')\"\n",
       "                title=\"Suggest charts\"\n",
       "                style=\"display:none;\">\n",
       "\n",
       "<svg xmlns=\"http://www.w3.org/2000/svg\" height=\"24px\"viewBox=\"0 0 24 24\"\n",
       "     width=\"24px\">\n",
       "    <g>\n",
       "        <path d=\"M19 3H5c-1.1 0-2 .9-2 2v14c0 1.1.9 2 2 2h14c1.1 0 2-.9 2-2V5c0-1.1-.9-2-2-2zM9 17H7v-7h2v7zm4 0h-2V7h2v10zm4 0h-2v-4h2v4z\"/>\n",
       "    </g>\n",
       "</svg>\n",
       "      </button>\n",
       "\n",
       "<style>\n",
       "  .colab-df-quickchart {\n",
       "      --bg-color: #E8F0FE;\n",
       "      --fill-color: #1967D2;\n",
       "      --hover-bg-color: #E2EBFA;\n",
       "      --hover-fill-color: #174EA6;\n",
       "      --disabled-fill-color: #AAA;\n",
       "      --disabled-bg-color: #DDD;\n",
       "  }\n",
       "\n",
       "  [theme=dark] .colab-df-quickchart {\n",
       "      --bg-color: #3B4455;\n",
       "      --fill-color: #D2E3FC;\n",
       "      --hover-bg-color: #434B5C;\n",
       "      --hover-fill-color: #FFFFFF;\n",
       "      --disabled-bg-color: #3B4455;\n",
       "      --disabled-fill-color: #666;\n",
       "  }\n",
       "\n",
       "  .colab-df-quickchart {\n",
       "    background-color: var(--bg-color);\n",
       "    border: none;\n",
       "    border-radius: 50%;\n",
       "    cursor: pointer;\n",
       "    display: none;\n",
       "    fill: var(--fill-color);\n",
       "    height: 32px;\n",
       "    padding: 0;\n",
       "    width: 32px;\n",
       "  }\n",
       "\n",
       "  .colab-df-quickchart:hover {\n",
       "    background-color: var(--hover-bg-color);\n",
       "    box-shadow: 0 1px 2px rgba(60, 64, 67, 0.3), 0 1px 3px 1px rgba(60, 64, 67, 0.15);\n",
       "    fill: var(--button-hover-fill-color);\n",
       "  }\n",
       "\n",
       "  .colab-df-quickchart-complete:disabled,\n",
       "  .colab-df-quickchart-complete:disabled:hover {\n",
       "    background-color: var(--disabled-bg-color);\n",
       "    fill: var(--disabled-fill-color);\n",
       "    box-shadow: none;\n",
       "  }\n",
       "\n",
       "  .colab-df-spinner {\n",
       "    border: 2px solid var(--fill-color);\n",
       "    border-color: transparent;\n",
       "    border-bottom-color: var(--fill-color);\n",
       "    animation:\n",
       "      spin 1s steps(1) infinite;\n",
       "  }\n",
       "\n",
       "  @keyframes spin {\n",
       "    0% {\n",
       "      border-color: transparent;\n",
       "      border-bottom-color: var(--fill-color);\n",
       "      border-left-color: var(--fill-color);\n",
       "    }\n",
       "    20% {\n",
       "      border-color: transparent;\n",
       "      border-left-color: var(--fill-color);\n",
       "      border-top-color: var(--fill-color);\n",
       "    }\n",
       "    30% {\n",
       "      border-color: transparent;\n",
       "      border-left-color: var(--fill-color);\n",
       "      border-top-color: var(--fill-color);\n",
       "      border-right-color: var(--fill-color);\n",
       "    }\n",
       "    40% {\n",
       "      border-color: transparent;\n",
       "      border-right-color: var(--fill-color);\n",
       "      border-top-color: var(--fill-color);\n",
       "    }\n",
       "    60% {\n",
       "      border-color: transparent;\n",
       "      border-right-color: var(--fill-color);\n",
       "    }\n",
       "    80% {\n",
       "      border-color: transparent;\n",
       "      border-right-color: var(--fill-color);\n",
       "      border-bottom-color: var(--fill-color);\n",
       "    }\n",
       "    90% {\n",
       "      border-color: transparent;\n",
       "      border-bottom-color: var(--fill-color);\n",
       "    }\n",
       "  }\n",
       "</style>\n",
       "\n",
       "      <script>\n",
       "        async function quickchart(key) {\n",
       "          const quickchartButtonEl =\n",
       "            document.querySelector('#' + key + ' button');\n",
       "          quickchartButtonEl.disabled = true;  // To prevent multiple clicks.\n",
       "          quickchartButtonEl.classList.add('colab-df-spinner');\n",
       "          try {\n",
       "            const charts = await google.colab.kernel.invokeFunction(\n",
       "                'suggestCharts', [key], {});\n",
       "          } catch (error) {\n",
       "            console.error('Error during call to suggestCharts:', error);\n",
       "          }\n",
       "          quickchartButtonEl.classList.remove('colab-df-spinner');\n",
       "          quickchartButtonEl.classList.add('colab-df-quickchart-complete');\n",
       "        }\n",
       "        (() => {\n",
       "          let quickchartButtonEl =\n",
       "            document.querySelector('#df-f293e130-fc5b-42b1-8cf4-d11762b3ed33 button');\n",
       "          quickchartButtonEl.style.display =\n",
       "            google.colab.kernel.accessAllowed ? 'block' : 'none';\n",
       "        })();\n",
       "      </script>\n",
       "    </div>\n",
       "\n",
       "  <div id=\"id_114803ee-f3ea-4fcc-b52a-db3d21809916\">\n",
       "    <style>\n",
       "      .colab-df-generate {\n",
       "        background-color: #E8F0FE;\n",
       "        border: none;\n",
       "        border-radius: 50%;\n",
       "        cursor: pointer;\n",
       "        display: none;\n",
       "        fill: #1967D2;\n",
       "        height: 32px;\n",
       "        padding: 0 0 0 0;\n",
       "        width: 32px;\n",
       "      }\n",
       "\n",
       "      .colab-df-generate:hover {\n",
       "        background-color: #E2EBFA;\n",
       "        box-shadow: 0px 1px 2px rgba(60, 64, 67, 0.3), 0px 1px 3px 1px rgba(60, 64, 67, 0.15);\n",
       "        fill: #174EA6;\n",
       "      }\n",
       "\n",
       "      [theme=dark] .colab-df-generate {\n",
       "        background-color: #3B4455;\n",
       "        fill: #D2E3FC;\n",
       "      }\n",
       "\n",
       "      [theme=dark] .colab-df-generate:hover {\n",
       "        background-color: #434B5C;\n",
       "        box-shadow: 0px 1px 3px 1px rgba(0, 0, 0, 0.15);\n",
       "        filter: drop-shadow(0px 1px 2px rgba(0, 0, 0, 0.3));\n",
       "        fill: #FFFFFF;\n",
       "      }\n",
       "    </style>\n",
       "    <button class=\"colab-df-generate\" onclick=\"generateWithVariable('df')\"\n",
       "            title=\"Generate code using this dataframe.\"\n",
       "            style=\"display:none;\">\n",
       "\n",
       "  <svg xmlns=\"http://www.w3.org/2000/svg\" height=\"24px\"viewBox=\"0 0 24 24\"\n",
       "       width=\"24px\">\n",
       "    <path d=\"M7,19H8.4L18.45,9,17,7.55,7,17.6ZM5,21V16.75L18.45,3.32a2,2,0,0,1,2.83,0l1.4,1.43a1.91,1.91,0,0,1,.58,1.4,1.91,1.91,0,0,1-.58,1.4L9.25,21ZM18.45,9,17,7.55Zm-12,3A5.31,5.31,0,0,0,4.9,8.1,5.31,5.31,0,0,0,1,6.5,5.31,5.31,0,0,0,4.9,4.9,5.31,5.31,0,0,0,6.5,1,5.31,5.31,0,0,0,8.1,4.9,5.31,5.31,0,0,0,12,6.5,5.46,5.46,0,0,0,6.5,12Z\"/>\n",
       "  </svg>\n",
       "    </button>\n",
       "    <script>\n",
       "      (() => {\n",
       "      const buttonEl =\n",
       "        document.querySelector('#id_114803ee-f3ea-4fcc-b52a-db3d21809916 button.colab-df-generate');\n",
       "      buttonEl.style.display =\n",
       "        google.colab.kernel.accessAllowed ? 'block' : 'none';\n",
       "\n",
       "      buttonEl.onclick = () => {\n",
       "        google.colab.notebook.generateWithVariable('df');\n",
       "      }\n",
       "      })();\n",
       "    </script>\n",
       "  </div>\n",
       "\n",
       "    </div>\n",
       "  </div>\n"
      ],
      "text/plain": [
       "                                               Sentence Sentiment\n",
       "0     The GeoSolutions technology will leverage Bene...  positive\n",
       "1     $ESI on lows, down $1.50 to $2.50 BK a real po...  negative\n",
       "2     For the last quarter of 2010 , Componenta 's n...  positive\n",
       "3     According to the Finnish-Russian Chamber of Co...   neutral\n",
       "4     The Swedish buyout firm has sold its remaining...   neutral\n",
       "...                                                 ...       ...\n",
       "5837  RISING costs have forced packaging producer Hu...  negative\n",
       "5838  Nordic Walking was first used as a summer trai...   neutral\n",
       "5839  According shipping company Viking Line , the E...   neutral\n",
       "5840  In the building and home improvement trade , s...   neutral\n",
       "5841  HELSINKI AFX - KCI Konecranes said it has won ...  positive\n",
       "\n",
       "[5842 rows x 2 columns]"
      ]
     },
     "execution_count": 5,
     "metadata": {},
     "output_type": "execute_result"
    }
   ],
   "source": [
    "df"
   ]
  },
  {
   "cell_type": "code",
   "execution_count": 6,
   "metadata": {
    "colab": {
     "base_uri": "https://localhost:8080/"
    },
    "executionInfo": {
     "elapsed": 8,
     "status": "ok",
     "timestamp": 1753295156677,
     "user": {
      "displayName": "Belusochim Ogwumike Ugochukwu",
      "userId": "15099275448381681588"
     },
     "user_tz": 420
    },
    "id": "sb37y48t-xyI",
    "outputId": "3fa72fd9-b11e-4d14-a941-724599c1d407"
   },
   "outputs": [
    {
     "data": {
      "text/plain": [
       "(5842, 2)"
      ]
     },
     "execution_count": 6,
     "metadata": {},
     "output_type": "execute_result"
    }
   ],
   "source": [
    "df.shape"
   ]
  },
  {
   "cell_type": "code",
   "execution_count": 7,
   "metadata": {
    "colab": {
     "base_uri": "https://localhost:8080/",
     "height": 210
    },
    "executionInfo": {
     "elapsed": 11,
     "status": "ok",
     "timestamp": 1753295157808,
     "user": {
      "displayName": "Belusochim Ogwumike Ugochukwu",
      "userId": "15099275448381681588"
     },
     "user_tz": 420
    },
    "id": "CuMJjpStRPlE",
    "outputId": "5ae65841-b292-4098-a327-9e8546beac53"
   },
   "outputs": [
    {
     "data": {
      "text/html": [
       "<div>\n",
       "<style scoped>\n",
       "    .dataframe tbody tr th:only-of-type {\n",
       "        vertical-align: middle;\n",
       "    }\n",
       "\n",
       "    .dataframe tbody tr th {\n",
       "        vertical-align: top;\n",
       "    }\n",
       "\n",
       "    .dataframe thead th {\n",
       "        text-align: right;\n",
       "    }\n",
       "</style>\n",
       "<table border=\"1\" class=\"dataframe\">\n",
       "  <thead>\n",
       "    <tr style=\"text-align: right;\">\n",
       "      <th></th>\n",
       "      <th>proportion</th>\n",
       "    </tr>\n",
       "    <tr>\n",
       "      <th>Sentiment</th>\n",
       "      <th></th>\n",
       "    </tr>\n",
       "  </thead>\n",
       "  <tbody>\n",
       "    <tr>\n",
       "      <th>neutral</th>\n",
       "      <td>0.535775</td>\n",
       "    </tr>\n",
       "    <tr>\n",
       "      <th>positive</th>\n",
       "      <td>0.317015</td>\n",
       "    </tr>\n",
       "    <tr>\n",
       "      <th>negative</th>\n",
       "      <td>0.147210</td>\n",
       "    </tr>\n",
       "  </tbody>\n",
       "</table>\n",
       "</div><br><label><b>dtype:</b> float64</label>"
      ],
      "text/plain": [
       "Sentiment\n",
       "neutral     0.535775\n",
       "positive    0.317015\n",
       "negative    0.147210\n",
       "Name: proportion, dtype: float64"
      ]
     },
     "execution_count": 7,
     "metadata": {},
     "output_type": "execute_result"
    }
   ],
   "source": [
    "df[\"Sentiment\"].value_counts(normalize=True) #Checking the balance of our classes\n",
    "#We can see a big class imbalance as negative is underrepresented."
   ]
  },
  {
   "cell_type": "code",
   "execution_count": 8,
   "metadata": {
    "executionInfo": {
     "elapsed": 1,
     "status": "ok",
     "timestamp": 1753295159613,
     "user": {
      "displayName": "Belusochim Ogwumike Ugochukwu",
      "userId": "15099275448381681588"
     },
     "user_tz": 420
    },
    "id": "YSvvcUMdQ4df"
   },
   "outputs": [],
   "source": [
    "#Bert Trainer assumes the label(sentence) is called text\n",
    "df.rename({\"Sentence\" : \"text\"}, axis = 1, inplace = True) # Change summary to text"
   ]
  },
  {
   "cell_type": "markdown",
   "metadata": {
    "id": "8F_8eBtG_Tra"
   },
   "source": [
    "\n",
    "# **For NLP, Sentences are converted to Token and then changed to embeddings in a vector space.**\n",
    "---\n",
    "Tokens - Sentences are broken into individual words\n",
    "\n",
    "Embeddings - Converts tokens to vectors that makes it easy for the model to train and understand has another word semantically correlates with other words.\n",
    "\n"
   ]
  },
  {
   "cell_type": "code",
   "execution_count": 12,
   "metadata": {
    "executionInfo": {
     "elapsed": 11,
     "status": "ok",
     "timestamp": 1753294255890,
     "user": {
      "displayName": "Belusochim Ogwumike Ugochukwu",
      "userId": "15099275448381681588"
     },
     "user_tz": 420
    },
    "id": "hGlhfP1bCETT"
   },
   "outputs": [],
   "source": [
    "# Attention is all you need Paper : https://arxiv.org/pdf/1706.03762"
   ]
  },
  {
   "cell_type": "code",
   "execution_count": 10,
   "metadata": {
    "executionInfo": {
     "elapsed": 3057,
     "status": "ok",
     "timestamp": 1753295232721,
     "user": {
      "displayName": "Belusochim Ogwumike Ugochukwu",
      "userId": "15099275448381681588"
     },
     "user_tz": 420
    },
    "id": "J8-DM469ig6W"
   },
   "outputs": [],
   "source": [
    "# Model name from Model Hub\n",
    "model_name = 'yiyanghkust/finbert-tone'\n",
    "# Load model\n",
    "model = AutoModelForSequenceClassification.from_pretrained(model_name).to(device)\n",
    "# Load tokenizer\n",
    "tokenizer = AutoTokenizer.from_pretrained(model_name)"
   ]
  },
  {
   "cell_type": "code",
   "execution_count": 11,
   "metadata": {
    "colab": {
     "base_uri": "https://localhost:8080/"
    },
    "executionInfo": {
     "elapsed": 5,
     "status": "ok",
     "timestamp": 1753295234358,
     "user": {
      "displayName": "Belusochim Ogwumike Ugochukwu",
      "userId": "15099275448381681588"
     },
     "user_tz": 420
    },
    "id": "18OwUwilBsea",
    "outputId": "8ac46e43-a23c-4812-c929-92701a1ba404"
   },
   "outputs": [
    {
     "data": {
      "text/plain": [
       "BertConfig {\n",
       "  \"architectures\": [\n",
       "    \"BertForSequenceClassification\"\n",
       "  ],\n",
       "  \"attention_probs_dropout_prob\": 0.1,\n",
       "  \"classifier_dropout\": null,\n",
       "  \"hidden_act\": \"gelu\",\n",
       "  \"hidden_dropout_prob\": 0.1,\n",
       "  \"hidden_size\": 768,\n",
       "  \"id2label\": {\n",
       "    \"0\": \"Neutral\",\n",
       "    \"1\": \"Positive\",\n",
       "    \"2\": \"Negative\"\n",
       "  },\n",
       "  \"initializer_range\": 0.02,\n",
       "  \"intermediate_size\": 3072,\n",
       "  \"label2id\": {\n",
       "    \"Negative\": 2,\n",
       "    \"Neutral\": 0,\n",
       "    \"Positive\": 1\n",
       "  },\n",
       "  \"layer_norm_eps\": 1e-12,\n",
       "  \"max_position_embeddings\": 512,\n",
       "  \"model_type\": \"bert\",\n",
       "  \"num_attention_heads\": 12,\n",
       "  \"num_hidden_layers\": 12,\n",
       "  \"pad_token_id\": 0,\n",
       "  \"position_embedding_type\": \"absolute\",\n",
       "  \"torch_dtype\": \"float32\",\n",
       "  \"transformers_version\": \"4.53.3\",\n",
       "  \"type_vocab_size\": 2,\n",
       "  \"use_cache\": true,\n",
       "  \"vocab_size\": 30873\n",
       "}"
      ]
     },
     "execution_count": 11,
     "metadata": {},
     "output_type": "execute_result"
    }
   ],
   "source": [
    "model.config"
   ]
  },
  {
   "cell_type": "code",
   "execution_count": 12,
   "metadata": {
    "colab": {
     "base_uri": "https://localhost:8080/"
    },
    "executionInfo": {
     "elapsed": 4,
     "status": "ok",
     "timestamp": 1753295236654,
     "user": {
      "displayName": "Belusochim Ogwumike Ugochukwu",
      "userId": "15099275448381681588"
     },
     "user_tz": 420
    },
    "id": "blsSiheWBsbI",
    "outputId": "41bb73d3-01a1-45ce-d043-a3b0c9cedd8c"
   },
   "outputs": [
    {
     "data": {
      "text/plain": [
       "{0: 'Neutral', 1: 'Positive', 2: 'Negative'}"
      ]
     },
     "execution_count": 12,
     "metadata": {},
     "output_type": "execute_result"
    }
   ],
   "source": [
    "id2label =  model.config.id2label\n",
    "id2label"
   ]
  },
  {
   "cell_type": "markdown",
   "metadata": {
    "id": "fN-6_DqCClUd"
   },
   "source": [
    "###Convert Sentence to Tokens"
   ]
  },
  {
   "cell_type": "code",
   "execution_count": 13,
   "metadata": {
    "executionInfo": {
     "elapsed": 17,
     "status": "ok",
     "timestamp": 1753295238534,
     "user": {
      "displayName": "Belusochim Ogwumike Ugochukwu",
      "userId": "15099275448381681588"
     },
     "user_tz": 420
    },
    "id": "th7XPhQmBsY8"
   },
   "outputs": [],
   "source": [
    "sentence = \"Because of the New Trump Tariffs, the agriculture market stock is likely to fail\""
   ]
  },
  {
   "cell_type": "code",
   "execution_count": 14,
   "metadata": {
    "executionInfo": {
     "elapsed": 40,
     "status": "ok",
     "timestamp": 1753295240252,
     "user": {
      "displayName": "Belusochim Ogwumike Ugochukwu",
      "userId": "15099275448381681588"
     },
     "user_tz": 420
    },
    "id": "UnJcU_B-BsWP"
   },
   "outputs": [],
   "source": [
    "inputs = tokenizer(sentence, return_tensors = \"pt\", padding = True, truncation = True, max_length = 512)\n"
   ]
  },
  {
   "cell_type": "code",
   "execution_count": 15,
   "metadata": {
    "colab": {
     "base_uri": "https://localhost:8080/"
    },
    "executionInfo": {
     "elapsed": 21,
     "status": "ok",
     "timestamp": 1753295242899,
     "user": {
      "displayName": "Belusochim Ogwumike Ugochukwu",
      "userId": "15099275448381681588"
     },
     "user_tz": 420
    },
    "id": "KWiFyx5mBsT6",
    "outputId": "134ab118-fbe9-4f97-b173-495a90f7968b"
   },
   "outputs": [
    {
     "data": {
      "text/plain": [
       "{'input_ids': tensor([[    3,   238,     7,     6,    56, 18960,  7458,   585,     6, 10164,\n",
       "            52,    93,    17,   419,     9,  1485,     4]]), 'token_type_ids': tensor([[0, 0, 0, 0, 0, 0, 0, 0, 0, 0, 0, 0, 0, 0, 0, 0, 0]]), 'attention_mask': tensor([[1, 1, 1, 1, 1, 1, 1, 1, 1, 1, 1, 1, 1, 1, 1, 1, 1]])}"
      ]
     },
     "execution_count": 15,
     "metadata": {},
     "output_type": "execute_result"
    }
   ],
   "source": [
    "inputs"
   ]
  },
  {
   "cell_type": "code",
   "execution_count": 16,
   "metadata": {
    "executionInfo": {
     "elapsed": 2,
     "status": "ok",
     "timestamp": 1753295244171,
     "user": {
      "displayName": "Belusochim Ogwumike Ugochukwu",
      "userId": "15099275448381681588"
     },
     "user_tz": 420
    },
    "id": "1qaWIFWlBsRW"
   },
   "outputs": [],
   "source": [
    "#Put all tensors on same device\n",
    "inputs = {k:v.to(device) for k,v in inputs.items()}"
   ]
  },
  {
   "cell_type": "code",
   "execution_count": 17,
   "metadata": {
    "colab": {
     "base_uri": "https://localhost:8080/"
    },
    "executionInfo": {
     "elapsed": 15,
     "status": "ok",
     "timestamp": 1753295246069,
     "user": {
      "displayName": "Belusochim Ogwumike Ugochukwu",
      "userId": "15099275448381681588"
     },
     "user_tz": 420
    },
    "id": "yWJxlA26BsM7",
    "outputId": "b62d47a0-2a4d-44fa-8d5d-670bc24ba10c"
   },
   "outputs": [
    {
     "data": {
      "text/plain": [
       "{'input_ids': tensor([[    3,   238,     7,     6,    56, 18960,  7458,   585,     6, 10164,\n",
       "             52,    93,    17,   419,     9,  1485,     4]], device='cuda:0'),\n",
       " 'token_type_ids': tensor([[0, 0, 0, 0, 0, 0, 0, 0, 0, 0, 0, 0, 0, 0, 0, 0, 0]], device='cuda:0'),\n",
       " 'attention_mask': tensor([[1, 1, 1, 1, 1, 1, 1, 1, 1, 1, 1, 1, 1, 1, 1, 1, 1]], device='cuda:0')}"
      ]
     },
     "execution_count": 17,
     "metadata": {},
     "output_type": "execute_result"
    }
   ],
   "source": [
    "inputs"
   ]
  },
  {
   "cell_type": "code",
   "execution_count": 20,
   "metadata": {
    "executionInfo": {
     "elapsed": 4,
     "status": "ok",
     "timestamp": 1753294256016,
     "user": {
      "displayName": "Belusochim Ogwumike Ugochukwu",
      "userId": "15099275448381681588"
     },
     "user_tz": 420
    },
    "id": "7IIta2-VD1zl"
   },
   "outputs": [],
   "source": [
    "#Make prediction on tokens"
   ]
  },
  {
   "cell_type": "code",
   "execution_count": 18,
   "metadata": {
    "colab": {
     "base_uri": "https://localhost:8080/"
    },
    "executionInfo": {
     "elapsed": 250,
     "status": "ok",
     "timestamp": 1753295248063,
     "user": {
      "displayName": "Belusochim Ogwumike Ugochukwu",
      "userId": "15099275448381681588"
     },
     "user_tz": 420
    },
    "id": "3PiiI4_UD4gy",
    "outputId": "2f7c68e9-2e05-4f33-e8e5-cce1210c6206"
   },
   "outputs": [
    {
     "data": {
      "text/plain": [
       "SequenceClassifierOutput(loss=None, logits=tensor([[-3.4463, -3.4584,  8.8568]], device='cuda:0'), hidden_states=None, attentions=None)"
      ]
     },
     "execution_count": 18,
     "metadata": {},
     "output_type": "execute_result"
    }
   ],
   "source": [
    "with torch.no_grad():\n",
    "  outputs = model(**inputs)\n",
    "outputs"
   ]
  },
  {
   "cell_type": "code",
   "execution_count": 21,
   "metadata": {
    "executionInfo": {
     "elapsed": 8,
     "status": "ok",
     "timestamp": 1753295265276,
     "user": {
      "displayName": "Belusochim Ogwumike Ugochukwu",
      "userId": "15099275448381681588"
     },
     "user_tz": 420
    },
    "id": "qRHcRr2IEHPY"
   },
   "outputs": [],
   "source": [
    "predictions = np.argmax(outputs.logits.cpu().numpy(), axis =1)"
   ]
  },
  {
   "cell_type": "code",
   "execution_count": 22,
   "metadata": {
    "colab": {
     "base_uri": "https://localhost:8080/"
    },
    "executionInfo": {
     "elapsed": 14,
     "status": "ok",
     "timestamp": 1753295267748,
     "user": {
      "displayName": "Belusochim Ogwumike Ugochukwu",
      "userId": "15099275448381681588"
     },
     "user_tz": 420
    },
    "id": "mfy31KaUEQsy",
    "outputId": "851bdac3-dd1f-4627-c4f5-e49c54fc1a47"
   },
   "outputs": [
    {
     "data": {
      "text/plain": [
       "array([2])"
      ]
     },
     "execution_count": 22,
     "metadata": {},
     "output_type": "execute_result"
    }
   ],
   "source": [
    "predictions"
   ]
  },
  {
   "cell_type": "code",
   "execution_count": 23,
   "metadata": {
    "executionInfo": {
     "elapsed": 46,
     "status": "ok",
     "timestamp": 1753295269113,
     "user": {
      "displayName": "Belusochim Ogwumike Ugochukwu",
      "userId": "15099275448381681588"
     },
     "user_tz": 420
    },
    "id": "wG5QrCFSEngM"
   },
   "outputs": [],
   "source": [
    "mapped_label = [id2label[element] for element in predictions]"
   ]
  },
  {
   "cell_type": "markdown",
   "metadata": {
    "id": "Inr1YEsQGvfa"
   },
   "source": [
    "We Could construct it as an NLP Pipeline Using the Hugging face pipeline feature"
   ]
  },
  {
   "cell_type": "code",
   "execution_count": 24,
   "metadata": {
    "colab": {
     "base_uri": "https://localhost:8080/"
    },
    "executionInfo": {
     "elapsed": 25,
     "status": "ok",
     "timestamp": 1753295270906,
     "user": {
      "displayName": "Belusochim Ogwumike Ugochukwu",
      "userId": "15099275448381681588"
     },
     "user_tz": 420
    },
    "id": "FAPTSV0xEwIV",
    "outputId": "0a012619-eb8f-453f-e7d2-ff0e229c529d"
   },
   "outputs": [
    {
     "data": {
      "text/plain": [
       "['Negative']"
      ]
     },
     "execution_count": 24,
     "metadata": {},
     "output_type": "execute_result"
    }
   ],
   "source": [
    "mapped_label # The Sentence produces a negative Sentiment"
   ]
  },
  {
   "cell_type": "markdown",
   "metadata": {
    "id": "FLsPSs8DG6TU"
   },
   "source": [
    "We can change it to an NLP pipeline using the hugging face feature"
   ]
  },
  {
   "cell_type": "code",
   "execution_count": 56,
   "metadata": {
    "executionInfo": {
     "elapsed": 945,
     "status": "ok",
     "timestamp": 1753294698494,
     "user": {
      "displayName": "Belusochim Ogwumike Ugochukwu",
      "userId": "15099275448381681588"
     },
     "user_tz": 420
    },
    "id": "FvsVAhWBgX3q"
   },
   "outputs": [],
   "source": []
  },
  {
   "cell_type": "code",
   "execution_count": 25,
   "metadata": {
    "colab": {
     "base_uri": "https://localhost:8080/"
    },
    "executionInfo": {
     "elapsed": 5,
     "status": "ok",
     "timestamp": 1753295276460,
     "user": {
      "displayName": "Belusochim Ogwumike Ugochukwu",
      "userId": "15099275448381681588"
     },
     "user_tz": 420
    },
    "id": "RR2_aiCbHL1n",
    "outputId": "e8fefbf2-ed13-4736-f677-e384187cc891"
   },
   "outputs": [
    {
     "name": "stderr",
     "output_type": "stream",
     "text": [
      "Device set to use cuda:0\n"
     ]
    }
   ],
   "source": [
    "sentiment_pipeline = pipeline(task =\"sentiment-analysis\", model =model, tokenizer = tokenizer, batch_size= 128, device = device)"
   ]
  },
  {
   "cell_type": "code",
   "execution_count": 26,
   "metadata": {
    "executionInfo": {
     "elapsed": 25796,
     "status": "ok",
     "timestamp": 1753295312283,
     "user": {
      "displayName": "Belusochim Ogwumike Ugochukwu",
      "userId": "15099275448381681588"
     },
     "user_tz": 420
    },
    "id": "dmqtbmArHLyv"
   },
   "outputs": [],
   "source": [
    "preds = sentiment_pipeline(df[\"text\"].tolist())"
   ]
  },
  {
   "cell_type": "code",
   "execution_count": 27,
   "metadata": {
    "colab": {
     "base_uri": "https://localhost:8080/"
    },
    "executionInfo": {
     "elapsed": 44,
     "status": "ok",
     "timestamp": 1753295325672,
     "user": {
      "displayName": "Belusochim Ogwumike Ugochukwu",
      "userId": "15099275448381681588"
     },
     "user_tz": 420
    },
    "id": "nODYcUl8HLv9",
    "outputId": "7a829083-ebc7-4bcd-86e7-a2a4ff65bbc5"
   },
   "outputs": [
    {
     "data": {
      "text/plain": [
       "[{'label': 'Positive', 'score': 0.998542070388794},\n",
       " {'label': 'Negative', 'score': 0.9954423904418945},\n",
       " {'label': 'Positive', 'score': 0.9999998807907104},\n",
       " {'label': 'Neutral', 'score': 0.9999959468841553},\n",
       " {'label': 'Neutral', 'score': 0.999997615814209},\n",
       " {'label': 'Neutral', 'score': 0.9950066804885864},\n",
       " {'label': 'Positive', 'score': 0.9998606443405151},\n",
       " {'label': 'Neutral', 'score': 0.999988317489624},\n",
       " {'label': 'Positive', 'score': 0.9999998807907104},\n",
       " {'label': 'Neutral', 'score': 0.9999980926513672},\n",
       " {'label': 'Positive', 'score': 0.9999853372573853},\n",
       " {'label': 'Negative', 'score': 0.999984860420227},\n",
       " {'label': 'Neutral', 'score': 0.9999676942825317},\n",
       " {'label': 'Negative', 'score': 0.9952989220619202},\n",
       " {'label': 'Neutral', 'score': 0.9999977350234985},\n",
       " {'label': 'Neutral', 'score': 0.9999911785125732},\n",
       " {'label': 'Positive', 'score': 1.0},\n",
       " {'label': 'Neutral', 'score': 0.9993795156478882},\n",
       " {'label': 'Neutral', 'score': 0.9999998807907104},\n",
       " {'label': 'Neutral', 'score': 0.9999992847442627},\n",
       " {'label': 'Neutral', 'score': 0.9999502897262573},\n",
       " {'label': 'Neutral', 'score': 0.9424554109573364},\n",
       " {'label': 'Neutral', 'score': 0.99998939037323},\n",
       " {'label': 'Neutral', 'score': 0.999976634979248},\n",
       " {'label': 'Neutral', 'score': 0.9999852180480957},\n",
       " {'label': 'Neutral', 'score': 0.9795588254928589},\n",
       " {'label': 'Positive', 'score': 0.9324114918708801},\n",
       " {'label': 'Neutral', 'score': 0.9999985694885254},\n",
       " {'label': 'Positive', 'score': 0.9907183051109314},\n",
       " {'label': 'Neutral', 'score': 0.9854824542999268},\n",
       " {'label': 'Neutral', 'score': 0.9999064207077026},\n",
       " {'label': 'Neutral', 'score': 0.9999997615814209},\n",
       " {'label': 'Positive', 'score': 0.9999994039535522},\n",
       " {'label': 'Neutral', 'score': 0.9997791647911072},\n",
       " {'label': 'Neutral', 'score': 0.9998175501823425},\n",
       " {'label': 'Neutral', 'score': 0.9999951124191284},\n",
       " {'label': 'Neutral', 'score': 0.8461660742759705},\n",
       " {'label': 'Negative', 'score': 0.929533839225769},\n",
       " {'label': 'Neutral', 'score': 0.9186480641365051},\n",
       " {'label': 'Negative', 'score': 0.9893297553062439},\n",
       " {'label': 'Neutral', 'score': 0.9999290704727173},\n",
       " {'label': 'Negative', 'score': 0.7858968377113342},\n",
       " {'label': 'Negative', 'score': 0.9999977350234985},\n",
       " {'label': 'Neutral', 'score': 0.9996441602706909},\n",
       " {'label': 'Neutral', 'score': 0.9986116886138916},\n",
       " {'label': 'Neutral', 'score': 0.9383612275123596},\n",
       " {'label': 'Neutral', 'score': 0.9999995231628418},\n",
       " {'label': 'Neutral', 'score': 0.9999978542327881},\n",
       " {'label': 'Positive', 'score': 0.9999994039535522},\n",
       " {'label': 'Neutral', 'score': 0.9999127388000488},\n",
       " {'label': 'Positive', 'score': 0.9999951124191284},\n",
       " {'label': 'Positive', 'score': 0.6062142848968506},\n",
       " {'label': 'Positive', 'score': 0.6993399858474731},\n",
       " {'label': 'Positive', 'score': 0.9999940395355225},\n",
       " {'label': 'Neutral', 'score': 0.9999935626983643},\n",
       " {'label': 'Positive', 'score': 0.9999996423721313},\n",
       " {'label': 'Neutral', 'score': 0.9999829530715942},\n",
       " {'label': 'Negative', 'score': 0.9858027696609497},\n",
       " {'label': 'Neutral', 'score': 0.9999986886978149},\n",
       " {'label': 'Neutral', 'score': 0.9999780654907227},\n",
       " {'label': 'Neutral', 'score': 0.8347369432449341},\n",
       " {'label': 'Neutral', 'score': 0.9999966621398926},\n",
       " {'label': 'Neutral', 'score': 0.9999797344207764},\n",
       " {'label': 'Negative', 'score': 0.9999669790267944},\n",
       " {'label': 'Neutral', 'score': 0.9952031373977661},\n",
       " {'label': 'Positive', 'score': 0.7887181043624878},\n",
       " {'label': 'Negative', 'score': 0.999998927116394},\n",
       " {'label': 'Neutral', 'score': 0.9999955892562866},\n",
       " {'label': 'Neutral', 'score': 0.9999909400939941},\n",
       " {'label': 'Negative', 'score': 0.9991725087165833},\n",
       " {'label': 'Neutral', 'score': 0.9997965693473816},\n",
       " {'label': 'Neutral', 'score': 0.9999994039535522},\n",
       " {'label': 'Neutral', 'score': 0.9999774694442749},\n",
       " {'label': 'Negative', 'score': 0.9979428648948669},\n",
       " {'label': 'Neutral', 'score': 0.9997379183769226},\n",
       " {'label': 'Negative', 'score': 0.9999815225601196},\n",
       " {'label': 'Positive', 'score': 0.999941349029541},\n",
       " {'label': 'Negative', 'score': 0.9999661445617676},\n",
       " {'label': 'Neutral', 'score': 0.4629226326942444},\n",
       " {'label': 'Neutral', 'score': 0.9999889135360718},\n",
       " {'label': 'Negative', 'score': 0.9999638795852661},\n",
       " {'label': 'Neutral', 'score': 0.9999994039535522},\n",
       " {'label': 'Neutral', 'score': 0.9898515939712524},\n",
       " {'label': 'Negative', 'score': 0.9877058863639832},\n",
       " {'label': 'Negative', 'score': 0.9999998807907104},\n",
       " {'label': 'Positive', 'score': 0.9999994039535522},\n",
       " {'label': 'Neutral', 'score': 0.9999977350234985},\n",
       " {'label': 'Neutral', 'score': 0.9815993905067444},\n",
       " {'label': 'Neutral', 'score': 0.9832801818847656},\n",
       " {'label': 'Neutral', 'score': 0.9999642372131348},\n",
       " {'label': 'Positive', 'score': 0.9913232326507568},\n",
       " {'label': 'Negative', 'score': 0.9999927282333374},\n",
       " {'label': 'Positive', 'score': 0.9999734163284302},\n",
       " {'label': 'Neutral', 'score': 0.9999942779541016},\n",
       " {'label': 'Neutral', 'score': 0.9999985694885254},\n",
       " {'label': 'Neutral', 'score': 0.9997759461402893},\n",
       " {'label': 'Positive', 'score': 0.6552072167396545},\n",
       " {'label': 'Neutral', 'score': 0.9999967813491821},\n",
       " {'label': 'Neutral', 'score': 0.9974047541618347},\n",
       " {'label': 'Neutral', 'score': 0.9999017715454102},\n",
       " {'label': 'Negative', 'score': 0.9999333620071411},\n",
       " {'label': 'Neutral', 'score': 0.9994094371795654},\n",
       " {'label': 'Neutral', 'score': 0.9999593496322632},\n",
       " {'label': 'Positive', 'score': 0.5949564576148987},\n",
       " {'label': 'Neutral', 'score': 0.9999991655349731},\n",
       " {'label': 'Neutral', 'score': 0.9999722242355347},\n",
       " {'label': 'Positive', 'score': 0.9999998807907104},\n",
       " {'label': 'Neutral', 'score': 0.9999961853027344},\n",
       " {'label': 'Neutral', 'score': 0.8863310217857361},\n",
       " {'label': 'Negative', 'score': 0.9999963045120239},\n",
       " {'label': 'Neutral', 'score': 0.8963034749031067},\n",
       " {'label': 'Neutral', 'score': 0.999870777130127},\n",
       " {'label': 'Negative', 'score': 0.7974069714546204},\n",
       " {'label': 'Neutral', 'score': 0.9999071359634399},\n",
       " {'label': 'Negative', 'score': 0.9999995231628418},\n",
       " {'label': 'Neutral', 'score': 0.9999854564666748},\n",
       " {'label': 'Neutral', 'score': 0.9998328685760498},\n",
       " {'label': 'Neutral', 'score': 0.9999865293502808},\n",
       " {'label': 'Positive', 'score': 0.9999998807907104},\n",
       " {'label': 'Neutral', 'score': 0.9996992349624634},\n",
       " {'label': 'Positive', 'score': 0.9999997615814209},\n",
       " {'label': 'Neutral', 'score': 0.9999608993530273},\n",
       " {'label': 'Positive', 'score': 0.8262288570404053},\n",
       " {'label': 'Negative', 'score': 0.762791633605957},\n",
       " {'label': 'Neutral', 'score': 0.9998759031295776},\n",
       " {'label': 'Negative', 'score': 0.9999997615814209},\n",
       " {'label': 'Neutral', 'score': 0.9885143637657166},\n",
       " {'label': 'Neutral', 'score': 0.999991774559021},\n",
       " {'label': 'Positive', 'score': 0.9999955892562866},\n",
       " {'label': 'Neutral', 'score': 0.9998558759689331},\n",
       " {'label': 'Neutral', 'score': 0.9999967813491821},\n",
       " {'label': 'Neutral', 'score': 0.9999665021896362},\n",
       " {'label': 'Neutral', 'score': 0.9999997615814209},\n",
       " {'label': 'Neutral', 'score': 0.9999983310699463},\n",
       " {'label': 'Neutral', 'score': 0.9999017715454102},\n",
       " {'label': 'Positive', 'score': 0.6577505469322205},\n",
       " {'label': 'Neutral', 'score': 0.9998724460601807},\n",
       " {'label': 'Neutral', 'score': 0.9888695478439331},\n",
       " {'label': 'Neutral', 'score': 0.9999992847442627},\n",
       " {'label': 'Positive', 'score': 0.9999858140945435},\n",
       " {'label': 'Neutral', 'score': 0.9999957084655762},\n",
       " {'label': 'Neutral', 'score': 0.9999992847442627},\n",
       " {'label': 'Neutral', 'score': 0.9999635219573975},\n",
       " {'label': 'Neutral', 'score': 0.9985752105712891},\n",
       " {'label': 'Neutral', 'score': 0.9998267292976379},\n",
       " {'label': 'Positive', 'score': 0.9999998807907104},\n",
       " {'label': 'Negative', 'score': 0.9990645051002502},\n",
       " {'label': 'Positive', 'score': 0.9982605576515198},\n",
       " {'label': 'Positive', 'score': 0.6411362290382385},\n",
       " {'label': 'Neutral', 'score': 0.9999924898147583},\n",
       " {'label': 'Positive', 'score': 0.9993676543235779},\n",
       " {'label': 'Neutral', 'score': 0.9999985694885254},\n",
       " {'label': 'Neutral', 'score': 0.9990906715393066},\n",
       " {'label': 'Neutral', 'score': 0.9870468378067017},\n",
       " {'label': 'Neutral', 'score': 0.9153790473937988},\n",
       " {'label': 'Positive', 'score': 0.9998296499252319},\n",
       " {'label': 'Positive', 'score': 0.9999995231628418},\n",
       " {'label': 'Neutral', 'score': 0.9999653100967407},\n",
       " {'label': 'Neutral', 'score': 0.999988317489624},\n",
       " {'label': 'Neutral', 'score': 0.9999911785125732},\n",
       " {'label': 'Neutral', 'score': 0.9999982118606567},\n",
       " {'label': 'Neutral', 'score': 0.999997615814209},\n",
       " {'label': 'Neutral', 'score': 0.9993119239807129},\n",
       " {'label': 'Negative', 'score': 0.9999985694885254},\n",
       " {'label': 'Neutral', 'score': 0.9997467398643494},\n",
       " {'label': 'Positive', 'score': 0.6699970364570618},\n",
       " {'label': 'Neutral', 'score': 0.999985933303833},\n",
       " {'label': 'Neutral', 'score': 0.9988069534301758},\n",
       " {'label': 'Positive', 'score': 0.999995231628418},\n",
       " {'label': 'Negative', 'score': 0.927004337310791},\n",
       " {'label': 'Neutral', 'score': 0.995121419429779},\n",
       " {'label': 'Neutral', 'score': 0.9999617338180542},\n",
       " {'label': 'Negative', 'score': 0.8580037355422974},\n",
       " {'label': 'Negative', 'score': 0.6353940367698669},\n",
       " {'label': 'Positive', 'score': 0.9975957274436951},\n",
       " {'label': 'Negative', 'score': 0.9901783466339111},\n",
       " {'label': 'Positive', 'score': 0.9999998807907104},\n",
       " {'label': 'Positive', 'score': 0.999994158744812},\n",
       " {'label': 'Neutral', 'score': 0.9999873638153076},\n",
       " {'label': 'Neutral', 'score': 0.9999130964279175},\n",
       " {'label': 'Neutral', 'score': 0.9999997615814209},\n",
       " {'label': 'Positive', 'score': 0.999715268611908},\n",
       " {'label': 'Neutral', 'score': 0.9947144389152527},\n",
       " {'label': 'Neutral', 'score': 0.9999996423721313},\n",
       " {'label': 'Positive', 'score': 0.9999998807907104},\n",
       " {'label': 'Neutral', 'score': 0.9999833106994629},\n",
       " {'label': 'Negative', 'score': 0.9999991655349731},\n",
       " {'label': 'Neutral', 'score': 0.9999996423721313},\n",
       " {'label': 'Neutral', 'score': 0.9998466968536377},\n",
       " {'label': 'Positive', 'score': 0.9648929834365845},\n",
       " {'label': 'Neutral', 'score': 0.9999974966049194},\n",
       " {'label': 'Neutral', 'score': 0.9995001554489136},\n",
       " {'label': 'Negative', 'score': 0.9971327781677246},\n",
       " {'label': 'Neutral', 'score': 0.9999990463256836},\n",
       " {'label': 'Neutral', 'score': 0.9999979734420776},\n",
       " {'label': 'Negative', 'score': 0.9999996423721313},\n",
       " {'label': 'Neutral', 'score': 0.9870529770851135},\n",
       " {'label': 'Neutral', 'score': 0.9999669790267944},\n",
       " {'label': 'Neutral', 'score': 0.9743943810462952},\n",
       " {'label': 'Neutral', 'score': 0.9999676942825317},\n",
       " {'label': 'Negative', 'score': 0.998335063457489},\n",
       " {'label': 'Negative', 'score': 0.9932311773300171},\n",
       " {'label': 'Positive', 'score': 0.9999997615814209},\n",
       " {'label': 'Neutral', 'score': 0.9999964237213135},\n",
       " {'label': 'Neutral', 'score': 0.9999892711639404},\n",
       " {'label': 'Negative', 'score': 0.9945412278175354},\n",
       " {'label': 'Negative', 'score': 0.9999818801879883},\n",
       " {'label': 'Neutral', 'score': 0.8774926066398621},\n",
       " {'label': 'Neutral', 'score': 0.9999858140945435},\n",
       " {'label': 'Neutral', 'score': 0.9998893737792969},\n",
       " {'label': 'Positive', 'score': 0.9993897676467896},\n",
       " {'label': 'Neutral', 'score': 0.9999982118606567},\n",
       " {'label': 'Negative', 'score': 0.9999935626983643},\n",
       " {'label': 'Neutral', 'score': 0.9999974966049194},\n",
       " {'label': 'Neutral', 'score': 0.9935958981513977},\n",
       " {'label': 'Neutral', 'score': 0.9999986886978149},\n",
       " {'label': 'Neutral', 'score': 0.9999843835830688},\n",
       " {'label': 'Negative', 'score': 0.9999690055847168},\n",
       " {'label': 'Neutral', 'score': 0.9982373714447021},\n",
       " {'label': 'Neutral', 'score': 0.9999774694442749},\n",
       " {'label': 'Positive', 'score': 1.0},\n",
       " {'label': 'Negative', 'score': 0.9999995231628418},\n",
       " {'label': 'Neutral', 'score': 0.9999953508377075},\n",
       " {'label': 'Neutral', 'score': 0.9989603757858276},\n",
       " {'label': 'Positive', 'score': 0.9999992847442627},\n",
       " {'label': 'Neutral', 'score': 0.9999006986618042},\n",
       " {'label': 'Negative', 'score': 0.9999866485595703},\n",
       " {'label': 'Positive', 'score': 0.9999998807907104},\n",
       " {'label': 'Neutral', 'score': 0.9492449760437012},\n",
       " {'label': 'Positive', 'score': 1.0},\n",
       " {'label': 'Neutral', 'score': 0.9999995231628418},\n",
       " {'label': 'Neutral', 'score': 0.9999629259109497},\n",
       " {'label': 'Positive', 'score': 0.999599039554596},\n",
       " {'label': 'Negative', 'score': 0.9983217120170593},\n",
       " {'label': 'Negative', 'score': 0.999950647354126},\n",
       " {'label': 'Negative', 'score': 0.9999998807907104},\n",
       " {'label': 'Neutral', 'score': 0.9999988079071045},\n",
       " {'label': 'Neutral', 'score': 0.8407889008522034},\n",
       " {'label': 'Negative', 'score': 0.9999998807907104},\n",
       " {'label': 'Neutral', 'score': 0.8821026086807251},\n",
       " {'label': 'Neutral', 'score': 0.9999994039535522},\n",
       " {'label': 'Positive', 'score': 0.9999998807907104},\n",
       " {'label': 'Neutral', 'score': 0.9999632835388184},\n",
       " {'label': 'Positive', 'score': 0.9997534155845642},\n",
       " {'label': 'Neutral', 'score': 0.9942265748977661},\n",
       " {'label': 'Neutral', 'score': 0.9840488433837891},\n",
       " {'label': 'Positive', 'score': 0.9999991655349731},\n",
       " {'label': 'Neutral', 'score': 0.9926655888557434},\n",
       " {'label': 'Negative', 'score': 0.9999996423721313},\n",
       " {'label': 'Neutral', 'score': 0.9999779462814331},\n",
       " {'label': 'Neutral', 'score': 0.9999648332595825},\n",
       " {'label': 'Neutral', 'score': 0.9999840259552002},\n",
       " {'label': 'Negative', 'score': 0.9999328851699829},\n",
       " {'label': 'Neutral', 'score': 0.9998602867126465},\n",
       " {'label': 'Neutral', 'score': 0.9999785423278809},\n",
       " {'label': 'Positive', 'score': 0.858799397945404},\n",
       " {'label': 'Neutral', 'score': 0.9999792575836182},\n",
       " {'label': 'Negative', 'score': 0.9990206956863403},\n",
       " {'label': 'Neutral', 'score': 0.9999909400939941},\n",
       " {'label': 'Negative', 'score': 0.9289677739143372},\n",
       " {'label': 'Neutral', 'score': 0.9999957084655762},\n",
       " {'label': 'Negative', 'score': 0.9994899034500122},\n",
       " {'label': 'Neutral', 'score': 0.9999886751174927},\n",
       " {'label': 'Neutral', 'score': 0.9999862909317017},\n",
       " {'label': 'Positive', 'score': 0.8026196956634521},\n",
       " {'label': 'Neutral', 'score': 0.9961627721786499},\n",
       " {'label': 'Negative', 'score': 0.999998927116394},\n",
       " {'label': 'Neutral', 'score': 0.9999986886978149},\n",
       " {'label': 'Positive', 'score': 0.9993390440940857},\n",
       " {'label': 'Negative', 'score': 0.9999997615814209},\n",
       " {'label': 'Negative', 'score': 0.9999985694885254},\n",
       " {'label': 'Neutral', 'score': 0.47616520524024963},\n",
       " {'label': 'Neutral', 'score': 0.9999927282333374},\n",
       " {'label': 'Neutral', 'score': 0.9996815919876099},\n",
       " {'label': 'Neutral', 'score': 0.9981086254119873},\n",
       " {'label': 'Neutral', 'score': 0.9957927465438843},\n",
       " {'label': 'Neutral', 'score': 0.9999997615814209},\n",
       " {'label': 'Neutral', 'score': 0.9981661438941956},\n",
       " {'label': 'Positive', 'score': 0.9999998807907104},\n",
       " {'label': 'Neutral', 'score': 0.9997512698173523},\n",
       " {'label': 'Neutral', 'score': 0.999998927116394},\n",
       " {'label': 'Positive', 'score': 1.0},\n",
       " {'label': 'Neutral', 'score': 0.9999936819076538},\n",
       " {'label': 'Negative', 'score': 0.9999985694885254},\n",
       " {'label': 'Neutral', 'score': 0.9999269247055054},\n",
       " {'label': 'Neutral', 'score': 0.9999616146087646},\n",
       " {'label': 'Negative', 'score': 0.8329032063484192},\n",
       " {'label': 'Neutral', 'score': 0.999998927116394},\n",
       " {'label': 'Neutral', 'score': 0.9981759786605835},\n",
       " {'label': 'Negative', 'score': 0.6570975184440613},\n",
       " {'label': 'Neutral', 'score': 0.9999990463256836},\n",
       " {'label': 'Positive', 'score': 0.9995915293693542},\n",
       " {'label': 'Neutral', 'score': 0.9276708960533142},\n",
       " {'label': 'Negative', 'score': 0.9999871253967285},\n",
       " {'label': 'Positive', 'score': 1.0},\n",
       " {'label': 'Neutral', 'score': 0.9999778270721436},\n",
       " {'label': 'Positive', 'score': 0.9999997615814209},\n",
       " {'label': 'Neutral', 'score': 0.9990100860595703},\n",
       " {'label': 'Neutral', 'score': 0.9999287128448486},\n",
       " {'label': 'Positive', 'score': 0.9999966621398926},\n",
       " {'label': 'Neutral', 'score': 0.9999403953552246},\n",
       " {'label': 'Neutral', 'score': 0.9840354323387146},\n",
       " {'label': 'Positive', 'score': 0.9999986886978149},\n",
       " {'label': 'Neutral', 'score': 0.9999983310699463},\n",
       " {'label': 'Negative', 'score': 0.9999995231628418},\n",
       " {'label': 'Neutral', 'score': 0.9997054934501648},\n",
       " {'label': 'Neutral', 'score': 0.8125815987586975},\n",
       " {'label': 'Neutral', 'score': 0.999990701675415},\n",
       " {'label': 'Neutral', 'score': 0.9998881816864014},\n",
       " {'label': 'Positive', 'score': 0.9999998807907104},\n",
       " {'label': 'Negative', 'score': 0.9976288676261902},\n",
       " {'label': 'Neutral', 'score': 0.9999964237213135},\n",
       " {'label': 'Neutral', 'score': 0.9999802112579346},\n",
       " {'label': 'Neutral', 'score': 0.9999984502792358},\n",
       " {'label': 'Positive', 'score': 1.0},\n",
       " {'label': 'Neutral', 'score': 0.9999785423278809},\n",
       " {'label': 'Negative', 'score': 0.9999783039093018},\n",
       " {'label': 'Positive', 'score': 1.0},\n",
       " {'label': 'Neutral', 'score': 0.9999520778656006},\n",
       " {'label': 'Neutral', 'score': 0.9999860525131226},\n",
       " {'label': 'Neutral', 'score': 0.9998188614845276},\n",
       " {'label': 'Neutral', 'score': 0.9999648332595825},\n",
       " {'label': 'Negative', 'score': 0.9999873638153076},\n",
       " {'label': 'Positive', 'score': 0.5512180924415588},\n",
       " {'label': 'Neutral', 'score': 0.9993719458580017},\n",
       " {'label': 'Neutral', 'score': 0.9999971389770508},\n",
       " {'label': 'Positive', 'score': 0.9999086856842041},\n",
       " {'label': 'Neutral', 'score': 0.9999970197677612},\n",
       " {'label': 'Neutral', 'score': 0.9999450445175171},\n",
       " {'label': 'Negative', 'score': 0.9261448383331299},\n",
       " {'label': 'Neutral', 'score': 0.9991292357444763},\n",
       " {'label': 'Neutral', 'score': 0.999985933303833},\n",
       " {'label': 'Negative', 'score': 0.9999995231628418},\n",
       " {'label': 'Neutral', 'score': 0.9999954700469971},\n",
       " {'label': 'Neutral', 'score': 0.9999990463256836},\n",
       " {'label': 'Negative', 'score': 0.9986522793769836},\n",
       " {'label': 'Positive', 'score': 0.9820360541343689},\n",
       " {'label': 'Neutral', 'score': 0.9999992847442627},\n",
       " {'label': 'Neutral', 'score': 0.9999926090240479},\n",
       " {'label': 'Neutral', 'score': 0.9999786615371704},\n",
       " {'label': 'Negative', 'score': 0.9999339580535889},\n",
       " {'label': 'Positive', 'score': 0.8395664691925049},\n",
       " {'label': 'Neutral', 'score': 0.9998544454574585},\n",
       " {'label': 'Neutral', 'score': 0.7764204740524292},\n",
       " {'label': 'Positive', 'score': 0.9999849796295166},\n",
       " {'label': 'Neutral', 'score': 0.9946674108505249},\n",
       " {'label': 'Neutral', 'score': 0.999980092048645},\n",
       " {'label': 'Negative', 'score': 0.8102357387542725},\n",
       " {'label': 'Neutral', 'score': 0.9999954700469971},\n",
       " {'label': 'Negative', 'score': 0.9999996423721313},\n",
       " {'label': 'Neutral', 'score': 0.9999901056289673},\n",
       " {'label': 'Neutral', 'score': 0.9996589422225952},\n",
       " {'label': 'Neutral', 'score': 0.9999959468841553},\n",
       " {'label': 'Neutral', 'score': 0.999984860420227},\n",
       " {'label': 'Neutral', 'score': 0.9999983310699463},\n",
       " {'label': 'Neutral', 'score': 0.9996333122253418},\n",
       " {'label': 'Neutral', 'score': 0.999963641166687},\n",
       " {'label': 'Neutral', 'score': 0.9999836683273315},\n",
       " {'label': 'Neutral', 'score': 0.9999911785125732},\n",
       " {'label': 'Neutral', 'score': 0.9999085664749146},\n",
       " {'label': 'Neutral', 'score': 0.9760737419128418},\n",
       " {'label': 'Neutral', 'score': 0.9998960494995117},\n",
       " {'label': 'Negative', 'score': 0.9999958276748657},\n",
       " {'label': 'Neutral', 'score': 0.9999837875366211},\n",
       " {'label': 'Neutral', 'score': 0.9999756813049316},\n",
       " {'label': 'Neutral', 'score': 0.9999822378158569},\n",
       " {'label': 'Positive', 'score': 0.9999996423721313},\n",
       " {'label': 'Neutral', 'score': 0.9999935626983643},\n",
       " {'label': 'Positive', 'score': 0.9999982118606567},\n",
       " {'label': 'Neutral', 'score': 0.9787421226501465},\n",
       " {'label': 'Neutral', 'score': 0.9999927282333374},\n",
       " {'label': 'Neutral', 'score': 0.998773992061615},\n",
       " {'label': 'Neutral', 'score': 0.9897271990776062},\n",
       " {'label': 'Neutral', 'score': 0.9999990463256836},\n",
       " {'label': 'Positive', 'score': 0.9997684359550476},\n",
       " {'label': 'Neutral', 'score': 0.9999995231628418},\n",
       " {'label': 'Neutral', 'score': 0.9895076155662537},\n",
       " {'label': 'Neutral', 'score': 0.9999998807907104},\n",
       " {'label': 'Neutral', 'score': 0.9999866485595703},\n",
       " {'label': 'Negative', 'score': 0.9999994039535522},\n",
       " {'label': 'Neutral', 'score': 0.9999939203262329},\n",
       " {'label': 'Negative', 'score': 0.5332567691802979},\n",
       " {'label': 'Negative', 'score': 0.999925971031189},\n",
       " {'label': 'Negative', 'score': 0.9999717473983765},\n",
       " {'label': 'Neutral', 'score': 0.934891939163208},\n",
       " {'label': 'Positive', 'score': 0.9995715022087097},\n",
       " {'label': 'Positive', 'score': 0.9999988079071045},\n",
       " {'label': 'Negative', 'score': 0.9270046949386597},\n",
       " {'label': 'Neutral', 'score': 0.9984731078147888},\n",
       " {'label': 'Neutral', 'score': 0.9999856948852539},\n",
       " {'label': 'Neutral', 'score': 0.9999966621398926},\n",
       " {'label': 'Negative', 'score': 0.9344038963317871},\n",
       " {'label': 'Neutral', 'score': 0.9997115731239319},\n",
       " {'label': 'Neutral', 'score': 0.9999992847442627},\n",
       " {'label': 'Positive', 'score': 0.9980447292327881},\n",
       " {'label': 'Positive', 'score': 0.9999270439147949},\n",
       " {'label': 'Neutral', 'score': 0.9999915361404419},\n",
       " {'label': 'Positive', 'score': 0.9859215617179871},\n",
       " {'label': 'Negative', 'score': 0.999863862991333},\n",
       " {'label': 'Positive', 'score': 0.9999986886978149},\n",
       " {'label': 'Negative', 'score': 0.6403506994247437},\n",
       " {'label': 'Neutral', 'score': 0.9999735355377197},\n",
       " {'label': 'Neutral', 'score': 0.9999804496765137},\n",
       " {'label': 'Negative', 'score': 0.9979162812232971},\n",
       " {'label': 'Neutral', 'score': 0.9999966621398926},\n",
       " {'label': 'Negative', 'score': 0.999956488609314},\n",
       " {'label': 'Neutral', 'score': 0.9999873638153076},\n",
       " {'label': 'Positive', 'score': 0.57164067029953},\n",
       " {'label': 'Neutral', 'score': 0.9999995231628418},\n",
       " {'label': 'Neutral', 'score': 0.9999972581863403},\n",
       " {'label': 'Neutral', 'score': 0.9989848732948303},\n",
       " {'label': 'Neutral', 'score': 0.9997097849845886},\n",
       " {'label': 'Positive', 'score': 0.998204231262207},\n",
       " {'label': 'Neutral', 'score': 0.9999958276748657},\n",
       " {'label': 'Neutral', 'score': 0.9999966621398926},\n",
       " {'label': 'Neutral', 'score': 0.9999997615814209},\n",
       " {'label': 'Neutral', 'score': 0.9999485015869141},\n",
       " {'label': 'Neutral', 'score': 0.7642720937728882},\n",
       " {'label': 'Neutral', 'score': 0.9999964237213135},\n",
       " {'label': 'Neutral', 'score': 0.9999364614486694},\n",
       " {'label': 'Positive', 'score': 0.9986207485198975},\n",
       " {'label': 'Neutral', 'score': 0.9999984502792358},\n",
       " {'label': 'Neutral', 'score': 0.9999948740005493},\n",
       " {'label': 'Negative', 'score': 0.8300212621688843},\n",
       " {'label': 'Neutral', 'score': 0.9999996423721313},\n",
       " {'label': 'Neutral', 'score': 0.9999129772186279},\n",
       " {'label': 'Neutral', 'score': 0.9999902248382568},\n",
       " {'label': 'Neutral', 'score': 0.9999839067459106},\n",
       " {'label': 'Neutral', 'score': 0.9999867677688599},\n",
       " {'label': 'Neutral', 'score': 0.999830961227417},\n",
       " {'label': 'Negative', 'score': 0.5537174940109253},\n",
       " {'label': 'Positive', 'score': 0.999967098236084},\n",
       " {'label': 'Neutral', 'score': 0.9999842643737793},\n",
       " {'label': 'Positive', 'score': 0.9999198913574219},\n",
       " {'label': 'Neutral', 'score': 0.6001983284950256},\n",
       " {'label': 'Neutral', 'score': 0.9998705387115479},\n",
       " {'label': 'Neutral', 'score': 0.9974225759506226},\n",
       " {'label': 'Neutral', 'score': 0.9999995231628418},\n",
       " {'label': 'Neutral', 'score': 0.9896780252456665},\n",
       " {'label': 'Neutral', 'score': 0.5352845191955566},\n",
       " {'label': 'Negative', 'score': 0.8391819000244141},\n",
       " {'label': 'Neutral', 'score': 0.9999750852584839},\n",
       " {'label': 'Neutral', 'score': 0.9999746084213257},\n",
       " {'label': 'Neutral', 'score': 0.9999984502792358},\n",
       " {'label': 'Neutral', 'score': 0.9985400438308716},\n",
       " {'label': 'Neutral', 'score': 0.9970977306365967},\n",
       " {'label': 'Neutral', 'score': 0.9999734163284302},\n",
       " {'label': 'Positive', 'score': 1.0},\n",
       " {'label': 'Neutral', 'score': 0.9999071359634399},\n",
       " {'label': 'Negative', 'score': 0.9721438884735107},\n",
       " {'label': 'Neutral', 'score': 0.9999905824661255},\n",
       " {'label': 'Neutral', 'score': 0.9999983310699463},\n",
       " {'label': 'Neutral', 'score': 0.9685097932815552},\n",
       " {'label': 'Neutral', 'score': 0.9834519624710083},\n",
       " {'label': 'Neutral', 'score': 0.999990701675415},\n",
       " {'label': 'Negative', 'score': 0.9999978542327881},\n",
       " {'label': 'Negative', 'score': 0.9988133907318115},\n",
       " {'label': 'Neutral', 'score': 0.9971004128456116},\n",
       " {'label': 'Negative', 'score': 0.999992847442627},\n",
       " {'label': 'Neutral', 'score': 0.999717652797699},\n",
       " {'label': 'Neutral', 'score': 0.9999988079071045},\n",
       " {'label': 'Neutral', 'score': 0.9994025230407715},\n",
       " {'label': 'Positive', 'score': 0.9595338106155396},\n",
       " {'label': 'Neutral', 'score': 0.9999697208404541},\n",
       " {'label': 'Positive', 'score': 0.9999998807907104},\n",
       " {'label': 'Neutral', 'score': 0.9996243715286255},\n",
       " {'label': 'Negative', 'score': 0.9998940229415894},\n",
       " {'label': 'Neutral', 'score': 0.9999916553497314},\n",
       " {'label': 'Neutral', 'score': 0.9998296499252319},\n",
       " {'label': 'Neutral', 'score': 0.9999871253967285},\n",
       " {'label': 'Negative', 'score': 0.999998927116394},\n",
       " {'label': 'Neutral', 'score': 0.741012692451477},\n",
       " {'label': 'Neutral', 'score': 0.9998764991760254},\n",
       " {'label': 'Negative', 'score': 0.9999852180480957},\n",
       " {'label': 'Neutral', 'score': 0.833554744720459},\n",
       " {'label': 'Positive', 'score': 0.9962280988693237},\n",
       " {'label': 'Neutral', 'score': 0.9999973773956299},\n",
       " {'label': 'Positive', 'score': 1.0},\n",
       " {'label': 'Negative', 'score': 0.7034494280815125},\n",
       " {'label': 'Neutral', 'score': 0.9986925721168518},\n",
       " {'label': 'Negative', 'score': 0.9999992847442627},\n",
       " {'label': 'Positive', 'score': 0.999127209186554},\n",
       " {'label': 'Neutral', 'score': 0.999994158744812},\n",
       " {'label': 'Neutral', 'score': 0.9999998807907104},\n",
       " {'label': 'Negative', 'score': 0.9999953508377075},\n",
       " {'label': 'Neutral', 'score': 0.9999992847442627},\n",
       " {'label': 'Neutral', 'score': 0.9999983310699463},\n",
       " {'label': 'Neutral', 'score': 0.9937272071838379},\n",
       " {'label': 'Negative', 'score': 0.9999440908432007},\n",
       " {'label': 'Neutral', 'score': 0.999985933303833},\n",
       " {'label': 'Positive', 'score': 0.9699086546897888},\n",
       " {'label': 'Neutral', 'score': 0.9999853372573853},\n",
       " {'label': 'Neutral', 'score': 0.7980220317840576},\n",
       " {'label': 'Neutral', 'score': 0.9999898672103882},\n",
       " {'label': 'Positive', 'score': 0.9991922974586487},\n",
       " {'label': 'Neutral', 'score': 0.9998621940612793},\n",
       " {'label': 'Negative', 'score': 0.9932312965393066},\n",
       " {'label': 'Neutral', 'score': 0.9989966750144958},\n",
       " {'label': 'Negative', 'score': 0.9769812226295471},\n",
       " {'label': 'Neutral', 'score': 0.9509862661361694},\n",
       " {'label': 'Negative', 'score': 0.9999960660934448},\n",
       " {'label': 'Neutral', 'score': 0.987059473991394},\n",
       " {'label': 'Positive', 'score': 0.9999674558639526},\n",
       " {'label': 'Neutral', 'score': 0.9971439242362976},\n",
       " {'label': 'Positive', 'score': 0.9999997615814209},\n",
       " {'label': 'Negative', 'score': 0.9939767122268677},\n",
       " {'label': 'Positive', 'score': 0.9249057769775391},\n",
       " {'label': 'Neutral', 'score': 0.9999778270721436},\n",
       " {'label': 'Neutral', 'score': 0.9999486207962036},\n",
       " {'label': 'Neutral', 'score': 0.9994094371795654},\n",
       " {'label': 'Neutral', 'score': 0.9998492002487183},\n",
       " {'label': 'Negative', 'score': 0.9853707551956177},\n",
       " {'label': 'Negative', 'score': 0.9999829530715942},\n",
       " {'label': 'Neutral', 'score': 0.9999960660934448},\n",
       " {'label': 'Neutral', 'score': 0.9999996423721313},\n",
       " {'label': 'Negative', 'score': 0.7679014801979065},\n",
       " {'label': 'Neutral', 'score': 0.999997615814209},\n",
       " {'label': 'Neutral', 'score': 0.9998570680618286},\n",
       " {'label': 'Neutral', 'score': 0.9947469830513},\n",
       " {'label': 'Neutral', 'score': 0.9999903440475464},\n",
       " {'label': 'Neutral', 'score': 0.9999978542327881},\n",
       " {'label': 'Neutral', 'score': 0.979601263999939},\n",
       " {'label': 'Neutral', 'score': 0.9999992847442627},\n",
       " {'label': 'Positive', 'score': 0.9999997615814209},\n",
       " {'label': 'Positive', 'score': 1.0},\n",
       " {'label': 'Negative', 'score': 0.9979162812232971},\n",
       " {'label': 'Neutral', 'score': 0.9999992847442627},\n",
       " {'label': 'Neutral', 'score': 0.9999861717224121},\n",
       " {'label': 'Neutral', 'score': 0.9999947547912598},\n",
       " {'label': 'Neutral', 'score': 0.9999974966049194},\n",
       " {'label': 'Positive', 'score': 0.5542894005775452},\n",
       " {'label': 'Neutral', 'score': 0.9999228715896606},\n",
       " {'label': 'Positive', 'score': 0.9998788833618164},\n",
       " {'label': 'Neutral', 'score': 0.9999998807907104},\n",
       " {'label': 'Neutral', 'score': 0.9986490607261658},\n",
       " {'label': 'Neutral', 'score': 0.9808145761489868},\n",
       " {'label': 'Neutral', 'score': 0.9999771118164062},\n",
       " {'label': 'Neutral', 'score': 0.999777615070343},\n",
       " {'label': 'Positive', 'score': 0.9997565150260925},\n",
       " {'label': 'Neutral', 'score': 0.9999970197677612},\n",
       " {'label': 'Neutral', 'score': 0.9999995231628418},\n",
       " {'label': 'Negative', 'score': 0.9999985694885254},\n",
       " {'label': 'Positive', 'score': 1.0},\n",
       " {'label': 'Neutral', 'score': 0.9999896287918091},\n",
       " {'label': 'Neutral', 'score': 0.9265978336334229},\n",
       " {'label': 'Neutral', 'score': 0.9999915361404419},\n",
       " {'label': 'Positive', 'score': 0.9957493543624878},\n",
       " {'label': 'Neutral', 'score': 0.9999245405197144},\n",
       " {'label': 'Neutral', 'score': 0.9999978542327881},\n",
       " {'label': 'Neutral', 'score': 0.8358862400054932},\n",
       " {'label': 'Neutral', 'score': 0.9962329268455505},\n",
       " {'label': 'Negative', 'score': 0.9999626874923706},\n",
       " {'label': 'Positive', 'score': 0.9999545812606812},\n",
       " {'label': 'Neutral', 'score': 0.8315924406051636},\n",
       " {'label': 'Neutral', 'score': 0.9999562501907349},\n",
       " {'label': 'Neutral', 'score': 0.9992597699165344},\n",
       " {'label': 'Positive', 'score': 0.7798305749893188},\n",
       " {'label': 'Neutral', 'score': 0.999575674533844},\n",
       " {'label': 'Negative', 'score': 0.9999897480010986},\n",
       " {'label': 'Neutral', 'score': 0.9999998807907104},\n",
       " {'label': 'Neutral', 'score': 0.9993709921836853},\n",
       " {'label': 'Neutral', 'score': 0.9999947547912598},\n",
       " {'label': 'Neutral', 'score': 0.9999775886535645},\n",
       " {'label': 'Neutral', 'score': 0.9999876022338867},\n",
       " {'label': 'Neutral', 'score': 0.9999990463256836},\n",
       " {'label': 'Neutral', 'score': 0.9998608827590942},\n",
       " {'label': 'Positive', 'score': 0.9999961853027344},\n",
       " {'label': 'Positive', 'score': 1.0},\n",
       " {'label': 'Neutral', 'score': 0.9999977350234985},\n",
       " {'label': 'Neutral', 'score': 0.9994295239448547},\n",
       " {'label': 'Negative', 'score': 0.9999983310699463},\n",
       " {'label': 'Neutral', 'score': 0.9999884366989136},\n",
       " {'label': 'Neutral', 'score': 0.9842331409454346},\n",
       " {'label': 'Neutral', 'score': 0.9999947547912598},\n",
       " {'label': 'Neutral', 'score': 0.9999854564666748},\n",
       " {'label': 'Negative', 'score': 0.9999867677688599},\n",
       " {'label': 'Neutral', 'score': 0.9988996982574463},\n",
       " {'label': 'Positive', 'score': 1.0},\n",
       " {'label': 'Positive', 'score': 0.9980559349060059},\n",
       " {'label': 'Negative', 'score': 0.9999829530715942},\n",
       " {'label': 'Positive', 'score': 0.9998477697372437},\n",
       " {'label': 'Positive', 'score': 0.9999934434890747},\n",
       " {'label': 'Neutral', 'score': 0.9999920129776001},\n",
       " {'label': 'Negative', 'score': 0.8989160060882568},\n",
       " {'label': 'Neutral', 'score': 0.9991589784622192},\n",
       " {'label': 'Neutral', 'score': 0.9999961853027344},\n",
       " {'label': 'Negative', 'score': 0.9812197089195251},\n",
       " {'label': 'Neutral', 'score': 0.9999986886978149},\n",
       " {'label': 'Neutral', 'score': 0.999982476234436},\n",
       " {'label': 'Neutral', 'score': 0.9999914169311523},\n",
       " {'label': 'Neutral', 'score': 0.9999758005142212},\n",
       " {'label': 'Neutral', 'score': 0.9935122132301331},\n",
       " {'label': 'Neutral', 'score': 0.9999910593032837},\n",
       " {'label': 'Neutral', 'score': 0.9999523162841797},\n",
       " {'label': 'Neutral', 'score': 0.9998358488082886},\n",
       " {'label': 'Neutral', 'score': 0.9999994039535522},\n",
       " {'label': 'Neutral', 'score': 0.7876036167144775},\n",
       " {'label': 'Neutral', 'score': 0.999990701675415},\n",
       " {'label': 'Negative', 'score': 0.9940758943557739},\n",
       " {'label': 'Neutral', 'score': 0.9999805688858032},\n",
       " {'label': 'Negative', 'score': 0.863193154335022},\n",
       " {'label': 'Negative', 'score': 0.9962583780288696},\n",
       " {'label': 'Neutral', 'score': 0.9994499087333679},\n",
       " {'label': 'Neutral', 'score': 0.9999947547912598},\n",
       " {'label': 'Neutral', 'score': 0.9857962131500244},\n",
       " {'label': 'Positive', 'score': 0.9999988079071045},\n",
       " {'label': 'Neutral', 'score': 0.9999865293502808},\n",
       " {'label': 'Positive', 'score': 0.9997896552085876},\n",
       " {'label': 'Positive', 'score': 0.9343782663345337},\n",
       " {'label': 'Neutral', 'score': 0.9999945163726807},\n",
       " {'label': 'Positive', 'score': 1.0},\n",
       " {'label': 'Neutral', 'score': 0.9999929666519165},\n",
       " {'label': 'Neutral', 'score': 0.9999783039093018},\n",
       " {'label': 'Neutral', 'score': 0.9998630285263062},\n",
       " {'label': 'Positive', 'score': 0.9999932050704956},\n",
       " {'label': 'Neutral', 'score': 0.9999986886978149},\n",
       " {'label': 'Neutral', 'score': 1.0},\n",
       " {'label': 'Negative', 'score': 0.9999927282333374},\n",
       " {'label': 'Neutral', 'score': 0.996802568435669},\n",
       " {'label': 'Neutral', 'score': 0.9999995231628418},\n",
       " {'label': 'Neutral', 'score': 0.9997991919517517},\n",
       " {'label': 'Neutral', 'score': 0.9999991655349731},\n",
       " {'label': 'Negative', 'score': 0.9999018907546997},\n",
       " {'label': 'Neutral', 'score': 0.9543174505233765},\n",
       " {'label': 'Negative', 'score': 0.9999991655349731},\n",
       " {'label': 'Neutral', 'score': 0.9999936819076538},\n",
       " {'label': 'Neutral', 'score': 0.9999841451644897},\n",
       " {'label': 'Neutral', 'score': 0.9999829530715942},\n",
       " {'label': 'Positive', 'score': 1.0},\n",
       " {'label': 'Neutral', 'score': 0.9999314546585083},\n",
       " {'label': 'Negative', 'score': 0.9961642026901245},\n",
       " {'label': 'Negative', 'score': 0.9999970197677612},\n",
       " {'label': 'Neutral', 'score': 0.999943733215332},\n",
       " {'label': 'Neutral', 'score': 0.9999868869781494},\n",
       " {'label': 'Neutral', 'score': 0.9999998807907104},\n",
       " {'label': 'Negative', 'score': 0.9999943971633911},\n",
       " {'label': 'Neutral', 'score': 0.9999964237213135},\n",
       " {'label': 'Positive', 'score': 0.9738737940788269},\n",
       " {'label': 'Neutral', 'score': 0.9999949932098389},\n",
       " {'label': 'Neutral', 'score': 0.9999709129333496},\n",
       " {'label': 'Positive', 'score': 0.9999939203262329},\n",
       " {'label': 'Neutral', 'score': 0.999974250793457},\n",
       " {'label': 'Neutral', 'score': 0.9906118512153625},\n",
       " {'label': 'Neutral', 'score': 0.9999958276748657},\n",
       " {'label': 'Neutral', 'score': 0.9999836683273315},\n",
       " {'label': 'Neutral', 'score': 0.9999984502792358},\n",
       " {'label': 'Positive', 'score': 0.9999945163726807},\n",
       " {'label': 'Neutral', 'score': 0.9999985694885254},\n",
       " {'label': 'Neutral', 'score': 0.9999836683273315},\n",
       " {'label': 'Neutral', 'score': 0.9584193229675293},\n",
       " {'label': 'Neutral', 'score': 0.909384548664093},\n",
       " {'label': 'Negative', 'score': 0.8580232262611389},\n",
       " {'label': 'Neutral', 'score': 0.9999724626541138},\n",
       " {'label': 'Positive', 'score': 0.9998773336410522},\n",
       " {'label': 'Positive', 'score': 0.9995867609977722},\n",
       " {'label': 'Neutral', 'score': 0.999963641166687},\n",
       " {'label': 'Positive', 'score': 0.9999996423721313},\n",
       " {'label': 'Positive', 'score': 0.7991450428962708},\n",
       " {'label': 'Positive', 'score': 0.9999895095825195},\n",
       " {'label': 'Neutral', 'score': 0.9999847412109375},\n",
       " {'label': 'Positive', 'score': 0.9931106567382812},\n",
       " {'label': 'Neutral', 'score': 0.9738077521324158},\n",
       " {'label': 'Negative', 'score': 0.9909639358520508},\n",
       " {'label': 'Neutral', 'score': 0.9998481273651123},\n",
       " {'label': 'Neutral', 'score': 0.9999947547912598},\n",
       " {'label': 'Neutral', 'score': 0.9999680519104004},\n",
       " {'label': 'Neutral', 'score': 0.9999845027923584},\n",
       " {'label': 'Positive', 'score': 0.9999991655349731},\n",
       " {'label': 'Positive', 'score': 0.9927375912666321},\n",
       " {'label': 'Positive', 'score': 0.929322361946106},\n",
       " {'label': 'Neutral', 'score': 0.9998396635055542},\n",
       " {'label': 'Neutral', 'score': 0.9999690055847168},\n",
       " {'label': 'Positive', 'score': 0.9999078512191772},\n",
       " {'label': 'Neutral', 'score': 0.9997596144676208},\n",
       " {'label': 'Positive', 'score': 0.9999874830245972},\n",
       " {'label': 'Neutral', 'score': 0.9998364448547363},\n",
       " {'label': 'Negative', 'score': 0.9999961853027344},\n",
       " {'label': 'Positive', 'score': 0.9979801774024963},\n",
       " {'label': 'Neutral', 'score': 0.9963994026184082},\n",
       " {'label': 'Neutral', 'score': 0.979103147983551},\n",
       " {'label': 'Negative', 'score': 0.5765994191169739},\n",
       " {'label': 'Neutral', 'score': 0.9999701976776123},\n",
       " {'label': 'Neutral', 'score': 0.9999935626983643},\n",
       " {'label': 'Neutral', 'score': 0.9999983310699463},\n",
       " {'label': 'Neutral', 'score': 0.9992103576660156},\n",
       " {'label': 'Negative', 'score': 0.7516856789588928},\n",
       " {'label': 'Neutral', 'score': 0.999496340751648},\n",
       " {'label': 'Neutral', 'score': 0.9999068975448608},\n",
       " {'label': 'Neutral', 'score': 0.998853325843811},\n",
       " {'label': 'Neutral', 'score': 0.7849113941192627},\n",
       " {'label': 'Neutral', 'score': 0.9997798800468445},\n",
       " {'label': 'Positive', 'score': 0.9999063014984131},\n",
       " {'label': 'Positive', 'score': 0.9820391535758972},\n",
       " {'label': 'Neutral', 'score': 0.9999364614486694},\n",
       " {'label': 'Positive', 'score': 0.9420179724693298},\n",
       " {'label': 'Positive', 'score': 0.5377245545387268},\n",
       " {'label': 'Neutral', 'score': 0.9985668063163757},\n",
       " {'label': 'Neutral', 'score': 0.9997209906578064},\n",
       " {'label': 'Neutral', 'score': 0.9999396800994873},\n",
       " {'label': 'Positive', 'score': 0.9753249287605286},\n",
       " {'label': 'Neutral', 'score': 0.9999735355377197},\n",
       " {'label': 'Positive', 'score': 0.9999957084655762},\n",
       " {'label': 'Neutral', 'score': 0.9999990463256836},\n",
       " {'label': 'Positive', 'score': 0.9333593249320984},\n",
       " {'label': 'Neutral', 'score': 0.9999979734420776},\n",
       " {'label': 'Neutral', 'score': 0.9999730587005615},\n",
       " {'label': 'Neutral', 'score': 0.9995644688606262},\n",
       " {'label': 'Negative', 'score': 0.9999983310699463},\n",
       " {'label': 'Neutral', 'score': 0.9999982118606567},\n",
       " {'label': 'Neutral', 'score': 0.9998736381530762},\n",
       " {'label': 'Positive', 'score': 0.9999998807907104},\n",
       " {'label': 'Neutral', 'score': 0.9999960660934448},\n",
       " {'label': 'Neutral', 'score': 0.7447856068611145},\n",
       " {'label': 'Negative', 'score': 0.9966611862182617},\n",
       " {'label': 'Negative', 'score': 0.9988340735435486},\n",
       " {'label': 'Negative', 'score': 0.9983826875686646},\n",
       " {'label': 'Neutral', 'score': 0.9133779406547546},\n",
       " {'label': 'Neutral', 'score': 0.9999737739562988},\n",
       " {'label': 'Neutral', 'score': 0.9999967813491821},\n",
       " {'label': 'Positive', 'score': 0.9999994039535522},\n",
       " {'label': 'Negative', 'score': 0.9732464551925659},\n",
       " {'label': 'Negative', 'score': 0.9999592304229736},\n",
       " {'label': 'Positive', 'score': 0.9998880624771118},\n",
       " {'label': 'Positive', 'score': 0.9988635778427124},\n",
       " {'label': 'Neutral', 'score': 0.9999748468399048},\n",
       " {'label': 'Positive', 'score': 0.9999994039535522},\n",
       " {'label': 'Neutral', 'score': 0.9999203681945801},\n",
       " {'label': 'Neutral', 'score': 0.9999361038208008},\n",
       " {'label': 'Neutral', 'score': 0.9999698400497437},\n",
       " {'label': 'Neutral', 'score': 0.999553382396698},\n",
       " {'label': 'Neutral', 'score': 0.9998070597648621},\n",
       " {'label': 'Positive', 'score': 0.9992923736572266},\n",
       " {'label': 'Neutral', 'score': 0.9999992847442627},\n",
       " {'label': 'Positive', 'score': 0.9999995231628418},\n",
       " {'label': 'Positive', 'score': 0.9999984502792358},\n",
       " {'label': 'Neutral', 'score': 0.9999823570251465},\n",
       " {'label': 'Neutral', 'score': 0.9999604225158691},\n",
       " {'label': 'Neutral', 'score': 0.9825891256332397},\n",
       " {'label': 'Positive', 'score': 0.9999990463256836},\n",
       " {'label': 'Positive', 'score': 0.9999973773956299},\n",
       " {'label': 'Negative', 'score': 0.9998440742492676},\n",
       " {'label': 'Neutral', 'score': 0.9996542930603027},\n",
       " {'label': 'Negative', 'score': 0.9999948740005493},\n",
       " {'label': 'Negative', 'score': 0.9999737739562988},\n",
       " {'label': 'Neutral', 'score': 0.9999849796295166},\n",
       " {'label': 'Positive', 'score': 0.9999996423721313},\n",
       " {'label': 'Negative', 'score': 0.9999862909317017},\n",
       " {'label': 'Neutral', 'score': 0.9999960660934448},\n",
       " {'label': 'Neutral', 'score': 0.9999678134918213},\n",
       " {'label': 'Positive', 'score': 0.6756373047828674},\n",
       " {'label': 'Neutral', 'score': 0.9986214637756348},\n",
       " {'label': 'Neutral', 'score': 0.934892475605011},\n",
       " {'label': 'Neutral', 'score': 0.9931961297988892},\n",
       " {'label': 'Neutral', 'score': 0.9999847412109375},\n",
       " {'label': 'Neutral', 'score': 0.9996410608291626},\n",
       " {'label': 'Neutral', 'score': 0.9999499320983887},\n",
       " {'label': 'Neutral', 'score': 0.9635236859321594},\n",
       " {'label': 'Neutral', 'score': 0.9975312948226929},\n",
       " {'label': 'Neutral', 'score': 0.9999997615814209},\n",
       " {'label': 'Neutral', 'score': 0.9073092937469482},\n",
       " {'label': 'Negative', 'score': 0.9999803304672241},\n",
       " {'label': 'Negative', 'score': 0.9642252326011658},\n",
       " {'label': 'Neutral', 'score': 0.9999916553497314},\n",
       " {'label': 'Neutral', 'score': 0.9999986886978149},\n",
       " {'label': 'Neutral', 'score': 0.9999915361404419},\n",
       " {'label': 'Neutral', 'score': 0.9999871253967285},\n",
       " {'label': 'Positive', 'score': 0.9997654557228088},\n",
       " {'label': 'Positive', 'score': 0.9999918937683105},\n",
       " {'label': 'Negative', 'score': 0.9534735679626465},\n",
       " {'label': 'Positive', 'score': 0.6711929440498352},\n",
       " {'label': 'Positive', 'score': 0.9998960494995117},\n",
       " {'label': 'Neutral', 'score': 0.9999850988388062},\n",
       " {'label': 'Positive', 'score': 0.9832012057304382},\n",
       " {'label': 'Negative', 'score': 0.9999881982803345},\n",
       " {'label': 'Neutral', 'score': 0.9793156385421753},\n",
       " {'label': 'Neutral', 'score': 0.9999953508377075},\n",
       " {'label': 'Neutral', 'score': 0.9999772310256958},\n",
       " {'label': 'Negative', 'score': 0.9961560368537903},\n",
       " {'label': 'Neutral', 'score': 0.999988317489624},\n",
       " {'label': 'Neutral', 'score': 0.9995119571685791},\n",
       " {'label': 'Neutral', 'score': 0.9580882787704468},\n",
       " {'label': 'Neutral', 'score': 0.9987342953681946},\n",
       " {'label': 'Neutral', 'score': 0.9999977350234985},\n",
       " {'label': 'Positive', 'score': 0.8225200176239014},\n",
       " {'label': 'Neutral', 'score': 0.9999961853027344},\n",
       " {'label': 'Neutral', 'score': 0.9998606443405151},\n",
       " {'label': 'Neutral', 'score': 0.9992367029190063},\n",
       " {'label': 'Neutral', 'score': 0.9998738765716553},\n",
       " {'label': 'Neutral', 'score': 0.9938404560089111},\n",
       " {'label': 'Neutral', 'score': 0.9999908208847046},\n",
       " {'label': 'Neutral', 'score': 0.6018810868263245},\n",
       " {'label': 'Negative', 'score': 0.9980897307395935},\n",
       " {'label': 'Neutral', 'score': 0.9999996423721313},\n",
       " {'label': 'Neutral', 'score': 0.9999885559082031},\n",
       " {'label': 'Neutral', 'score': 0.9999969005584717},\n",
       " {'label': 'Negative', 'score': 0.9998794794082642},\n",
       " {'label': 'Neutral', 'score': 0.9999809265136719},\n",
       " {'label': 'Neutral', 'score': 0.9999266862869263},\n",
       " {'label': 'Neutral', 'score': 0.9999097585678101},\n",
       " {'label': 'Positive', 'score': 1.0},\n",
       " {'label': 'Neutral', 'score': 0.9999935626983643},\n",
       " {'label': 'Positive', 'score': 0.998069703578949},\n",
       " {'label': 'Positive', 'score': 1.0},\n",
       " {'label': 'Neutral', 'score': 0.9779468178749084},\n",
       " {'label': 'Neutral', 'score': 0.996173083782196},\n",
       " {'label': 'Neutral', 'score': 0.9999935626983643},\n",
       " {'label': 'Negative', 'score': 0.8157033920288086},\n",
       " {'label': 'Neutral', 'score': 0.9995827078819275},\n",
       " {'label': 'Neutral', 'score': 0.9999985694885254},\n",
       " {'label': 'Positive', 'score': 0.9998196959495544},\n",
       " {'label': 'Neutral', 'score': 0.9999560117721558},\n",
       " {'label': 'Positive', 'score': 0.9988307356834412},\n",
       " {'label': 'Neutral', 'score': 0.9999996423721313},\n",
       " {'label': 'Neutral', 'score': 0.9999799728393555},\n",
       " {'label': 'Positive', 'score': 0.9999914169311523},\n",
       " {'label': 'Neutral', 'score': 0.999998927116394},\n",
       " {'label': 'Positive', 'score': 1.0},\n",
       " {'label': 'Negative', 'score': 0.9999995231628418},\n",
       " {'label': 'Positive', 'score': 0.9999994039535522},\n",
       " {'label': 'Neutral', 'score': 0.9999970197677612},\n",
       " {'label': 'Neutral', 'score': 0.9999215602874756},\n",
       " {'label': 'Neutral', 'score': 0.9999991655349731},\n",
       " {'label': 'Negative', 'score': 0.9999765157699585},\n",
       " {'label': 'Positive', 'score': 1.0},\n",
       " {'label': 'Neutral', 'score': 0.9999562501907349},\n",
       " {'label': 'Negative', 'score': 0.9999992847442627},\n",
       " {'label': 'Neutral', 'score': 0.9933127760887146},\n",
       " {'label': 'Positive', 'score': 0.9999827146530151},\n",
       " {'label': 'Negative', 'score': 0.9999991655349731},\n",
       " {'label': 'Neutral', 'score': 0.9999990463256836},\n",
       " {'label': 'Neutral', 'score': 0.999982476234436},\n",
       " {'label': 'Negative', 'score': 0.9999998807907104},\n",
       " {'label': 'Neutral', 'score': 0.9999985694885254},\n",
       " {'label': 'Positive', 'score': 0.9913427829742432},\n",
       " {'label': 'Negative', 'score': 0.5835899114608765},\n",
       " {'label': 'Neutral', 'score': 0.9999814033508301},\n",
       " {'label': 'Neutral', 'score': 0.9999958276748657},\n",
       " {'label': 'Neutral', 'score': 0.9999915361404419},\n",
       " {'label': 'Neutral', 'score': 0.9999986886978149},\n",
       " {'label': 'Neutral', 'score': 0.999985933303833},\n",
       " {'label': 'Neutral', 'score': 0.9999833106994629},\n",
       " {'label': 'Negative', 'score': 0.9999960660934448},\n",
       " {'label': 'Neutral', 'score': 0.9990022778511047},\n",
       " {'label': 'Positive', 'score': 0.45776256918907166},\n",
       " {'label': 'Neutral', 'score': 0.9032799005508423},\n",
       " {'label': 'Positive', 'score': 1.0},\n",
       " {'label': 'Negative', 'score': 0.9999358654022217},\n",
       " {'label': 'Neutral', 'score': 0.9999974966049194},\n",
       " {'label': 'Neutral', 'score': 0.9999991655349731},\n",
       " {'label': 'Neutral', 'score': 0.99290531873703},\n",
       " {'label': 'Neutral', 'score': 0.9322533011436462},\n",
       " {'label': 'Negative', 'score': 0.9999738931655884},\n",
       " {'label': 'Neutral', 'score': 0.9999920129776001},\n",
       " {'label': 'Neutral', 'score': 0.9999321699142456},\n",
       " {'label': 'Neutral', 'score': 0.9999996423721313},\n",
       " {'label': 'Negative', 'score': 0.8157033920288086},\n",
       " {'label': 'Positive', 'score': 0.9999986886978149},\n",
       " {'label': 'Neutral', 'score': 0.9999998807907104},\n",
       " {'label': 'Positive', 'score': 0.9999991655349731},\n",
       " {'label': 'Neutral', 'score': 0.9999730587005615},\n",
       " {'label': 'Negative', 'score': 0.998458743095398},\n",
       " {'label': 'Neutral', 'score': 0.9999752044677734},\n",
       " {'label': 'Neutral', 'score': 0.9999971389770508},\n",
       " {'label': 'Neutral', 'score': 0.9787617921829224},\n",
       " {'label': 'Negative', 'score': 0.9645783305168152},\n",
       " {'label': 'Neutral', 'score': 0.8045608997344971},\n",
       " {'label': 'Neutral', 'score': 0.9999998807907104},\n",
       " {'label': 'Positive', 'score': 0.9999780654907227},\n",
       " {'label': 'Neutral', 'score': 0.9999998807907104},\n",
       " {'label': 'Neutral', 'score': 0.9014437198638916},\n",
       " {'label': 'Neutral', 'score': 0.9999874830245972},\n",
       " {'label': 'Neutral', 'score': 0.99998939037323},\n",
       " {'label': 'Negative', 'score': 0.9998536109924316},\n",
       " {'label': 'Neutral', 'score': 0.999916672706604},\n",
       " {'label': 'Neutral', 'score': 0.9999994039535522},\n",
       " {'label': 'Neutral', 'score': 0.9997772574424744},\n",
       " {'label': 'Positive', 'score': 0.9999939203262329},\n",
       " {'label': 'Neutral', 'score': 0.9999003410339355},\n",
       " {'label': 'Positive', 'score': 0.9999998807907104},\n",
       " {'label': 'Neutral', 'score': 0.9013770818710327},\n",
       " {'label': 'Neutral', 'score': 0.9999964237213135},\n",
       " {'label': 'Positive', 'score': 0.9998732805252075},\n",
       " {'label': 'Negative', 'score': 0.9999738931655884},\n",
       " {'label': 'Positive', 'score': 0.8586443066596985},\n",
       " {'label': 'Neutral', 'score': 0.9976982474327087},\n",
       " {'label': 'Negative', 'score': 0.9996346235275269},\n",
       " {'label': 'Negative', 'score': 0.9999822378158569},\n",
       " {'label': 'Positive', 'score': 0.9608975648880005},\n",
       " {'label': 'Neutral', 'score': 0.9999839067459106},\n",
       " {'label': 'Neutral', 'score': 0.9999555349349976},\n",
       " {'label': 'Neutral', 'score': 0.999969482421875},\n",
       " {'label': 'Neutral', 'score': 0.9997658133506775},\n",
       " {'label': 'Neutral', 'score': 0.9998154044151306},\n",
       " {'label': 'Neutral', 'score': 0.9999942779541016},\n",
       " {'label': 'Positive', 'score': 0.9999817609786987},\n",
       " {'label': 'Negative', 'score': 0.9999995231628418},\n",
       " {'label': 'Neutral', 'score': 0.988642156124115},\n",
       " {'label': 'Negative', 'score': 0.9999995231628418},\n",
       " {'label': 'Negative', 'score': 0.9782556891441345},\n",
       " {'label': 'Neutral', 'score': 0.9999940395355225},\n",
       " {'label': 'Positive', 'score': 0.9999995231628418},\n",
       " {'label': 'Positive', 'score': 0.9999980926513672},\n",
       " {'label': 'Positive', 'score': 0.8828741312026978},\n",
       " {'label': 'Neutral', 'score': 0.9999778270721436},\n",
       " {'label': 'Neutral', 'score': 0.7828530073165894},\n",
       " {'label': 'Positive', 'score': 0.9965391159057617},\n",
       " {'label': 'Positive', 'score': 0.9999998807907104},\n",
       " {'label': 'Neutral', 'score': 0.9999946355819702},\n",
       " {'label': 'Negative', 'score': 0.9999146461486816},\n",
       " {'label': 'Neutral', 'score': 0.9983990788459778},\n",
       " {'label': 'Positive', 'score': 1.0},\n",
       " {'label': 'Negative', 'score': 0.6166738867759705},\n",
       " {'label': 'Neutral', 'score': 0.9999841451644897},\n",
       " {'label': 'Neutral', 'score': 0.9998840093612671},\n",
       " {'label': 'Negative', 'score': 0.569866955280304},\n",
       " {'label': 'Negative', 'score': 0.6570975184440613},\n",
       " {'label': 'Neutral', 'score': 0.999996542930603},\n",
       " {'label': 'Neutral', 'score': 0.9999967813491821},\n",
       " {'label': 'Neutral', 'score': 0.8812323808670044},\n",
       " {'label': 'Neutral', 'score': 0.9999305009841919},\n",
       " {'label': 'Neutral', 'score': 0.999377965927124},\n",
       " {'label': 'Neutral', 'score': 0.9781729578971863},\n",
       " {'label': 'Neutral', 'score': 0.9999914169311523},\n",
       " {'label': 'Positive', 'score': 0.9263504147529602},\n",
       " {'label': 'Neutral', 'score': 0.9999088048934937},\n",
       " {'label': 'Positive', 'score': 0.9977707862854004},\n",
       " {'label': 'Positive', 'score': 0.9996708631515503},\n",
       " {'label': 'Negative', 'score': 0.8281665444374084},\n",
       " {'label': 'Neutral', 'score': 0.9999997615814209},\n",
       " {'label': 'Negative', 'score': 0.9945746064186096},\n",
       " {'label': 'Neutral', 'score': 0.9999996423721313},\n",
       " {'label': 'Neutral', 'score': 0.9999990463256836},\n",
       " {'label': 'Neutral', 'score': 0.9999812841415405},\n",
       " {'label': 'Neutral', 'score': 0.9999641180038452},\n",
       " {'label': 'Positive', 'score': 0.9999990463256836},\n",
       " {'label': 'Positive', 'score': 0.9999723434448242},\n",
       " {'label': 'Positive', 'score': 1.0},\n",
       " {'label': 'Neutral', 'score': 0.6359021663665771},\n",
       " {'label': 'Neutral', 'score': 0.9995552897453308},\n",
       " {'label': 'Neutral', 'score': 0.9997617602348328},\n",
       " {'label': 'Positive', 'score': 0.9999698400497437},\n",
       " {'label': 'Neutral', 'score': 0.9999909400939941},\n",
       " {'label': 'Neutral', 'score': 0.9999803304672241},\n",
       " {'label': 'Neutral', 'score': 0.9977107048034668},\n",
       " {'label': 'Neutral', 'score': 0.970869779586792},\n",
       " {'label': 'Positive', 'score': 1.0},\n",
       " {'label': 'Neutral', 'score': 0.999969482421875},\n",
       " {'label': 'Neutral', 'score': 0.9994551539421082},\n",
       " {'label': 'Negative', 'score': 0.9413869976997375},\n",
       " {'label': 'Neutral', 'score': 0.9759724140167236},\n",
       " {'label': 'Positive', 'score': 0.9995254278182983},\n",
       " {'label': 'Negative', 'score': 0.9999760389328003},\n",
       " {'label': 'Neutral', 'score': 0.9995118379592896},\n",
       " {'label': 'Neutral', 'score': 0.9999717473983765},\n",
       " {'label': 'Negative', 'score': 0.9324521422386169},\n",
       " {'label': 'Neutral', 'score': 0.9999969005584717},\n",
       " {'label': 'Neutral', 'score': 0.9999650716781616},\n",
       " {'label': 'Neutral', 'score': 0.9998928308486938},\n",
       " {'label': 'Negative', 'score': 0.9999977350234985},\n",
       " {'label': 'Negative', 'score': 0.9998940229415894},\n",
       " {'label': 'Neutral', 'score': 0.9999632835388184},\n",
       " {'label': 'Negative', 'score': 0.9999986886978149},\n",
       " {'label': 'Negative', 'score': 0.999879002571106},\n",
       " {'label': 'Neutral', 'score': 0.9968239068984985},\n",
       " {'label': 'Neutral', 'score': 0.9999889135360718},\n",
       " {'label': 'Neutral', 'score': 0.9999804496765137},\n",
       " {'label': 'Positive', 'score': 0.9999992847442627},\n",
       " {'label': 'Negative', 'score': 0.9999970197677612},\n",
       " {'label': 'Neutral', 'score': 0.999998927116394},\n",
       " {'label': 'Neutral', 'score': 0.999990701675415},\n",
       " {'label': 'Positive', 'score': 0.9947709441184998},\n",
       " {'label': 'Neutral', 'score': 0.9998960494995117},\n",
       " {'label': 'Neutral', 'score': 0.9999778270721436},\n",
       " {'label': 'Neutral', 'score': 0.9684637188911438},\n",
       " {'label': 'Negative', 'score': 0.9982208609580994},\n",
       " {'label': 'Neutral', 'score': 0.9999475479125977},\n",
       " {'label': 'Negative', 'score': 0.9952989220619202},\n",
       " {'label': 'Neutral', 'score': 0.999998927116394},\n",
       " {'label': 'Negative', 'score': 0.9999661445617676},\n",
       " {'label': 'Neutral', 'score': 0.9999836683273315},\n",
       " {'label': 'Neutral', 'score': 0.999985933303833},\n",
       " {'label': 'Positive', 'score': 0.9123126268386841},\n",
       " {'label': 'Negative', 'score': 0.9999985694885254},\n",
       " {'label': 'Neutral', 'score': 0.9978985786437988},\n",
       " {'label': 'Positive', 'score': 0.9999858140945435},\n",
       " {'label': 'Neutral', 'score': 0.999997615814209},\n",
       " {'label': 'Neutral', 'score': 0.9999878406524658},\n",
       " {'label': 'Negative', 'score': 0.9999864101409912},\n",
       " {'label': 'Neutral', 'score': 0.999982476234436},\n",
       " {'label': 'Positive', 'score': 0.9998674392700195},\n",
       " {'label': 'Neutral', 'score': 0.9999781847000122},\n",
       " {'label': 'Negative', 'score': 0.9999992847442627},\n",
       " {'label': 'Neutral', 'score': 0.9999569654464722},\n",
       " {'label': 'Positive', 'score': 0.9999532699584961},\n",
       " {'label': 'Neutral', 'score': 0.9995658993721008},\n",
       " {'label': 'Negative', 'score': 0.9999977350234985},\n",
       " {'label': 'Negative', 'score': 0.9999997615814209},\n",
       " {'label': 'Negative', 'score': 0.9999991655349731},\n",
       " {'label': 'Positive', 'score': 0.9781623482704163},\n",
       " {'label': 'Neutral', 'score': 0.9999946355819702},\n",
       " ...]"
      ]
     },
     "execution_count": 27,
     "metadata": {},
     "output_type": "execute_result"
    }
   ],
   "source": [
    "preds"
   ]
  },
  {
   "cell_type": "code",
   "execution_count": 28,
   "metadata": {
    "executionInfo": {
     "elapsed": 39,
     "status": "ok",
     "timestamp": 1753295331372,
     "user": {
      "displayName": "Belusochim Ogwumike Ugochukwu",
      "userId": "15099275448381681588"
     },
     "user_tz": 420
    },
    "id": "s4CL92eFHLtG"
   },
   "outputs": [],
   "source": [
    "df[\"predictions\"] = [pred[\"label\"] for pred in preds]"
   ]
  },
  {
   "cell_type": "code",
   "execution_count": 33,
   "metadata": {
    "colab": {
     "base_uri": "https://localhost:8080/",
     "height": 424
    },
    "executionInfo": {
     "elapsed": 47,
     "status": "ok",
     "timestamp": 1753295349541,
     "user": {
      "displayName": "Belusochim Ogwumike Ugochukwu",
      "userId": "15099275448381681588"
     },
     "user_tz": 420
    },
    "id": "cIHPBzUDUFdh",
    "outputId": "2bb9f731-a227-4d5a-f854-f5dcb5fd22ed"
   },
   "outputs": [
    {
     "data": {
      "application/vnd.google.colaboratory.intrinsic+json": {
       "summary": "{\n  \"name\": \"df\",\n  \"rows\": 5842,\n  \"fields\": [\n    {\n      \"column\": \"text\",\n      \"properties\": {\n        \"dtype\": \"string\",\n        \"num_unique_values\": 5322,\n        \"samples\": [\n          \"It is now the leading private road ambulance service company in Finland .\",\n          \"Finnish silicon wafers manufacturer Okmetic Oyj said it swung to a net profit of 4.9 mln euro $ 6.3 mln in the first nine months of 2006 from a net loss of 1.8 mln euro $ 2.3 mln a year earlier .\",\n          \"$GILD  is expanding its research facilities...keeping up with the pace of innovation  https://t.co/uOE7FJ4LOP\"\n        ],\n        \"semantic_type\": \"\",\n        \"description\": \"\"\n      }\n    },\n    {\n      \"column\": \"Sentiment\",\n      \"properties\": {\n        \"dtype\": \"category\",\n        \"num_unique_values\": 3,\n        \"samples\": [\n          \"positive\",\n          \"negative\",\n          \"neutral\"\n        ],\n        \"semantic_type\": \"\",\n        \"description\": \"\"\n      }\n    },\n    {\n      \"column\": \"predictions\",\n      \"properties\": {\n        \"dtype\": \"category\",\n        \"num_unique_values\": 3,\n        \"samples\": [\n          \"Positive\",\n          \"Negative\",\n          \"Neutral\"\n        ],\n        \"semantic_type\": \"\",\n        \"description\": \"\"\n      }\n    }\n  ]\n}",
       "type": "dataframe",
       "variable_name": "df"
      },
      "text/html": [
       "\n",
       "  <div id=\"df-38b91dc7-c9df-4ead-9d04-19a0d524e5a3\" class=\"colab-df-container\">\n",
       "    <div>\n",
       "<style scoped>\n",
       "    .dataframe tbody tr th:only-of-type {\n",
       "        vertical-align: middle;\n",
       "    }\n",
       "\n",
       "    .dataframe tbody tr th {\n",
       "        vertical-align: top;\n",
       "    }\n",
       "\n",
       "    .dataframe thead th {\n",
       "        text-align: right;\n",
       "    }\n",
       "</style>\n",
       "<table border=\"1\" class=\"dataframe\">\n",
       "  <thead>\n",
       "    <tr style=\"text-align: right;\">\n",
       "      <th></th>\n",
       "      <th>text</th>\n",
       "      <th>Sentiment</th>\n",
       "      <th>predictions</th>\n",
       "    </tr>\n",
       "  </thead>\n",
       "  <tbody>\n",
       "    <tr>\n",
       "      <th>0</th>\n",
       "      <td>The GeoSolutions technology will leverage Bene...</td>\n",
       "      <td>positive</td>\n",
       "      <td>Positive</td>\n",
       "    </tr>\n",
       "    <tr>\n",
       "      <th>1</th>\n",
       "      <td>$ESI on lows, down $1.50 to $2.50 BK a real po...</td>\n",
       "      <td>negative</td>\n",
       "      <td>Negative</td>\n",
       "    </tr>\n",
       "    <tr>\n",
       "      <th>2</th>\n",
       "      <td>For the last quarter of 2010 , Componenta 's n...</td>\n",
       "      <td>positive</td>\n",
       "      <td>Positive</td>\n",
       "    </tr>\n",
       "    <tr>\n",
       "      <th>3</th>\n",
       "      <td>According to the Finnish-Russian Chamber of Co...</td>\n",
       "      <td>neutral</td>\n",
       "      <td>Neutral</td>\n",
       "    </tr>\n",
       "    <tr>\n",
       "      <th>4</th>\n",
       "      <td>The Swedish buyout firm has sold its remaining...</td>\n",
       "      <td>neutral</td>\n",
       "      <td>Neutral</td>\n",
       "    </tr>\n",
       "    <tr>\n",
       "      <th>...</th>\n",
       "      <td>...</td>\n",
       "      <td>...</td>\n",
       "      <td>...</td>\n",
       "    </tr>\n",
       "    <tr>\n",
       "      <th>5837</th>\n",
       "      <td>RISING costs have forced packaging producer Hu...</td>\n",
       "      <td>negative</td>\n",
       "      <td>Negative</td>\n",
       "    </tr>\n",
       "    <tr>\n",
       "      <th>5838</th>\n",
       "      <td>Nordic Walking was first used as a summer trai...</td>\n",
       "      <td>neutral</td>\n",
       "      <td>Neutral</td>\n",
       "    </tr>\n",
       "    <tr>\n",
       "      <th>5839</th>\n",
       "      <td>According shipping company Viking Line , the E...</td>\n",
       "      <td>neutral</td>\n",
       "      <td>Negative</td>\n",
       "    </tr>\n",
       "    <tr>\n",
       "      <th>5840</th>\n",
       "      <td>In the building and home improvement trade , s...</td>\n",
       "      <td>neutral</td>\n",
       "      <td>Negative</td>\n",
       "    </tr>\n",
       "    <tr>\n",
       "      <th>5841</th>\n",
       "      <td>HELSINKI AFX - KCI Konecranes said it has won ...</td>\n",
       "      <td>positive</td>\n",
       "      <td>Neutral</td>\n",
       "    </tr>\n",
       "  </tbody>\n",
       "</table>\n",
       "<p>5842 rows × 3 columns</p>\n",
       "</div>\n",
       "    <div class=\"colab-df-buttons\">\n",
       "\n",
       "  <div class=\"colab-df-container\">\n",
       "    <button class=\"colab-df-convert\" onclick=\"convertToInteractive('df-38b91dc7-c9df-4ead-9d04-19a0d524e5a3')\"\n",
       "            title=\"Convert this dataframe to an interactive table.\"\n",
       "            style=\"display:none;\">\n",
       "\n",
       "  <svg xmlns=\"http://www.w3.org/2000/svg\" height=\"24px\" viewBox=\"0 -960 960 960\">\n",
       "    <path d=\"M120-120v-720h720v720H120Zm60-500h600v-160H180v160Zm220 220h160v-160H400v160Zm0 220h160v-160H400v160ZM180-400h160v-160H180v160Zm440 0h160v-160H620v160ZM180-180h160v-160H180v160Zm440 0h160v-160H620v160Z\"/>\n",
       "  </svg>\n",
       "    </button>\n",
       "\n",
       "  <style>\n",
       "    .colab-df-container {\n",
       "      display:flex;\n",
       "      gap: 12px;\n",
       "    }\n",
       "\n",
       "    .colab-df-convert {\n",
       "      background-color: #E8F0FE;\n",
       "      border: none;\n",
       "      border-radius: 50%;\n",
       "      cursor: pointer;\n",
       "      display: none;\n",
       "      fill: #1967D2;\n",
       "      height: 32px;\n",
       "      padding: 0 0 0 0;\n",
       "      width: 32px;\n",
       "    }\n",
       "\n",
       "    .colab-df-convert:hover {\n",
       "      background-color: #E2EBFA;\n",
       "      box-shadow: 0px 1px 2px rgba(60, 64, 67, 0.3), 0px 1px 3px 1px rgba(60, 64, 67, 0.15);\n",
       "      fill: #174EA6;\n",
       "    }\n",
       "\n",
       "    .colab-df-buttons div {\n",
       "      margin-bottom: 4px;\n",
       "    }\n",
       "\n",
       "    [theme=dark] .colab-df-convert {\n",
       "      background-color: #3B4455;\n",
       "      fill: #D2E3FC;\n",
       "    }\n",
       "\n",
       "    [theme=dark] .colab-df-convert:hover {\n",
       "      background-color: #434B5C;\n",
       "      box-shadow: 0px 1px 3px 1px rgba(0, 0, 0, 0.15);\n",
       "      filter: drop-shadow(0px 1px 2px rgba(0, 0, 0, 0.3));\n",
       "      fill: #FFFFFF;\n",
       "    }\n",
       "  </style>\n",
       "\n",
       "    <script>\n",
       "      const buttonEl =\n",
       "        document.querySelector('#df-38b91dc7-c9df-4ead-9d04-19a0d524e5a3 button.colab-df-convert');\n",
       "      buttonEl.style.display =\n",
       "        google.colab.kernel.accessAllowed ? 'block' : 'none';\n",
       "\n",
       "      async function convertToInteractive(key) {\n",
       "        const element = document.querySelector('#df-38b91dc7-c9df-4ead-9d04-19a0d524e5a3');\n",
       "        const dataTable =\n",
       "          await google.colab.kernel.invokeFunction('convertToInteractive',\n",
       "                                                    [key], {});\n",
       "        if (!dataTable) return;\n",
       "\n",
       "        const docLinkHtml = 'Like what you see? Visit the ' +\n",
       "          '<a target=\"_blank\" href=https://colab.research.google.com/notebooks/data_table.ipynb>data table notebook</a>'\n",
       "          + ' to learn more about interactive tables.';\n",
       "        element.innerHTML = '';\n",
       "        dataTable['output_type'] = 'display_data';\n",
       "        await google.colab.output.renderOutput(dataTable, element);\n",
       "        const docLink = document.createElement('div');\n",
       "        docLink.innerHTML = docLinkHtml;\n",
       "        element.appendChild(docLink);\n",
       "      }\n",
       "    </script>\n",
       "  </div>\n",
       "\n",
       "\n",
       "    <div id=\"df-beb869df-1c4f-436e-bb8f-43fdea90075a\">\n",
       "      <button class=\"colab-df-quickchart\" onclick=\"quickchart('df-beb869df-1c4f-436e-bb8f-43fdea90075a')\"\n",
       "                title=\"Suggest charts\"\n",
       "                style=\"display:none;\">\n",
       "\n",
       "<svg xmlns=\"http://www.w3.org/2000/svg\" height=\"24px\"viewBox=\"0 0 24 24\"\n",
       "     width=\"24px\">\n",
       "    <g>\n",
       "        <path d=\"M19 3H5c-1.1 0-2 .9-2 2v14c0 1.1.9 2 2 2h14c1.1 0 2-.9 2-2V5c0-1.1-.9-2-2-2zM9 17H7v-7h2v7zm4 0h-2V7h2v10zm4 0h-2v-4h2v4z\"/>\n",
       "    </g>\n",
       "</svg>\n",
       "      </button>\n",
       "\n",
       "<style>\n",
       "  .colab-df-quickchart {\n",
       "      --bg-color: #E8F0FE;\n",
       "      --fill-color: #1967D2;\n",
       "      --hover-bg-color: #E2EBFA;\n",
       "      --hover-fill-color: #174EA6;\n",
       "      --disabled-fill-color: #AAA;\n",
       "      --disabled-bg-color: #DDD;\n",
       "  }\n",
       "\n",
       "  [theme=dark] .colab-df-quickchart {\n",
       "      --bg-color: #3B4455;\n",
       "      --fill-color: #D2E3FC;\n",
       "      --hover-bg-color: #434B5C;\n",
       "      --hover-fill-color: #FFFFFF;\n",
       "      --disabled-bg-color: #3B4455;\n",
       "      --disabled-fill-color: #666;\n",
       "  }\n",
       "\n",
       "  .colab-df-quickchart {\n",
       "    background-color: var(--bg-color);\n",
       "    border: none;\n",
       "    border-radius: 50%;\n",
       "    cursor: pointer;\n",
       "    display: none;\n",
       "    fill: var(--fill-color);\n",
       "    height: 32px;\n",
       "    padding: 0;\n",
       "    width: 32px;\n",
       "  }\n",
       "\n",
       "  .colab-df-quickchart:hover {\n",
       "    background-color: var(--hover-bg-color);\n",
       "    box-shadow: 0 1px 2px rgba(60, 64, 67, 0.3), 0 1px 3px 1px rgba(60, 64, 67, 0.15);\n",
       "    fill: var(--button-hover-fill-color);\n",
       "  }\n",
       "\n",
       "  .colab-df-quickchart-complete:disabled,\n",
       "  .colab-df-quickchart-complete:disabled:hover {\n",
       "    background-color: var(--disabled-bg-color);\n",
       "    fill: var(--disabled-fill-color);\n",
       "    box-shadow: none;\n",
       "  }\n",
       "\n",
       "  .colab-df-spinner {\n",
       "    border: 2px solid var(--fill-color);\n",
       "    border-color: transparent;\n",
       "    border-bottom-color: var(--fill-color);\n",
       "    animation:\n",
       "      spin 1s steps(1) infinite;\n",
       "  }\n",
       "\n",
       "  @keyframes spin {\n",
       "    0% {\n",
       "      border-color: transparent;\n",
       "      border-bottom-color: var(--fill-color);\n",
       "      border-left-color: var(--fill-color);\n",
       "    }\n",
       "    20% {\n",
       "      border-color: transparent;\n",
       "      border-left-color: var(--fill-color);\n",
       "      border-top-color: var(--fill-color);\n",
       "    }\n",
       "    30% {\n",
       "      border-color: transparent;\n",
       "      border-left-color: var(--fill-color);\n",
       "      border-top-color: var(--fill-color);\n",
       "      border-right-color: var(--fill-color);\n",
       "    }\n",
       "    40% {\n",
       "      border-color: transparent;\n",
       "      border-right-color: var(--fill-color);\n",
       "      border-top-color: var(--fill-color);\n",
       "    }\n",
       "    60% {\n",
       "      border-color: transparent;\n",
       "      border-right-color: var(--fill-color);\n",
       "    }\n",
       "    80% {\n",
       "      border-color: transparent;\n",
       "      border-right-color: var(--fill-color);\n",
       "      border-bottom-color: var(--fill-color);\n",
       "    }\n",
       "    90% {\n",
       "      border-color: transparent;\n",
       "      border-bottom-color: var(--fill-color);\n",
       "    }\n",
       "  }\n",
       "</style>\n",
       "\n",
       "      <script>\n",
       "        async function quickchart(key) {\n",
       "          const quickchartButtonEl =\n",
       "            document.querySelector('#' + key + ' button');\n",
       "          quickchartButtonEl.disabled = true;  // To prevent multiple clicks.\n",
       "          quickchartButtonEl.classList.add('colab-df-spinner');\n",
       "          try {\n",
       "            const charts = await google.colab.kernel.invokeFunction(\n",
       "                'suggestCharts', [key], {});\n",
       "          } catch (error) {\n",
       "            console.error('Error during call to suggestCharts:', error);\n",
       "          }\n",
       "          quickchartButtonEl.classList.remove('colab-df-spinner');\n",
       "          quickchartButtonEl.classList.add('colab-df-quickchart-complete');\n",
       "        }\n",
       "        (() => {\n",
       "          let quickchartButtonEl =\n",
       "            document.querySelector('#df-beb869df-1c4f-436e-bb8f-43fdea90075a button');\n",
       "          quickchartButtonEl.style.display =\n",
       "            google.colab.kernel.accessAllowed ? 'block' : 'none';\n",
       "        })();\n",
       "      </script>\n",
       "    </div>\n",
       "\n",
       "  <div id=\"id_ce50fe04-85e4-4408-a330-11cac39b2ba4\">\n",
       "    <style>\n",
       "      .colab-df-generate {\n",
       "        background-color: #E8F0FE;\n",
       "        border: none;\n",
       "        border-radius: 50%;\n",
       "        cursor: pointer;\n",
       "        display: none;\n",
       "        fill: #1967D2;\n",
       "        height: 32px;\n",
       "        padding: 0 0 0 0;\n",
       "        width: 32px;\n",
       "      }\n",
       "\n",
       "      .colab-df-generate:hover {\n",
       "        background-color: #E2EBFA;\n",
       "        box-shadow: 0px 1px 2px rgba(60, 64, 67, 0.3), 0px 1px 3px 1px rgba(60, 64, 67, 0.15);\n",
       "        fill: #174EA6;\n",
       "      }\n",
       "\n",
       "      [theme=dark] .colab-df-generate {\n",
       "        background-color: #3B4455;\n",
       "        fill: #D2E3FC;\n",
       "      }\n",
       "\n",
       "      [theme=dark] .colab-df-generate:hover {\n",
       "        background-color: #434B5C;\n",
       "        box-shadow: 0px 1px 3px 1px rgba(0, 0, 0, 0.15);\n",
       "        filter: drop-shadow(0px 1px 2px rgba(0, 0, 0, 0.3));\n",
       "        fill: #FFFFFF;\n",
       "      }\n",
       "    </style>\n",
       "    <button class=\"colab-df-generate\" onclick=\"generateWithVariable('df')\"\n",
       "            title=\"Generate code using this dataframe.\"\n",
       "            style=\"display:none;\">\n",
       "\n",
       "  <svg xmlns=\"http://www.w3.org/2000/svg\" height=\"24px\"viewBox=\"0 0 24 24\"\n",
       "       width=\"24px\">\n",
       "    <path d=\"M7,19H8.4L18.45,9,17,7.55,7,17.6ZM5,21V16.75L18.45,3.32a2,2,0,0,1,2.83,0l1.4,1.43a1.91,1.91,0,0,1,.58,1.4,1.91,1.91,0,0,1-.58,1.4L9.25,21ZM18.45,9,17,7.55Zm-12,3A5.31,5.31,0,0,0,4.9,8.1,5.31,5.31,0,0,0,1,6.5,5.31,5.31,0,0,0,4.9,4.9,5.31,5.31,0,0,0,6.5,1,5.31,5.31,0,0,0,8.1,4.9,5.31,5.31,0,0,0,12,6.5,5.46,5.46,0,0,0,6.5,12Z\"/>\n",
       "  </svg>\n",
       "    </button>\n",
       "    <script>\n",
       "      (() => {\n",
       "      const buttonEl =\n",
       "        document.querySelector('#id_ce50fe04-85e4-4408-a330-11cac39b2ba4 button.colab-df-generate');\n",
       "      buttonEl.style.display =\n",
       "        google.colab.kernel.accessAllowed ? 'block' : 'none';\n",
       "\n",
       "      buttonEl.onclick = () => {\n",
       "        google.colab.notebook.generateWithVariable('df');\n",
       "      }\n",
       "      })();\n",
       "    </script>\n",
       "  </div>\n",
       "\n",
       "    </div>\n",
       "  </div>\n"
      ],
      "text/plain": [
       "                                                   text Sentiment predictions\n",
       "0     The GeoSolutions technology will leverage Bene...  positive    Positive\n",
       "1     $ESI on lows, down $1.50 to $2.50 BK a real po...  negative    Negative\n",
       "2     For the last quarter of 2010 , Componenta 's n...  positive    Positive\n",
       "3     According to the Finnish-Russian Chamber of Co...   neutral     Neutral\n",
       "4     The Swedish buyout firm has sold its remaining...   neutral     Neutral\n",
       "...                                                 ...       ...         ...\n",
       "5837  RISING costs have forced packaging producer Hu...  negative    Negative\n",
       "5838  Nordic Walking was first used as a summer trai...   neutral     Neutral\n",
       "5839  According shipping company Viking Line , the E...   neutral    Negative\n",
       "5840  In the building and home improvement trade , s...   neutral    Negative\n",
       "5841  HELSINKI AFX - KCI Konecranes said it has won ...  positive     Neutral\n",
       "\n",
       "[5842 rows x 3 columns]"
      ]
     },
     "execution_count": 33,
     "metadata": {},
     "output_type": "execute_result"
    }
   ],
   "source": [
    "df"
   ]
  },
  {
   "cell_type": "code",
   "execution_count": 29,
   "metadata": {
    "colab": {
     "base_uri": "https://localhost:8080/",
     "height": 398
    },
    "executionInfo": {
     "elapsed": 6,
     "status": "ok",
     "timestamp": 1753295332656,
     "user": {
      "displayName": "Belusochim Ogwumike Ugochukwu",
      "userId": "15099275448381681588"
     },
     "user_tz": 420
    },
    "id": "O8QFd_jAHLqa",
    "outputId": "a8cca80d-e29b-4694-bebe-3907629f5e3f"
   },
   "outputs": [
    {
     "data": {
      "text/html": [
       "<div>\n",
       "<style scoped>\n",
       "    .dataframe tbody tr th:only-of-type {\n",
       "        vertical-align: middle;\n",
       "    }\n",
       "\n",
       "    .dataframe tbody tr th {\n",
       "        vertical-align: top;\n",
       "    }\n",
       "\n",
       "    .dataframe thead th {\n",
       "        text-align: right;\n",
       "    }\n",
       "</style>\n",
       "<table border=\"1\" class=\"dataframe\">\n",
       "  <thead>\n",
       "    <tr style=\"text-align: right;\">\n",
       "      <th></th>\n",
       "      <th></th>\n",
       "      <th>0</th>\n",
       "    </tr>\n",
       "    <tr>\n",
       "      <th>Sentiment</th>\n",
       "      <th>predictions</th>\n",
       "      <th></th>\n",
       "    </tr>\n",
       "  </thead>\n",
       "  <tbody>\n",
       "    <tr>\n",
       "      <th rowspan=\"3\" valign=\"top\">negative</th>\n",
       "      <th>Negative</th>\n",
       "      <td>523</td>\n",
       "    </tr>\n",
       "    <tr>\n",
       "      <th>Neutral</th>\n",
       "      <td>313</td>\n",
       "    </tr>\n",
       "    <tr>\n",
       "      <th>Positive</th>\n",
       "      <td>24</td>\n",
       "    </tr>\n",
       "    <tr>\n",
       "      <th rowspan=\"3\" valign=\"top\">neutral</th>\n",
       "      <th>Negative</th>\n",
       "      <td>448</td>\n",
       "    </tr>\n",
       "    <tr>\n",
       "      <th>Neutral</th>\n",
       "      <td>2566</td>\n",
       "    </tr>\n",
       "    <tr>\n",
       "      <th>Positive</th>\n",
       "      <td>116</td>\n",
       "    </tr>\n",
       "    <tr>\n",
       "      <th rowspan=\"3\" valign=\"top\">positive</th>\n",
       "      <th>Negative</th>\n",
       "      <td>67</td>\n",
       "    </tr>\n",
       "    <tr>\n",
       "      <th>Neutral</th>\n",
       "      <td>815</td>\n",
       "    </tr>\n",
       "    <tr>\n",
       "      <th>Positive</th>\n",
       "      <td>970</td>\n",
       "    </tr>\n",
       "  </tbody>\n",
       "</table>\n",
       "</div><br><label><b>dtype:</b> int64</label>"
      ],
      "text/plain": [
       "Sentiment  predictions\n",
       "negative   Negative        523\n",
       "           Neutral         313\n",
       "           Positive         24\n",
       "neutral    Negative        448\n",
       "           Neutral        2566\n",
       "           Positive        116\n",
       "positive   Negative         67\n",
       "           Neutral         815\n",
       "           Positive        970\n",
       "dtype: int64"
      ]
     },
     "execution_count": 29,
     "metadata": {},
     "output_type": "execute_result"
    }
   ],
   "source": [
    "df.groupby([\"Sentiment\", \"predictions\"]).size()"
   ]
  },
  {
   "cell_type": "markdown",
   "metadata": {
    "id": "4Z9WA1hbKe06"
   },
   "source": [
    "### We see that our model is not performing so well. For example, in possitve, there is almost an equal number of nuetal same in Negative. This might be due to the class imbalance."
   ]
  },
  {
   "cell_type": "code",
   "execution_count": 34,
   "metadata": {
    "executionInfo": {
     "elapsed": 3,
     "status": "ok",
     "timestamp": 1753295395901,
     "user": {
      "displayName": "Belusochim Ogwumike Ugochukwu",
      "userId": "15099275448381681588"
     },
     "user_tz": 420
    },
    "id": "6Jxm6VjajEvo"
   },
   "outputs": [],
   "source": [
    "df[\"predictions\"] = df[\"predictions\"].str.lower()\n"
   ]
  },
  {
   "cell_type": "code",
   "execution_count": 32,
   "metadata": {
    "executionInfo": {
     "elapsed": 3,
     "status": "ok",
     "timestamp": 1753294289427,
     "user": {
      "displayName": "Belusochim Ogwumike Ugochukwu",
      "userId": "15099275448381681588"
     },
     "user_tz": 420
    },
    "id": "EjPHjLjbKi7Y"
   },
   "outputs": [],
   "source": [
    "#Lets Calculate the balanced accurate since its better on imbalanced datasets"
   ]
  },
  {
   "cell_type": "markdown",
   "metadata": {
    "id": "rmHmaoDSTKBP"
   },
   "source": []
  },
  {
   "cell_type": "code",
   "execution_count": 35,
   "metadata": {
    "colab": {
     "base_uri": "https://localhost:8080/"
    },
    "executionInfo": {
     "elapsed": 12,
     "status": "ok",
     "timestamp": 1753295398673,
     "user": {
      "displayName": "Belusochim Ogwumike Ugochukwu",
      "userId": "15099275448381681588"
     },
     "user_tz": 420
    },
    "id": "mSnmVAiqSHEY",
    "outputId": "5d303746-383a-4936-cf43-b291311ce3a4"
   },
   "outputs": [
    {
     "name": "stdout",
     "output_type": "stream",
     "text": [
      "0.6505686469816793\n"
     ]
    }
   ],
   "source": [
    "print(balanced_accuracy_score(df[\"Sentiment\"], df[\"predictions\"]))"
   ]
  },
  {
   "cell_type": "code",
   "execution_count": 36,
   "metadata": {
    "colab": {
     "base_uri": "https://localhost:8080/"
    },
    "executionInfo": {
     "elapsed": 5,
     "status": "ok",
     "timestamp": 1753295401472,
     "user": {
      "displayName": "Belusochim Ogwumike Ugochukwu",
      "userId": "15099275448381681588"
     },
     "user_tz": 420
    },
    "id": "bg1-q0dhKi03",
    "outputId": "88a309ea-d4c9-455f-84f9-62a893f6e036"
   },
   "outputs": [
    {
     "name": "stdout",
     "output_type": "stream",
     "text": [
      "0.6947963026360835\n"
     ]
    }
   ],
   "source": [
    "print(accuracy_score(df[\"Sentiment\"], df[\"predictions\"]))"
   ]
  },
  {
   "cell_type": "markdown",
   "metadata": {
    "id": "gqCxyDH-TRvP"
   },
   "source": [
    "Lets Finetune the FinBert Model to improve its accuracy"
   ]
  },
  {
   "cell_type": "markdown",
   "metadata": {
    "id": "JyFpvkgQUMHc"
   },
   "source": []
  },
  {
   "cell_type": "code",
   "execution_count": 37,
   "metadata": {
    "colab": {
     "base_uri": "https://localhost:8080/",
     "height": 210
    },
    "executionInfo": {
     "elapsed": 4,
     "status": "ok",
     "timestamp": 1753295404352,
     "user": {
      "displayName": "Belusochim Ogwumike Ugochukwu",
      "userId": "15099275448381681588"
     },
     "user_tz": 420
    },
    "id": "Bd76XSM0Kixj",
    "outputId": "7304e30c-0986-4984-9e11-0a96bff3694a"
   },
   "outputs": [
    {
     "data": {
      "text/html": [
       "<div>\n",
       "<style scoped>\n",
       "    .dataframe tbody tr th:only-of-type {\n",
       "        vertical-align: middle;\n",
       "    }\n",
       "\n",
       "    .dataframe tbody tr th {\n",
       "        vertical-align: top;\n",
       "    }\n",
       "\n",
       "    .dataframe thead th {\n",
       "        text-align: right;\n",
       "    }\n",
       "</style>\n",
       "<table border=\"1\" class=\"dataframe\">\n",
       "  <thead>\n",
       "    <tr style=\"text-align: right;\">\n",
       "      <th></th>\n",
       "      <th>count</th>\n",
       "    </tr>\n",
       "    <tr>\n",
       "      <th>label</th>\n",
       "      <th></th>\n",
       "    </tr>\n",
       "  </thead>\n",
       "  <tbody>\n",
       "    <tr>\n",
       "      <th>0</th>\n",
       "      <td>3130</td>\n",
       "    </tr>\n",
       "    <tr>\n",
       "      <th>1</th>\n",
       "      <td>1852</td>\n",
       "    </tr>\n",
       "    <tr>\n",
       "      <th>2</th>\n",
       "      <td>860</td>\n",
       "    </tr>\n",
       "  </tbody>\n",
       "</table>\n",
       "</div><br><label><b>dtype:</b> int64</label>"
      ],
      "text/plain": [
       "label\n",
       "0    3130\n",
       "1    1852\n",
       "2     860\n",
       "Name: count, dtype: int64"
      ]
     },
     "execution_count": 37,
     "metadata": {},
     "output_type": "execute_result"
    }
   ],
   "source": [
    "# Capitalize the keys in label2id to match the case of Sentiment labels\n",
    "label2id = {k.capitalize(): v for k, v in model.config.label2id.items()}\n",
    "\n",
    "# Apply case-insensitive mapping from Sentiment to label2id\n",
    "df[\"label\"] = df[\"Sentiment\"].apply(lambda l: label2id[l.capitalize()])\n",
    "df[\"label\"].value_counts()"
   ]
  },
  {
   "cell_type": "code",
   "execution_count": 38,
   "metadata": {
    "colab": {
     "base_uri": "https://localhost:8080/"
    },
    "executionInfo": {
     "elapsed": 17,
     "status": "ok",
     "timestamp": 1753295406824,
     "user": {
      "displayName": "Belusochim Ogwumike Ugochukwu",
      "userId": "15099275448381681588"
     },
     "user_tz": 420
    },
    "id": "vy_LuCJFKiuW",
    "outputId": "37744afa-2aa1-44e9-d00d-3c119bb181f6"
   },
   "outputs": [
    {
     "data": {
      "text/plain": [
       "{'Positive': 1, 'Negative': 2, 'Neutral': 0}"
      ]
     },
     "execution_count": 38,
     "metadata": {},
     "output_type": "execute_result"
    }
   ],
   "source": [
    "model.config.label2id"
   ]
  },
  {
   "cell_type": "markdown",
   "metadata": {
    "id": "ZJpQ7UUiZXqJ"
   },
   "source": [
    "Split out dataset into train, val, and test dfs'"
   ]
  },
  {
   "cell_type": "code",
   "execution_count": 39,
   "metadata": {
    "colab": {
     "base_uri": "https://localhost:8080/"
    },
    "executionInfo": {
     "elapsed": 5,
     "status": "ok",
     "timestamp": 1753295410826,
     "user": {
      "displayName": "Belusochim Ogwumike Ugochukwu",
      "userId": "15099275448381681588"
     },
     "user_tz": 420
    },
    "id": "bmgRKfatKirD",
    "outputId": "b4f6a152-705c-4d1e-e88d-526b071274c1"
   },
   "outputs": [
    {
     "name": "stdout",
     "output_type": "stream",
     "text": [
      "(3505, 4) (1169, 4) (1168, 4)\n"
     ]
    }
   ],
   "source": [
    "train_end_point = int(df.shape[0]*0.6)\n",
    "val_end_point = int(df.shape[0]*0.8)\n",
    "df_train = df.iloc[:train_end_point,:]\n",
    "df_val =df.iloc[train_end_point: val_end_point,:]\n",
    "df_test = df.iloc[val_end_point:, :]\n",
    "print(df_train.shape, df_test.shape, df_val.shape)"
   ]
  },
  {
   "cell_type": "code",
   "execution_count": 38,
   "metadata": {
    "executionInfo": {
     "elapsed": 2,
     "status": "ok",
     "timestamp": 1753294289931,
     "user": {
      "displayName": "Belusochim Ogwumike Ugochukwu",
      "userId": "15099275448381681588"
     },
     "user_tz": 420
    },
    "id": "y51fXv9zKin6"
   },
   "outputs": [],
   "source": [
    "# Lets test the accuracy before trianing"
   ]
  },
  {
   "cell_type": "code",
   "execution_count": 41,
   "metadata": {
    "colab": {
     "base_uri": "https://localhost:8080/"
    },
    "executionInfo": {
     "elapsed": 5847,
     "status": "ok",
     "timestamp": 1753295425454,
     "user": {
      "displayName": "Belusochim Ogwumike Ugochukwu",
      "userId": "15099275448381681588"
     },
     "user_tz": 420
    },
    "id": "TENRT0lqKikl",
    "outputId": "e9326da2-c9be-40a2-dc31-56581a9fa759"
   },
   "outputs": [
    {
     "name": "stderr",
     "output_type": "stream",
     "text": [
      "/tmp/ipython-input-41-2291487150.py:2: SettingWithCopyWarning: \n",
      "A value is trying to be set on a copy of a slice from a DataFrame.\n",
      "Try using .loc[row_indexer,col_indexer] = value instead\n",
      "\n",
      "See the caveats in the documentation: https://pandas.pydata.org/pandas-docs/stable/user_guide/indexing.html#returning-a-view-versus-a-copy\n",
      "  df_test['prediction']=[pred['label'] for pred in preds]\n",
      "/tmp/ipython-input-41-2291487150.py:3: SettingWithCopyWarning: \n",
      "A value is trying to be set on a copy of a slice from a DataFrame.\n",
      "Try using .loc[row_indexer,col_indexer] = value instead\n",
      "\n",
      "See the caveats in the documentation: https://pandas.pydata.org/pandas-docs/stable/user_guide/indexing.html#returning-a-view-versus-a-copy\n",
      "  df_test['prediction'] = df['predictions'].str.lower()\n"
     ]
    }
   ],
   "source": [
    "preds=sentiment_pipeline(df_test['text'].tolist())\n",
    "df_test['prediction']=[pred['label'] for pred in preds]\n",
    "df_test['prediction'] = df['predictions'].str.lower()"
   ]
  },
  {
   "cell_type": "code",
   "execution_count": 42,
   "metadata": {
    "colab": {
     "base_uri": "https://localhost:8080/"
    },
    "executionInfo": {
     "elapsed": 38,
     "status": "ok",
     "timestamp": 1753295475690,
     "user": {
      "displayName": "Belusochim Ogwumike Ugochukwu",
      "userId": "15099275448381681588"
     },
     "user_tz": 420
    },
    "id": "_N71teMxcT2p",
    "outputId": "1a1f57eb-b256-4293-d467-977088003870"
   },
   "outputs": [
    {
     "name": "stdout",
     "output_type": "stream",
     "text": [
      "0.6597675851747513\n"
     ]
    }
   ],
   "source": [
    "print(balanced_accuracy_score(df_test['Sentiment'],df_test['prediction']))"
   ]
  },
  {
   "cell_type": "code",
   "execution_count": 43,
   "metadata": {
    "colab": {
     "base_uri": "https://localhost:8080/"
    },
    "executionInfo": {
     "elapsed": 4,
     "status": "ok",
     "timestamp": 1753295477008,
     "user": {
      "displayName": "Belusochim Ogwumike Ugochukwu",
      "userId": "15099275448381681588"
     },
     "user_tz": 420
    },
    "id": "Ba8erpvTbOR8",
    "outputId": "89c9d104-9d73-4ad8-d70e-b00942328313"
   },
   "outputs": [
    {
     "data": {
      "text/plain": [
       "0.7057313943541489"
      ]
     },
     "execution_count": 43,
     "metadata": {},
     "output_type": "execute_result"
    }
   ],
   "source": [
    "accuracy_score(df_test['Sentiment'],df_test['prediction'])"
   ]
  },
  {
   "cell_type": "markdown",
   "metadata": {
    "id": "1Akxad5Cdi59"
   },
   "source": [
    "Fine Tune Using HugginFace Trainer Class!"
   ]
  },
  {
   "cell_type": "code",
   "execution_count": 44,
   "metadata": {
    "executionInfo": {
     "elapsed": 44,
     "status": "ok",
     "timestamp": 1753295479185,
     "user": {
      "displayName": "Belusochim Ogwumike Ugochukwu",
      "userId": "15099275448381681588"
     },
     "user_tz": 420
    },
    "id": "66iTiAsIKihc"
   },
   "outputs": [],
   "source": [
    "#Convert pandas DataFrame into Hugging Face Dataset Objects:\n",
    "dataset_train = Dataset.from_pandas(df_train)\n",
    "dataset_test = Dataset.from_pandas(df_test)\n",
    "dataset_val = Dataset.from_pandas(df_val)"
   ]
  },
  {
   "cell_type": "code",
   "execution_count": 45,
   "metadata": {
    "colab": {
     "base_uri": "https://localhost:8080/",
     "height": 113,
     "referenced_widgets": [
      "8b0d874bd1cf439f9761fc858d077d36",
      "68c239efb8c94a7f8366a3c9fafd12d2",
      "e13f89315f794897b773b09a04a130d7",
      "19735336722a41269c0a2eb966baa6a0",
      "e44399fdf10044e4bc41d887a11ed90a",
      "902c725bf3684d93a2a9967e822d8d87",
      "aadb173a75ce4d35a918ee69c6280331",
      "0fb84ea90b444dceb53e8c628f89faeb",
      "20c48a1675d343e79dc250f46fda70fb",
      "20e7e451986d47d992ef1f5321a6e431",
      "6580dd122aaa4c75b0e4fcc0911c7d20",
      "471183902e9d4d87a504f0ab19e98368",
      "b5fd0789ca8940d88f8a61e8f42b0e65",
      "78b111fe46794c699947b8a2942e4eaf",
      "27c185a5beb34a6c8f51552f45b2c7d6",
      "a8af901c338a45a5845532dacf53ec7b",
      "e5004f0b06f548ab9b33fb694add4674",
      "1ca7608bd3854c49a1330591772b43fe",
      "84fbecd4be4545728bc275a835665c15",
      "7930faa01b164609883b464c8ead344c",
      "4dd166d43b30413c92199555fddad4d4",
      "c1bbb7ba2fdd4a1a9ac0fbf4fdc4fc2b",
      "09b4eb8af40340c29886531a2ddc5da1",
      "d6ffac999db34c1cbf556acab60189b0",
      "fb75b4b95db14f0ca6412562a8dbaa6e",
      "df4143032ad94db18eec24524eeb6241",
      "3fab39549860467dabfd6201044c0549",
      "b0f451f135eb46e1861dd8d9f7401979",
      "073248ef103848fcbb486e5b67e128f4",
      "b677057dc3324d47af608c920245a864",
      "05daa68e0bef409b9ecb6582052a5749",
      "1defed152f4d4c69af275fb9deaca79e",
      "03ff9c17d867489c88b27ca7e1ea1836"
     ]
    },
    "executionInfo": {
     "elapsed": 1051,
     "status": "ok",
     "timestamp": 1753295481796,
     "user": {
      "displayName": "Belusochim Ogwumike Ugochukwu",
      "userId": "15099275448381681588"
     },
     "user_tz": 420
    },
    "id": "aWAEGtk3cxu7",
    "outputId": "35b76d33-59e9-4427-a0a5-304319424360"
   },
   "outputs": [
    {
     "data": {
      "application/vnd.jupyter.widget-view+json": {
       "model_id": "8b0d874bd1cf439f9761fc858d077d36",
       "version_major": 2,
       "version_minor": 0
      },
      "text/plain": [
       "Map:   0%|          | 0/3505 [00:00<?, ? examples/s]"
      ]
     },
     "metadata": {},
     "output_type": "display_data"
    },
    {
     "data": {
      "application/vnd.jupyter.widget-view+json": {
       "model_id": "471183902e9d4d87a504f0ab19e98368",
       "version_major": 2,
       "version_minor": 0
      },
      "text/plain": [
       "Map:   0%|          | 0/1168 [00:00<?, ? examples/s]"
      ]
     },
     "metadata": {},
     "output_type": "display_data"
    },
    {
     "data": {
      "application/vnd.jupyter.widget-view+json": {
       "model_id": "09b4eb8af40340c29886531a2ddc5da1",
       "version_major": 2,
       "version_minor": 0
      },
      "text/plain": [
       "Map:   0%|          | 0/1169 [00:00<?, ? examples/s]"
      ]
     },
     "metadata": {},
     "output_type": "display_data"
    }
   ],
   "source": [
    "# Tokenizing the datasets:\n",
    "dataset_train = dataset_train.map(lambda e: tokenizer(e['text'], truncation=True, padding='max_length', max_length=128), batched=True)\n",
    "dataset_val = dataset_val.map(lambda e: tokenizer(e['text'], truncation=True, padding='max_length', max_length=128), batched=True)\n",
    "dataset_test = dataset_test.map(lambda e: tokenizer(e['text'], truncation=True, padding='max_length' , max_length=128), batched=True)\n",
    "\n",
    "# Setting the dataset format: (needed for Pytorch?)\n",
    "dataset_train.set_format(type='torch', columns=['input_ids', 'token_type_ids', 'attention_mask', 'label'])\n",
    "dataset_val.set_format(type='torch', columns=['input_ids', 'token_type_ids', 'attention_mask', 'label'])\n",
    "dataset_test.set_format(type='torch', columns=['input_ids', 'token_type_ids', 'attention_mask', 'label'])\n",
    "\n",
    "# Shuffle the training dataset\n",
    "dataset_train_shuffled = dataset_train.shuffle(seed=42)  # Using a seed for reproducibility"
   ]
  },
  {
   "cell_type": "markdown",
   "metadata": {
    "id": "1xPj3BEteIed"
   },
   "source": [
    "Train the Model"
   ]
  },
  {
   "cell_type": "code",
   "execution_count": 48,
   "metadata": {
    "executionInfo": {
     "elapsed": 157,
     "status": "ok",
     "timestamp": 1753295799114,
     "user": {
      "displayName": "Belusochim Ogwumike Ugochukwu",
      "userId": "15099275448381681588"
     },
     "user_tz": 420
    },
    "id": "LPyawMcxcxow"
   },
   "outputs": [],
   "source": [
    "def compute_metrics(eval_pred):\n",
    "    predictions, labels = eval_pred\n",
    "    predictions = np.argmax(predictions, axis=1)\n",
    "    return {'balanced_accuracy' : balanced_accuracy_score(predictions, labels),'accuracy':accuracy_score(predictions,labels)}\n",
    "\n",
    "args = TrainingArguments(\n",
    "    output_dir='temp/',\n",
    "    eval_strategy='epoch',\n",
    "    save_strategy='epoch',\n",
    "    logging_strategy=\"steps\",  # Log every X steps\n",
    "    logging_steps=50,  # Log every 50 steps\n",
    "    learning_rate=2e-6,\n",
    "    per_device_train_batch_size=32,\n",
    "    per_device_eval_batch_size=32,\n",
    "    num_train_epochs=20,\n",
    "    weight_decay=0.1,\n",
    "    load_best_model_at_end=True,\n",
    "    metric_for_best_model='balanced_accuracy',\n",
    ")\n",
    "\n",
    "trainer = Trainer(\n",
    "        model=model,                         # the instantiated 🤗 Transformers model to be trained\n",
    "        args=args,                  # training arguments, defined above\n",
    "        train_dataset=dataset_train_shuffled,         # training dataset\n",
    "        eval_dataset=dataset_val,            # evaluation dataset\n",
    "        compute_metrics=compute_metrics\n",
    ")\n",
    "\n",
    "\n",
    "\n"
   ]
  },
  {
   "cell_type": "code",
   "execution_count": 50,
   "metadata": {
    "colab": {
     "base_uri": "https://localhost:8080/"
    },
    "executionInfo": {
     "elapsed": 8512,
     "status": "ok",
     "timestamp": 1753294408456,
     "user": {
      "displayName": "Belusochim Ogwumike Ugochukwu",
      "userId": "15099275448381681588"
     },
     "user_tz": 420
    },
    "id": "Bmq8BfCgec_L",
    "outputId": "a9d75cb1-8c88-4c73-8fc0-96256ca9a417"
   },
   "outputs": [
    {
     "name": "stdout",
     "output_type": "stream",
     "text": [
      "Requirement already satisfied: transformers in /usr/local/lib/python3.11/dist-packages (4.53.3)\n",
      "Requirement already satisfied: filelock in /usr/local/lib/python3.11/dist-packages (from transformers) (3.18.0)\n",
      "Requirement already satisfied: huggingface-hub<1.0,>=0.30.0 in /usr/local/lib/python3.11/dist-packages (from transformers) (0.33.4)\n",
      "Requirement already satisfied: numpy>=1.17 in /usr/local/lib/python3.11/dist-packages (from transformers) (2.0.2)\n",
      "Requirement already satisfied: packaging>=20.0 in /usr/local/lib/python3.11/dist-packages (from transformers) (25.0)\n",
      "Requirement already satisfied: pyyaml>=5.1 in /usr/local/lib/python3.11/dist-packages (from transformers) (6.0.2)\n",
      "Requirement already satisfied: regex!=2019.12.17 in /usr/local/lib/python3.11/dist-packages (from transformers) (2024.11.6)\n",
      "Requirement already satisfied: requests in /usr/local/lib/python3.11/dist-packages (from transformers) (2.32.3)\n",
      "Requirement already satisfied: tokenizers<0.22,>=0.21 in /usr/local/lib/python3.11/dist-packages (from transformers) (0.21.2)\n",
      "Requirement already satisfied: safetensors>=0.4.3 in /usr/local/lib/python3.11/dist-packages (from transformers) (0.5.3)\n",
      "Requirement already satisfied: tqdm>=4.27 in /usr/local/lib/python3.11/dist-packages (from transformers) (4.67.1)\n",
      "Requirement already satisfied: fsspec>=2023.5.0 in /usr/local/lib/python3.11/dist-packages (from huggingface-hub<1.0,>=0.30.0->transformers) (2025.7.0)\n",
      "Requirement already satisfied: typing-extensions>=3.7.4.3 in /usr/local/lib/python3.11/dist-packages (from huggingface-hub<1.0,>=0.30.0->transformers) (4.14.1)\n",
      "Requirement already satisfied: hf-xet<2.0.0,>=1.1.2 in /usr/local/lib/python3.11/dist-packages (from huggingface-hub<1.0,>=0.30.0->transformers) (1.1.5)\n",
      "Requirement already satisfied: charset-normalizer<4,>=2 in /usr/local/lib/python3.11/dist-packages (from requests->transformers) (3.4.2)\n",
      "Requirement already satisfied: idna<4,>=2.5 in /usr/local/lib/python3.11/dist-packages (from requests->transformers) (3.10)\n",
      "Requirement already satisfied: urllib3<3,>=1.21.1 in /usr/local/lib/python3.11/dist-packages (from requests->transformers) (2.5.0)\n",
      "Requirement already satisfied: certifi>=2017.4.17 in /usr/local/lib/python3.11/dist-packages (from requests->transformers) (2025.7.14)\n"
     ]
    }
   ],
   "source": [
    "pip install --upgrade transformers"
   ]
  },
  {
   "cell_type": "code",
   "execution_count": 72,
   "metadata": {
    "colab": {
     "base_uri": "https://localhost:8080/"
    },
    "executionInfo": {
     "elapsed": 4980,
     "status": "ok",
     "timestamp": 1753294914869,
     "user": {
      "displayName": "Belusochim Ogwumike Ugochukwu",
      "userId": "15099275448381681588"
     },
     "user_tz": 420
    },
    "id": "2J6WYeGChSa1",
    "outputId": "1e422d5a-77c9-49f8-a1fa-9a4fd01ca27e"
   },
   "outputs": [
    {
     "name": "stdout",
     "output_type": "stream",
     "text": [
      "/bin/bash: line 1: 2: No such file or directory\n"
     ]
    }
   ],
   "source": []
  },
  {
   "cell_type": "code",
   "execution_count": 49,
   "metadata": {
    "colab": {
     "base_uri": "https://localhost:8080/",
     "height": 737
    },
    "executionInfo": {
     "elapsed": 2066558,
     "status": "ok",
     "timestamp": 1753297868137,
     "user": {
      "displayName": "Belusochim Ogwumike Ugochukwu",
      "userId": "15099275448381681588"
     },
     "user_tz": 420
    },
    "id": "4y3g8FQjcxi1",
    "outputId": "622ae840-33a9-4440-bf05-1b2cc962cf03"
   },
   "outputs": [
    {
     "data": {
      "text/html": [
       "\n",
       "    <div>\n",
       "      \n",
       "      <progress value='2200' max='2200' style='width:300px; height:20px; vertical-align: middle;'></progress>\n",
       "      [2200/2200 34:24, Epoch 20/20]\n",
       "    </div>\n",
       "    <table border=\"1\" class=\"dataframe\">\n",
       "  <thead>\n",
       " <tr style=\"text-align: left;\">\n",
       "      <th>Epoch</th>\n",
       "      <th>Training Loss</th>\n",
       "      <th>Validation Loss</th>\n",
       "      <th>Balanced Accuracy</th>\n",
       "      <th>Accuracy</th>\n",
       "    </tr>\n",
       "  </thead>\n",
       "  <tbody>\n",
       "    <tr>\n",
       "      <td>1</td>\n",
       "      <td>0.535900</td>\n",
       "      <td>0.550627</td>\n",
       "      <td>0.726529</td>\n",
       "      <td>0.776541</td>\n",
       "    </tr>\n",
       "    <tr>\n",
       "      <td>2</td>\n",
       "      <td>0.445000</td>\n",
       "      <td>0.513957</td>\n",
       "      <td>0.733612</td>\n",
       "      <td>0.787671</td>\n",
       "    </tr>\n",
       "    <tr>\n",
       "      <td>3</td>\n",
       "      <td>0.415700</td>\n",
       "      <td>0.494966</td>\n",
       "      <td>0.731447</td>\n",
       "      <td>0.786815</td>\n",
       "    </tr>\n",
       "    <tr>\n",
       "      <td>4</td>\n",
       "      <td>0.390400</td>\n",
       "      <td>0.481747</td>\n",
       "      <td>0.720938</td>\n",
       "      <td>0.781678</td>\n",
       "    </tr>\n",
       "    <tr>\n",
       "      <td>5</td>\n",
       "      <td>0.345500</td>\n",
       "      <td>0.479943</td>\n",
       "      <td>0.725362</td>\n",
       "      <td>0.782534</td>\n",
       "    </tr>\n",
       "    <tr>\n",
       "      <td>6</td>\n",
       "      <td>0.312200</td>\n",
       "      <td>0.488339</td>\n",
       "      <td>0.718987</td>\n",
       "      <td>0.784247</td>\n",
       "    </tr>\n",
       "    <tr>\n",
       "      <td>7</td>\n",
       "      <td>0.312200</td>\n",
       "      <td>0.488748</td>\n",
       "      <td>0.718815</td>\n",
       "      <td>0.781678</td>\n",
       "    </tr>\n",
       "    <tr>\n",
       "      <td>8</td>\n",
       "      <td>0.292800</td>\n",
       "      <td>0.496946</td>\n",
       "      <td>0.717330</td>\n",
       "      <td>0.780822</td>\n",
       "    </tr>\n",
       "    <tr>\n",
       "      <td>9</td>\n",
       "      <td>0.264300</td>\n",
       "      <td>0.504584</td>\n",
       "      <td>0.712795</td>\n",
       "      <td>0.779966</td>\n",
       "    </tr>\n",
       "    <tr>\n",
       "      <td>10</td>\n",
       "      <td>0.263400</td>\n",
       "      <td>0.507934</td>\n",
       "      <td>0.721269</td>\n",
       "      <td>0.785103</td>\n",
       "    </tr>\n",
       "    <tr>\n",
       "      <td>11</td>\n",
       "      <td>0.259200</td>\n",
       "      <td>0.511821</td>\n",
       "      <td>0.709969</td>\n",
       "      <td>0.778253</td>\n",
       "    </tr>\n",
       "    <tr>\n",
       "      <td>12</td>\n",
       "      <td>0.237500</td>\n",
       "      <td>0.521441</td>\n",
       "      <td>0.713221</td>\n",
       "      <td>0.779966</td>\n",
       "    </tr>\n",
       "    <tr>\n",
       "      <td>13</td>\n",
       "      <td>0.218200</td>\n",
       "      <td>0.528194</td>\n",
       "      <td>0.707704</td>\n",
       "      <td>0.777397</td>\n",
       "    </tr>\n",
       "    <tr>\n",
       "      <td>14</td>\n",
       "      <td>0.226100</td>\n",
       "      <td>0.531052</td>\n",
       "      <td>0.707053</td>\n",
       "      <td>0.773973</td>\n",
       "    </tr>\n",
       "    <tr>\n",
       "      <td>15</td>\n",
       "      <td>0.205600</td>\n",
       "      <td>0.538585</td>\n",
       "      <td>0.703389</td>\n",
       "      <td>0.774829</td>\n",
       "    </tr>\n",
       "    <tr>\n",
       "      <td>16</td>\n",
       "      <td>0.200200</td>\n",
       "      <td>0.537821</td>\n",
       "      <td>0.704516</td>\n",
       "      <td>0.772260</td>\n",
       "    </tr>\n",
       "    <tr>\n",
       "      <td>17</td>\n",
       "      <td>0.201600</td>\n",
       "      <td>0.543390</td>\n",
       "      <td>0.700529</td>\n",
       "      <td>0.771404</td>\n",
       "    </tr>\n",
       "    <tr>\n",
       "      <td>18</td>\n",
       "      <td>0.200500</td>\n",
       "      <td>0.544483</td>\n",
       "      <td>0.697534</td>\n",
       "      <td>0.768836</td>\n",
       "    </tr>\n",
       "    <tr>\n",
       "      <td>19</td>\n",
       "      <td>0.198300</td>\n",
       "      <td>0.547083</td>\n",
       "      <td>0.696385</td>\n",
       "      <td>0.769692</td>\n",
       "    </tr>\n",
       "    <tr>\n",
       "      <td>20</td>\n",
       "      <td>0.186600</td>\n",
       "      <td>0.547657</td>\n",
       "      <td>0.696385</td>\n",
       "      <td>0.769692</td>\n",
       "    </tr>\n",
       "  </tbody>\n",
       "</table><p>"
      ],
      "text/plain": [
       "<IPython.core.display.HTML object>"
      ]
     },
     "metadata": {},
     "output_type": "display_data"
    },
    {
     "data": {
      "text/plain": [
       "TrainOutput(global_step=2200, training_loss=0.2869776825471358, metrics={'train_runtime': 2065.1049, 'train_samples_per_second': 33.945, 'train_steps_per_second': 1.065, 'total_flos': 4611062645683200.0, 'train_loss': 0.2869776825471358, 'epoch': 20.0})"
      ]
     },
     "execution_count": 49,
     "metadata": {},
     "output_type": "execute_result"
    }
   ],
   "source": [
    "trainer.train()"
   ]
  },
  {
   "cell_type": "code",
   "execution_count": 50,
   "metadata": {
    "colab": {
     "base_uri": "https://localhost:8080/",
     "height": 173
    },
    "executionInfo": {
     "elapsed": 8445,
     "status": "ok",
     "timestamp": 1753298220633,
     "user": {
      "displayName": "Belusochim Ogwumike Ugochukwu",
      "userId": "15099275448381681588"
     },
     "user_tz": 420
    },
    "id": "wSr1yR9ecxQW",
    "outputId": "ef13f551-2dca-42e7-9278-19259af7301b"
   },
   "outputs": [
    {
     "data": {
      "text/html": [],
      "text/plain": [
       "<IPython.core.display.HTML object>"
      ]
     },
     "metadata": {},
     "output_type": "display_data"
    },
    {
     "data": {
      "text/plain": [
       "PredictionOutput(predictions=array([[ 4.290045  , -3.056845  , -4.100369  ],\n",
       "       [ 0.5128855 , -1.348583  , -1.8100287 ],\n",
       "       [ 1.0716122 , -2.6724224 , -1.3616703 ],\n",
       "       ...,\n",
       "       [ 1.2836261 , -3.6943896 , -0.1821409 ],\n",
       "       [ 0.45959002, -3.9305341 ,  1.2626249 ],\n",
       "       [-0.8983517 ,  0.69362456, -3.0182805 ]], dtype=float32), label_ids=array([0, 0, 0, ..., 0, 0, 1]), metrics={'test_loss': 0.49225348234176636, 'test_balanced_accuracy': 0.7539672818868467, 'test_accuracy': 0.7912745936698032, 'test_runtime': 8.3106, 'test_samples_per_second': 140.664, 'test_steps_per_second': 4.452})"
      ]
     },
     "execution_count": 50,
     "metadata": {},
     "output_type": "execute_result"
    }
   ],
   "source": [
    "predictions = trainer.predict(dataset_test)\n",
    "predictions"
   ]
  },
  {
   "cell_type": "code",
   "execution_count": 21,
   "metadata": {
    "colab": {
     "base_uri": "https://localhost:8080/"
    },
    "executionInfo": {
     "elapsed": 7810,
     "status": "ok",
     "timestamp": 1753298257890,
     "user": {
      "displayName": "Belusochim Ogwumike Ugochukwu",
      "userId": "15099275448381681588"
     },
     "user_tz": 420
    },
    "id": "-KKwP_0_cxKh",
    "outputId": "cfc0a804-1c6f-4354-f19d-ff2a956ea12a"
   },
   "outputs": [
    {
     "ename": "NameError",
     "evalue": "name 'trainer' is not defined",
     "output_type": "error",
     "traceback": [
      "\u001b[1;31m---------------------------------------------------------------------------\u001b[0m",
      "\u001b[1;31mNameError\u001b[0m                                 Traceback (most recent call last)",
      "Cell \u001b[1;32mIn[21], line 5\u001b[0m\n\u001b[0;32m      1\u001b[0m model_path \u001b[38;5;241m=\u001b[39m \u001b[38;5;124mr\u001b[39m\u001b[38;5;124m\"\u001b[39m\u001b[38;5;124mC:\u001b[39m\u001b[38;5;124m\\\u001b[39m\u001b[38;5;124mUsers\u001b[39m\u001b[38;5;124m\\\u001b[39m\u001b[38;5;124mugoch\u001b[39m\u001b[38;5;124m\\\u001b[39m\u001b[38;5;124mOneDrive\u001b[39m\u001b[38;5;124m\\\u001b[39m\u001b[38;5;124mDesktop\u001b[39m\u001b[38;5;124m\\\u001b[39m\u001b[38;5;124mSummer Projects\u001b[39m\u001b[38;5;124m\\\u001b[39m\u001b[38;5;124mFinancialAnalysis\u001b[39m\u001b[38;5;124m\\\u001b[39m\u001b[38;5;124mFinancial-Analysis\u001b[39m\u001b[38;5;124m\\\u001b[39m\u001b[38;5;124mml\u001b[39m\u001b[38;5;124m\\\u001b[39m\u001b[38;5;124mFInBertModel\u001b[39m\u001b[38;5;124m\"\u001b[39m\n\u001b[0;32m      4\u001b[0m \u001b[38;5;66;03m# Save the model\u001b[39;00m\n\u001b[1;32m----> 5\u001b[0m \u001b[43mtrainer\u001b[49m\u001b[38;5;241m.\u001b[39mmodel\u001b[38;5;241m.\u001b[39msave_pretrained(model_path)\n\u001b[0;32m      7\u001b[0m \u001b[38;5;66;03m# Save the tokenizer associated with the model\u001b[39;00m\n\u001b[0;32m      8\u001b[0m \u001b[38;5;66;03m# Save the tokenizer\u001b[39;00m\n\u001b[0;32m      9\u001b[0m tokenizer\u001b[38;5;241m.\u001b[39msave_pretrained(model_path)\n",
      "\u001b[1;31mNameError\u001b[0m: name 'trainer' is not defined"
     ]
    }
   ],
   "source": [
    "model_path = r\"C:\\Users\\ugoch\\OneDrive\\Desktop\\Summer Projects\\FinancialAnalysis\\Financial-Analysis\\ml\\FInBertModel\"\n",
    "\n",
    "\n",
    "# Save the model\n",
    "trainer.model.save_pretrained(model_path)\n",
    "\n",
    "# Save the tokenizer associated with the model\n",
    "# Save the tokenizer\n",
    "tokenizer.save_pretrained(model_path)\n",
    "\n"
   ]
  },
  {
   "cell_type": "code",
   "execution_count": 26,
   "metadata": {
    "colab": {
     "base_uri": "https://localhost:8080/"
    },
    "executionInfo": {
     "elapsed": 592,
     "status": "ok",
     "timestamp": 1753298267241,
     "user": {
      "displayName": "Belusochim Ogwumike Ugochukwu",
      "userId": "15099275448381681588"
     },
     "user_tz": 420
    },
    "id": "T6Tf_WRbcxEn",
    "outputId": "f1373834-05b8-4499-eba2-d00dd8ed9135"
   },
   "outputs": [
    {
     "name": "stderr",
     "output_type": "stream",
     "text": [
      "Device set to use cpu\n"
     ]
    }
   ],
   "source": [
    "trained_pipeline = pipeline(\"text-classification\", model=model_path, tokenizer=model_path,device=-1)"
   ]
  },
  {
   "cell_type": "code",
   "execution_count": null,
   "metadata": {
    "colab": {
     "base_uri": "https://localhost:8080/"
    },
    "executionInfo": {
     "elapsed": 16442,
     "status": "ok",
     "timestamp": 1753298290787,
     "user": {
      "displayName": "Belusochim Ogwumike Ugochukwu",
      "userId": "15099275448381681588"
     },
     "user_tz": 420
    },
    "id": "pzrE5tAscw-5",
    "outputId": "8f123af4-e8e6-4edb-e2e0-84fca43dd1b4"
   },
   "outputs": [],
   "source": []
  },
  {
   "cell_type": "code",
   "execution_count": 27,
   "metadata": {
    "colab": {
     "base_uri": "https://localhost:8080/"
    },
    "executionInfo": {
     "elapsed": 47,
     "status": "ok",
     "timestamp": 1753298330163,
     "user": {
      "displayName": "Belusochim Ogwumike Ugochukwu",
      "userId": "15099275448381681588"
     },
     "user_tz": 420
    },
    "id": "KJvFy78ncw5C",
    "outputId": "2679d799-9173-4a1a-c6a8-c4ea150760ab"
   },
   "outputs": [
    {
     "ename": "NameError",
     "evalue": "name 'balanced_accuracy_score' is not defined",
     "output_type": "error",
     "traceback": [
      "\u001b[1;31m---------------------------------------------------------------------------\u001b[0m",
      "\u001b[1;31mNameError\u001b[0m                                 Traceback (most recent call last)",
      "Cell \u001b[1;32mIn[27], line 2\u001b[0m\n\u001b[0;32m      1\u001b[0m \u001b[38;5;66;03m# Calculate the balanced accuracy score\u001b[39;00m\n\u001b[1;32m----> 2\u001b[0m score \u001b[38;5;241m=\u001b[39m \u001b[43mbalanced_accuracy_score\u001b[49m(df_test[\u001b[38;5;124m'\u001b[39m\u001b[38;5;124mSentiment\u001b[39m\u001b[38;5;124m'\u001b[39m], df_test[\u001b[38;5;124m'\u001b[39m\u001b[38;5;124mprediction\u001b[39m\u001b[38;5;124m'\u001b[39m]\u001b[38;5;241m.\u001b[39mstr\u001b[38;5;241m.\u001b[39mlower())\n\u001b[0;32m      3\u001b[0m \u001b[38;5;28mprint\u001b[39m(\u001b[38;5;124mf\u001b[39m\u001b[38;5;124m\"\u001b[39m\u001b[38;5;124mBalanced Accuracy Score: \u001b[39m\u001b[38;5;132;01m{\u001b[39;00mscore\u001b[38;5;132;01m}\u001b[39;00m\u001b[38;5;124m\"\u001b[39m)\n",
      "\u001b[1;31mNameError\u001b[0m: name 'balanced_accuracy_score' is not defined"
     ]
    }
   ],
   "source": [
    "# Calculate the balanced accuracy score\n",
    "score = balanced_accuracy_score(df_test['Sentiment'], df_test['prediction'].str.lower())\n",
    "print(f\"Balanced Accuracy Score: {score}\")\n"
   ]
  },
  {
   "cell_type": "code",
   "execution_count": 60,
   "metadata": {
    "colab": {
     "base_uri": "https://localhost:8080/"
    },
    "executionInfo": {
     "elapsed": 6,
     "status": "ok",
     "timestamp": 1753298349485,
     "user": {
      "displayName": "Belusochim Ogwumike Ugochukwu",
      "userId": "15099275448381681588"
     },
     "user_tz": 420
    },
    "id": "eI5USfzgcwza",
    "outputId": "23ff3e4b-a24f-49aa-b8c0-c5e4a5f7e67d"
   },
   "outputs": [
    {
     "name": "stdout",
     "output_type": "stream",
     "text": [
      "Accuracy Score: 0.7912745936698032\n"
     ]
    }
   ],
   "source": [
    "# Calculate the balanced accuracy score\n",
    "score = accuracy_score(df_test['Sentiment'], df_test['prediction'].str.lower())\n",
    "print(f\"Accuracy Score: {score}\")\n"
   ]
  },
  {
   "cell_type": "markdown",
   "metadata": {
    "id": "br4Q0bk1vMmN"
   },
   "source": [
    "Let's Upload the model to Hugging Face Model Hub\n"
   ]
  },
  {
   "cell_type": "code",
   "execution_count": 79,
   "metadata": {
    "executionInfo": {
     "elapsed": 10,
     "status": "ok",
     "timestamp": 1753299258208,
     "user": {
      "displayName": "Belusochim Ogwumike Ugochukwu",
      "userId": "15099275448381681588"
     },
     "user_tz": 420
    },
    "id": "s9m0XwxBx3qk"
   },
   "outputs": [],
   "source": [
    "import os"
   ]
  },
  {
   "cell_type": "code",
   "execution_count": 81,
   "metadata": {
    "colab": {
     "base_uri": "https://localhost:8080/",
     "height": 118,
     "referenced_widgets": [
      "4b3243dae63f40bbb3d0dd30114edcc6",
      "d62e2a723af4480e8e48fc183af1ffd8",
      "7abf66cfe6cc48299aeb6738e0b4c35f",
      "43391fb96d814f2d988d55ac5ed2db0b",
      "fbd69508ef47417daed238e88b35e8ae",
      "cf7308f537614024bd9a594f91184685",
      "adbc5c0cb28d4fab9bf96d16a7d712e3",
      "4050debaf78644ca98a257fa912f904a",
      "d92bf3a4261743d0bca0c28a26f7e908",
      "3a72c06e3dea49debf17853774af2613",
      "e2b009aa720d426b96f6e50af06b4561"
     ]
    },
    "executionInfo": {
     "elapsed": 15933,
     "status": "ok",
     "timestamp": 1753299330979,
     "user": {
      "displayName": "Belusochim Ogwumike Ugochukwu",
      "userId": "15099275448381681588"
     },
     "user_tz": 420
    },
    "id": "g0jtsq7rxFbB",
    "outputId": "8dfcd43b-78f1-441f-eae5-09faaf41204b"
   },
   "outputs": [
    {
     "data": {
      "application/vnd.jupyter.widget-view+json": {
       "model_id": "4b3243dae63f40bbb3d0dd30114edcc6",
       "version_major": 2,
       "version_minor": 0
      },
      "text/plain": [
       "Uploading...:   0%|          | 0.00/439M [00:00<?, ?B/s]"
      ]
     },
     "metadata": {},
     "output_type": "display_data"
    },
    {
     "data": {
      "application/vnd.google.colaboratory.intrinsic+json": {
       "type": "string"
      },
      "text/plain": [
       "CommitInfo(commit_url='https://huggingface.co/Belusochim/Fine-Tune-FinBert/commit/4a8c5e2facc3b95dcec50ade819f0aea506354fe', commit_message='Upload folder using huggingface_hub', commit_description='', oid='4a8c5e2facc3b95dcec50ade819f0aea506354fe', pr_url=None, repo_url=RepoUrl('https://huggingface.co/Belusochim/Fine-Tune-FinBert', endpoint='https://huggingface.co', repo_type='model', repo_id='Belusochim/Fine-Tune-FinBert'), pr_revision=None, pr_num=None)"
      ]
     },
     "execution_count": 81,
     "metadata": {},
     "output_type": "execute_result"
    }
   ],
   "source": [
    "from huggingface_hub import HfApi\n",
    "\n",
    "api = HfApi(token=os.getenv(\"HF_TOKEN\"))\n",
    "api.upload_folder(\n",
    "    folder_path=\"/content/path\",\n",
    "    repo_id=\"Belusochim/Fine-Tune-FinBert\",\n",
    "    repo_type=\"model\",\n",
    ")"
   ]
  },
  {
   "cell_type": "code",
   "execution_count": 6,
   "metadata": {},
   "outputs": [],
   "source": [
    "model_path = \"path/to/save/model\"\n"
   ]
  },
  {
   "cell_type": "code",
   "execution_count": 19,
   "metadata": {},
   "outputs": [
    {
     "ename": "OSError",
     "evalue": "Can't load tokenizer for 'to/save/model/tokenizer.json'. If you were trying to load it from 'https://huggingface.co/models', make sure you don't have a local directory with the same name. Otherwise, make sure 'to/save/model/tokenizer.json' is the correct path to a directory containing all relevant files for a BertTokenizer tokenizer.",
     "output_type": "error",
     "traceback": [
      "\u001b[1;31m---------------------------------------------------------------------------\u001b[0m",
      "\u001b[1;31mHFValidationError\u001b[0m                         Traceback (most recent call last)",
      "File \u001b[1;32mc:\\Users\\ugoch\\AppData\\Local\\Programs\\Python\\Python310\\lib\\site-packages\\transformers\\utils\\hub.py:470\u001b[0m, in \u001b[0;36mcached_files\u001b[1;34m(path_or_repo_id, filenames, cache_dir, force_download, resume_download, proxies, token, revision, local_files_only, subfolder, repo_type, user_agent, _raise_exceptions_for_gated_repo, _raise_exceptions_for_missing_entries, _raise_exceptions_for_connection_errors, _commit_hash, **deprecated_kwargs)\u001b[0m\n\u001b[0;32m    468\u001b[0m \u001b[38;5;28;01mif\u001b[39;00m \u001b[38;5;28mlen\u001b[39m(full_filenames) \u001b[38;5;241m==\u001b[39m \u001b[38;5;241m1\u001b[39m:\n\u001b[0;32m    469\u001b[0m     \u001b[38;5;66;03m# This is slightly better for only 1 file\u001b[39;00m\n\u001b[1;32m--> 470\u001b[0m     \u001b[43mhf_hub_download\u001b[49m\u001b[43m(\u001b[49m\n\u001b[0;32m    471\u001b[0m \u001b[43m        \u001b[49m\u001b[43mpath_or_repo_id\u001b[49m\u001b[43m,\u001b[49m\n\u001b[0;32m    472\u001b[0m \u001b[43m        \u001b[49m\u001b[43mfilenames\u001b[49m\u001b[43m[\u001b[49m\u001b[38;5;241;43m0\u001b[39;49m\u001b[43m]\u001b[49m\u001b[43m,\u001b[49m\n\u001b[0;32m    473\u001b[0m \u001b[43m        \u001b[49m\u001b[43msubfolder\u001b[49m\u001b[38;5;241;43m=\u001b[39;49m\u001b[38;5;28;43;01mNone\u001b[39;49;00m\u001b[43m \u001b[49m\u001b[38;5;28;43;01mif\u001b[39;49;00m\u001b[43m \u001b[49m\u001b[38;5;28;43mlen\u001b[39;49m\u001b[43m(\u001b[49m\u001b[43msubfolder\u001b[49m\u001b[43m)\u001b[49m\u001b[43m \u001b[49m\u001b[38;5;241;43m==\u001b[39;49m\u001b[43m \u001b[49m\u001b[38;5;241;43m0\u001b[39;49m\u001b[43m \u001b[49m\u001b[38;5;28;43;01melse\u001b[39;49;00m\u001b[43m \u001b[49m\u001b[43msubfolder\u001b[49m\u001b[43m,\u001b[49m\n\u001b[0;32m    474\u001b[0m \u001b[43m        \u001b[49m\u001b[43mrepo_type\u001b[49m\u001b[38;5;241;43m=\u001b[39;49m\u001b[43mrepo_type\u001b[49m\u001b[43m,\u001b[49m\n\u001b[0;32m    475\u001b[0m \u001b[43m        \u001b[49m\u001b[43mrevision\u001b[49m\u001b[38;5;241;43m=\u001b[39;49m\u001b[43mrevision\u001b[49m\u001b[43m,\u001b[49m\n\u001b[0;32m    476\u001b[0m \u001b[43m        \u001b[49m\u001b[43mcache_dir\u001b[49m\u001b[38;5;241;43m=\u001b[39;49m\u001b[43mcache_dir\u001b[49m\u001b[43m,\u001b[49m\n\u001b[0;32m    477\u001b[0m \u001b[43m        \u001b[49m\u001b[43muser_agent\u001b[49m\u001b[38;5;241;43m=\u001b[39;49m\u001b[43muser_agent\u001b[49m\u001b[43m,\u001b[49m\n\u001b[0;32m    478\u001b[0m \u001b[43m        \u001b[49m\u001b[43mforce_download\u001b[49m\u001b[38;5;241;43m=\u001b[39;49m\u001b[43mforce_download\u001b[49m\u001b[43m,\u001b[49m\n\u001b[0;32m    479\u001b[0m \u001b[43m        \u001b[49m\u001b[43mproxies\u001b[49m\u001b[38;5;241;43m=\u001b[39;49m\u001b[43mproxies\u001b[49m\u001b[43m,\u001b[49m\n\u001b[0;32m    480\u001b[0m \u001b[43m        \u001b[49m\u001b[43mresume_download\u001b[49m\u001b[38;5;241;43m=\u001b[39;49m\u001b[43mresume_download\u001b[49m\u001b[43m,\u001b[49m\n\u001b[0;32m    481\u001b[0m \u001b[43m        \u001b[49m\u001b[43mtoken\u001b[49m\u001b[38;5;241;43m=\u001b[39;49m\u001b[43mtoken\u001b[49m\u001b[43m,\u001b[49m\n\u001b[0;32m    482\u001b[0m \u001b[43m        \u001b[49m\u001b[43mlocal_files_only\u001b[49m\u001b[38;5;241;43m=\u001b[39;49m\u001b[43mlocal_files_only\u001b[49m\u001b[43m,\u001b[49m\n\u001b[0;32m    483\u001b[0m \u001b[43m    \u001b[49m\u001b[43m)\u001b[49m\n\u001b[0;32m    484\u001b[0m \u001b[38;5;28;01melse\u001b[39;00m:\n",
      "File \u001b[1;32mc:\\Users\\ugoch\\AppData\\Local\\Programs\\Python\\Python310\\lib\\site-packages\\huggingface_hub\\utils\\_validators.py:106\u001b[0m, in \u001b[0;36mvalidate_hf_hub_args.<locals>._inner_fn\u001b[1;34m(*args, **kwargs)\u001b[0m\n\u001b[0;32m    105\u001b[0m \u001b[38;5;28;01mif\u001b[39;00m arg_name \u001b[38;5;129;01min\u001b[39;00m [\u001b[38;5;124m\"\u001b[39m\u001b[38;5;124mrepo_id\u001b[39m\u001b[38;5;124m\"\u001b[39m, \u001b[38;5;124m\"\u001b[39m\u001b[38;5;124mfrom_id\u001b[39m\u001b[38;5;124m\"\u001b[39m, \u001b[38;5;124m\"\u001b[39m\u001b[38;5;124mto_id\u001b[39m\u001b[38;5;124m\"\u001b[39m]:\n\u001b[1;32m--> 106\u001b[0m     \u001b[43mvalidate_repo_id\u001b[49m\u001b[43m(\u001b[49m\u001b[43marg_value\u001b[49m\u001b[43m)\u001b[49m\n\u001b[0;32m    108\u001b[0m \u001b[38;5;28;01melif\u001b[39;00m arg_name \u001b[38;5;241m==\u001b[39m \u001b[38;5;124m\"\u001b[39m\u001b[38;5;124mtoken\u001b[39m\u001b[38;5;124m\"\u001b[39m \u001b[38;5;129;01mand\u001b[39;00m arg_value \u001b[38;5;129;01mis\u001b[39;00m \u001b[38;5;129;01mnot\u001b[39;00m \u001b[38;5;28;01mNone\u001b[39;00m:\n",
      "File \u001b[1;32mc:\\Users\\ugoch\\AppData\\Local\\Programs\\Python\\Python310\\lib\\site-packages\\huggingface_hub\\utils\\_validators.py:154\u001b[0m, in \u001b[0;36mvalidate_repo_id\u001b[1;34m(repo_id)\u001b[0m\n\u001b[0;32m    153\u001b[0m \u001b[38;5;28;01mif\u001b[39;00m repo_id\u001b[38;5;241m.\u001b[39mcount(\u001b[38;5;124m\"\u001b[39m\u001b[38;5;124m/\u001b[39m\u001b[38;5;124m\"\u001b[39m) \u001b[38;5;241m>\u001b[39m \u001b[38;5;241m1\u001b[39m:\n\u001b[1;32m--> 154\u001b[0m     \u001b[38;5;28;01mraise\u001b[39;00m HFValidationError(\n\u001b[0;32m    155\u001b[0m         \u001b[38;5;124m\"\u001b[39m\u001b[38;5;124mRepo id must be in the form \u001b[39m\u001b[38;5;124m'\u001b[39m\u001b[38;5;124mrepo_name\u001b[39m\u001b[38;5;124m'\u001b[39m\u001b[38;5;124m or \u001b[39m\u001b[38;5;124m'\u001b[39m\u001b[38;5;124mnamespace/repo_name\u001b[39m\u001b[38;5;124m'\u001b[39m\u001b[38;5;124m:\u001b[39m\u001b[38;5;124m\"\u001b[39m\n\u001b[0;32m    156\u001b[0m         \u001b[38;5;124mf\u001b[39m\u001b[38;5;124m\"\u001b[39m\u001b[38;5;124m \u001b[39m\u001b[38;5;124m'\u001b[39m\u001b[38;5;132;01m{\u001b[39;00mrepo_id\u001b[38;5;132;01m}\u001b[39;00m\u001b[38;5;124m'\u001b[39m\u001b[38;5;124m. Use `repo_type` argument if needed.\u001b[39m\u001b[38;5;124m\"\u001b[39m\n\u001b[0;32m    157\u001b[0m     )\n\u001b[0;32m    159\u001b[0m \u001b[38;5;28;01mif\u001b[39;00m \u001b[38;5;129;01mnot\u001b[39;00m REPO_ID_REGEX\u001b[38;5;241m.\u001b[39mmatch(repo_id):\n",
      "\u001b[1;31mHFValidationError\u001b[0m: Repo id must be in the form 'repo_name' or 'namespace/repo_name': 'to/save/model/tokenizer.json'. Use `repo_type` argument if needed.",
      "\nDuring handling of the above exception, another exception occurred:\n",
      "\u001b[1;31mHFValidationError\u001b[0m                         Traceback (most recent call last)",
      "File \u001b[1;32mc:\\Users\\ugoch\\AppData\\Local\\Programs\\Python\\Python310\\lib\\site-packages\\transformers\\tokenization_utils_base.py:1912\u001b[0m, in \u001b[0;36mPreTrainedTokenizerBase.from_pretrained\u001b[1;34m(cls, pretrained_model_name_or_path, cache_dir, force_download, local_files_only, token, revision, trust_remote_code, *init_inputs, **kwargs)\u001b[0m\n\u001b[0;32m   1911\u001b[0m \u001b[38;5;28;01mtry\u001b[39;00m:\n\u001b[1;32m-> 1912\u001b[0m     resolved_config_file \u001b[38;5;241m=\u001b[39m \u001b[43mcached_file\u001b[49m\u001b[43m(\u001b[49m\n\u001b[0;32m   1913\u001b[0m \u001b[43m        \u001b[49m\u001b[43mpretrained_model_name_or_path\u001b[49m\u001b[43m,\u001b[49m\n\u001b[0;32m   1914\u001b[0m \u001b[43m        \u001b[49m\u001b[43mTOKENIZER_CONFIG_FILE\u001b[49m\u001b[43m,\u001b[49m\n\u001b[0;32m   1915\u001b[0m \u001b[43m        \u001b[49m\u001b[43mcache_dir\u001b[49m\u001b[38;5;241;43m=\u001b[39;49m\u001b[43mcache_dir\u001b[49m\u001b[43m,\u001b[49m\n\u001b[0;32m   1916\u001b[0m \u001b[43m        \u001b[49m\u001b[43mforce_download\u001b[49m\u001b[38;5;241;43m=\u001b[39;49m\u001b[43mforce_download\u001b[49m\u001b[43m,\u001b[49m\n\u001b[0;32m   1917\u001b[0m \u001b[43m        \u001b[49m\u001b[43mresume_download\u001b[49m\u001b[38;5;241;43m=\u001b[39;49m\u001b[43mresume_download\u001b[49m\u001b[43m,\u001b[49m\n\u001b[0;32m   1918\u001b[0m \u001b[43m        \u001b[49m\u001b[43mproxies\u001b[49m\u001b[38;5;241;43m=\u001b[39;49m\u001b[43mproxies\u001b[49m\u001b[43m,\u001b[49m\n\u001b[0;32m   1919\u001b[0m \u001b[43m        \u001b[49m\u001b[43mtoken\u001b[49m\u001b[38;5;241;43m=\u001b[39;49m\u001b[43mtoken\u001b[49m\u001b[43m,\u001b[49m\n\u001b[0;32m   1920\u001b[0m \u001b[43m        \u001b[49m\u001b[43mrevision\u001b[49m\u001b[38;5;241;43m=\u001b[39;49m\u001b[43mrevision\u001b[49m\u001b[43m,\u001b[49m\n\u001b[0;32m   1921\u001b[0m \u001b[43m        \u001b[49m\u001b[43mlocal_files_only\u001b[49m\u001b[38;5;241;43m=\u001b[39;49m\u001b[43mlocal_files_only\u001b[49m\u001b[43m,\u001b[49m\n\u001b[0;32m   1922\u001b[0m \u001b[43m        \u001b[49m\u001b[43msubfolder\u001b[49m\u001b[38;5;241;43m=\u001b[39;49m\u001b[43msubfolder\u001b[49m\u001b[43m,\u001b[49m\n\u001b[0;32m   1923\u001b[0m \u001b[43m        \u001b[49m\u001b[43muser_agent\u001b[49m\u001b[38;5;241;43m=\u001b[39;49m\u001b[43muser_agent\u001b[49m\u001b[43m,\u001b[49m\n\u001b[0;32m   1924\u001b[0m \u001b[43m        \u001b[49m\u001b[43m_raise_exceptions_for_missing_entries\u001b[49m\u001b[38;5;241;43m=\u001b[39;49m\u001b[38;5;28;43;01mFalse\u001b[39;49;00m\u001b[43m,\u001b[49m\n\u001b[0;32m   1925\u001b[0m \u001b[43m        \u001b[49m\u001b[43m_commit_hash\u001b[49m\u001b[38;5;241;43m=\u001b[39;49m\u001b[43mcommit_hash\u001b[49m\u001b[43m,\u001b[49m\n\u001b[0;32m   1926\u001b[0m \u001b[43m    \u001b[49m\u001b[43m)\u001b[49m\n\u001b[0;32m   1927\u001b[0m \u001b[38;5;28;01mexcept\u001b[39;00m \u001b[38;5;167;01mOSError\u001b[39;00m:\n\u001b[0;32m   1928\u001b[0m     \u001b[38;5;66;03m# Re-raise any error raised by cached_file in order to get a helpful error message\u001b[39;00m\n",
      "File \u001b[1;32mc:\\Users\\ugoch\\AppData\\Local\\Programs\\Python\\Python310\\lib\\site-packages\\transformers\\utils\\hub.py:312\u001b[0m, in \u001b[0;36mcached_file\u001b[1;34m(path_or_repo_id, filename, **kwargs)\u001b[0m\n\u001b[0;32m    259\u001b[0m \u001b[38;5;250m\u001b[39m\u001b[38;5;124;03m\"\"\"\u001b[39;00m\n\u001b[0;32m    260\u001b[0m \u001b[38;5;124;03mTries to locate a file in a local folder and repo, downloads and cache it if necessary.\u001b[39;00m\n\u001b[0;32m    261\u001b[0m \n\u001b[1;32m   (...)\u001b[0m\n\u001b[0;32m    310\u001b[0m \u001b[38;5;124;03m```\u001b[39;00m\n\u001b[0;32m    311\u001b[0m \u001b[38;5;124;03m\"\"\"\u001b[39;00m\n\u001b[1;32m--> 312\u001b[0m file \u001b[38;5;241m=\u001b[39m cached_files(path_or_repo_id\u001b[38;5;241m=\u001b[39mpath_or_repo_id, filenames\u001b[38;5;241m=\u001b[39m[filename], \u001b[38;5;241m*\u001b[39m\u001b[38;5;241m*\u001b[39mkwargs)\n\u001b[0;32m    313\u001b[0m file \u001b[38;5;241m=\u001b[39m file[\u001b[38;5;241m0\u001b[39m] \u001b[38;5;28;01mif\u001b[39;00m file \u001b[38;5;129;01mis\u001b[39;00m \u001b[38;5;129;01mnot\u001b[39;00m \u001b[38;5;28;01mNone\u001b[39;00m \u001b[38;5;28;01melse\u001b[39;00m file\n",
      "File \u001b[1;32mc:\\Users\\ugoch\\AppData\\Local\\Programs\\Python\\Python310\\lib\\site-packages\\transformers\\utils\\hub.py:522\u001b[0m, in \u001b[0;36mcached_files\u001b[1;34m(path_or_repo_id, filenames, cache_dir, force_download, resume_download, proxies, token, revision, local_files_only, subfolder, repo_type, user_agent, _raise_exceptions_for_gated_repo, _raise_exceptions_for_missing_entries, _raise_exceptions_for_connection_errors, _commit_hash, **deprecated_kwargs)\u001b[0m\n\u001b[0;32m    521\u001b[0m \u001b[38;5;66;03m# Now we try to recover if we can find all files correctly in the cache\u001b[39;00m\n\u001b[1;32m--> 522\u001b[0m resolved_files \u001b[38;5;241m=\u001b[39m [\n\u001b[0;32m    523\u001b[0m     _get_cache_file_to_return(path_or_repo_id, filename, cache_dir, revision) \u001b[38;5;28;01mfor\u001b[39;00m filename \u001b[38;5;129;01min\u001b[39;00m full_filenames\n\u001b[0;32m    524\u001b[0m ]\n\u001b[0;32m    525\u001b[0m \u001b[38;5;28;01mif\u001b[39;00m \u001b[38;5;28mall\u001b[39m(file \u001b[38;5;129;01mis\u001b[39;00m \u001b[38;5;129;01mnot\u001b[39;00m \u001b[38;5;28;01mNone\u001b[39;00m \u001b[38;5;28;01mfor\u001b[39;00m file \u001b[38;5;129;01min\u001b[39;00m resolved_files):\n",
      "File \u001b[1;32mc:\\Users\\ugoch\\AppData\\Local\\Programs\\Python\\Python310\\lib\\site-packages\\transformers\\utils\\hub.py:523\u001b[0m, in \u001b[0;36m<listcomp>\u001b[1;34m(.0)\u001b[0m\n\u001b[0;32m    521\u001b[0m \u001b[38;5;66;03m# Now we try to recover if we can find all files correctly in the cache\u001b[39;00m\n\u001b[0;32m    522\u001b[0m resolved_files \u001b[38;5;241m=\u001b[39m [\n\u001b[1;32m--> 523\u001b[0m     \u001b[43m_get_cache_file_to_return\u001b[49m\u001b[43m(\u001b[49m\u001b[43mpath_or_repo_id\u001b[49m\u001b[43m,\u001b[49m\u001b[43m \u001b[49m\u001b[43mfilename\u001b[49m\u001b[43m,\u001b[49m\u001b[43m \u001b[49m\u001b[43mcache_dir\u001b[49m\u001b[43m,\u001b[49m\u001b[43m \u001b[49m\u001b[43mrevision\u001b[49m\u001b[43m)\u001b[49m \u001b[38;5;28;01mfor\u001b[39;00m filename \u001b[38;5;129;01min\u001b[39;00m full_filenames\n\u001b[0;32m    524\u001b[0m ]\n\u001b[0;32m    525\u001b[0m \u001b[38;5;28;01mif\u001b[39;00m \u001b[38;5;28mall\u001b[39m(file \u001b[38;5;129;01mis\u001b[39;00m \u001b[38;5;129;01mnot\u001b[39;00m \u001b[38;5;28;01mNone\u001b[39;00m \u001b[38;5;28;01mfor\u001b[39;00m file \u001b[38;5;129;01min\u001b[39;00m resolved_files):\n",
      "File \u001b[1;32mc:\\Users\\ugoch\\AppData\\Local\\Programs\\Python\\Python310\\lib\\site-packages\\transformers\\utils\\hub.py:140\u001b[0m, in \u001b[0;36m_get_cache_file_to_return\u001b[1;34m(path_or_repo_id, full_filename, cache_dir, revision)\u001b[0m\n\u001b[0;32m    136\u001b[0m \u001b[38;5;28;01mdef\u001b[39;00m\u001b[38;5;250m \u001b[39m\u001b[38;5;21m_get_cache_file_to_return\u001b[39m(\n\u001b[0;32m    137\u001b[0m     path_or_repo_id: \u001b[38;5;28mstr\u001b[39m, full_filename: \u001b[38;5;28mstr\u001b[39m, cache_dir: Union[\u001b[38;5;28mstr\u001b[39m, Path, \u001b[38;5;28;01mNone\u001b[39;00m] \u001b[38;5;241m=\u001b[39m \u001b[38;5;28;01mNone\u001b[39;00m, revision: Optional[\u001b[38;5;28mstr\u001b[39m] \u001b[38;5;241m=\u001b[39m \u001b[38;5;28;01mNone\u001b[39;00m\n\u001b[0;32m    138\u001b[0m ):\n\u001b[0;32m    139\u001b[0m     \u001b[38;5;66;03m# We try to see if we have a cached version (not up to date):\u001b[39;00m\n\u001b[1;32m--> 140\u001b[0m     resolved_file \u001b[38;5;241m=\u001b[39m \u001b[43mtry_to_load_from_cache\u001b[49m\u001b[43m(\u001b[49m\u001b[43mpath_or_repo_id\u001b[49m\u001b[43m,\u001b[49m\u001b[43m \u001b[49m\u001b[43mfull_filename\u001b[49m\u001b[43m,\u001b[49m\u001b[43m \u001b[49m\u001b[43mcache_dir\u001b[49m\u001b[38;5;241;43m=\u001b[39;49m\u001b[43mcache_dir\u001b[49m\u001b[43m,\u001b[49m\u001b[43m \u001b[49m\u001b[43mrevision\u001b[49m\u001b[38;5;241;43m=\u001b[39;49m\u001b[43mrevision\u001b[49m\u001b[43m)\u001b[49m\n\u001b[0;32m    141\u001b[0m     \u001b[38;5;28;01mif\u001b[39;00m resolved_file \u001b[38;5;129;01mis\u001b[39;00m \u001b[38;5;129;01mnot\u001b[39;00m \u001b[38;5;28;01mNone\u001b[39;00m \u001b[38;5;129;01mand\u001b[39;00m resolved_file \u001b[38;5;241m!=\u001b[39m _CACHED_NO_EXIST:\n",
      "File \u001b[1;32mc:\\Users\\ugoch\\AppData\\Local\\Programs\\Python\\Python310\\lib\\site-packages\\huggingface_hub\\utils\\_validators.py:106\u001b[0m, in \u001b[0;36mvalidate_hf_hub_args.<locals>._inner_fn\u001b[1;34m(*args, **kwargs)\u001b[0m\n\u001b[0;32m    105\u001b[0m \u001b[38;5;28;01mif\u001b[39;00m arg_name \u001b[38;5;129;01min\u001b[39;00m [\u001b[38;5;124m\"\u001b[39m\u001b[38;5;124mrepo_id\u001b[39m\u001b[38;5;124m\"\u001b[39m, \u001b[38;5;124m\"\u001b[39m\u001b[38;5;124mfrom_id\u001b[39m\u001b[38;5;124m\"\u001b[39m, \u001b[38;5;124m\"\u001b[39m\u001b[38;5;124mto_id\u001b[39m\u001b[38;5;124m\"\u001b[39m]:\n\u001b[1;32m--> 106\u001b[0m     \u001b[43mvalidate_repo_id\u001b[49m\u001b[43m(\u001b[49m\u001b[43marg_value\u001b[49m\u001b[43m)\u001b[49m\n\u001b[0;32m    108\u001b[0m \u001b[38;5;28;01melif\u001b[39;00m arg_name \u001b[38;5;241m==\u001b[39m \u001b[38;5;124m\"\u001b[39m\u001b[38;5;124mtoken\u001b[39m\u001b[38;5;124m\"\u001b[39m \u001b[38;5;129;01mand\u001b[39;00m arg_value \u001b[38;5;129;01mis\u001b[39;00m \u001b[38;5;129;01mnot\u001b[39;00m \u001b[38;5;28;01mNone\u001b[39;00m:\n",
      "File \u001b[1;32mc:\\Users\\ugoch\\AppData\\Local\\Programs\\Python\\Python310\\lib\\site-packages\\huggingface_hub\\utils\\_validators.py:154\u001b[0m, in \u001b[0;36mvalidate_repo_id\u001b[1;34m(repo_id)\u001b[0m\n\u001b[0;32m    153\u001b[0m \u001b[38;5;28;01mif\u001b[39;00m repo_id\u001b[38;5;241m.\u001b[39mcount(\u001b[38;5;124m\"\u001b[39m\u001b[38;5;124m/\u001b[39m\u001b[38;5;124m\"\u001b[39m) \u001b[38;5;241m>\u001b[39m \u001b[38;5;241m1\u001b[39m:\n\u001b[1;32m--> 154\u001b[0m     \u001b[38;5;28;01mraise\u001b[39;00m HFValidationError(\n\u001b[0;32m    155\u001b[0m         \u001b[38;5;124m\"\u001b[39m\u001b[38;5;124mRepo id must be in the form \u001b[39m\u001b[38;5;124m'\u001b[39m\u001b[38;5;124mrepo_name\u001b[39m\u001b[38;5;124m'\u001b[39m\u001b[38;5;124m or \u001b[39m\u001b[38;5;124m'\u001b[39m\u001b[38;5;124mnamespace/repo_name\u001b[39m\u001b[38;5;124m'\u001b[39m\u001b[38;5;124m:\u001b[39m\u001b[38;5;124m\"\u001b[39m\n\u001b[0;32m    156\u001b[0m         \u001b[38;5;124mf\u001b[39m\u001b[38;5;124m\"\u001b[39m\u001b[38;5;124m \u001b[39m\u001b[38;5;124m'\u001b[39m\u001b[38;5;132;01m{\u001b[39;00mrepo_id\u001b[38;5;132;01m}\u001b[39;00m\u001b[38;5;124m'\u001b[39m\u001b[38;5;124m. Use `repo_type` argument if needed.\u001b[39m\u001b[38;5;124m\"\u001b[39m\n\u001b[0;32m    157\u001b[0m     )\n\u001b[0;32m    159\u001b[0m \u001b[38;5;28;01mif\u001b[39;00m \u001b[38;5;129;01mnot\u001b[39;00m REPO_ID_REGEX\u001b[38;5;241m.\u001b[39mmatch(repo_id):\n",
      "\u001b[1;31mHFValidationError\u001b[0m: Repo id must be in the form 'repo_name' or 'namespace/repo_name': 'to/save/model/tokenizer.json'. Use `repo_type` argument if needed.",
      "\nDuring handling of the above exception, another exception occurred:\n",
      "\u001b[1;31mOSError\u001b[0m                                   Traceback (most recent call last)",
      "Cell \u001b[1;32mIn[19], line 4\u001b[0m\n\u001b[0;32m      1\u001b[0m \u001b[38;5;28;01mfrom\u001b[39;00m\u001b[38;5;250m \u001b[39m\u001b[38;5;21;01mtransformers\u001b[39;00m\u001b[38;5;250m \u001b[39m\u001b[38;5;28;01mimport\u001b[39;00m BertTokenizer, BertForSequenceClassification\n\u001b[0;32m      3\u001b[0m \u001b[38;5;66;03m# Use the correct directory path for model and tokenizer\u001b[39;00m\n\u001b[1;32m----> 4\u001b[0m tokenizer \u001b[38;5;241m=\u001b[39m \u001b[43mBertTokenizer\u001b[49m\u001b[38;5;241;43m.\u001b[39;49m\u001b[43mfrom_pretrained\u001b[49m\u001b[43m(\u001b[49m\u001b[43mmodel_path\u001b[49m\u001b[43m)\u001b[49m\n\u001b[0;32m      5\u001b[0m model \u001b[38;5;241m=\u001b[39m BertForSequenceClassification\u001b[38;5;241m.\u001b[39mfrom_pretrained(model_path)\n",
      "File \u001b[1;32mc:\\Users\\ugoch\\AppData\\Local\\Programs\\Python\\Python310\\lib\\site-packages\\transformers\\tokenization_utils_base.py:1932\u001b[0m, in \u001b[0;36mPreTrainedTokenizerBase.from_pretrained\u001b[1;34m(cls, pretrained_model_name_or_path, cache_dir, force_download, local_files_only, token, revision, trust_remote_code, *init_inputs, **kwargs)\u001b[0m\n\u001b[0;32m   1929\u001b[0m     \u001b[38;5;28;01mraise\u001b[39;00m\n\u001b[0;32m   1930\u001b[0m \u001b[38;5;28;01mexcept\u001b[39;00m \u001b[38;5;167;01mException\u001b[39;00m:\n\u001b[0;32m   1931\u001b[0m     \u001b[38;5;66;03m# For any other exception, we throw a generic error.\u001b[39;00m\n\u001b[1;32m-> 1932\u001b[0m     \u001b[38;5;28;01mraise\u001b[39;00m \u001b[38;5;167;01mOSError\u001b[39;00m(\n\u001b[0;32m   1933\u001b[0m         \u001b[38;5;124mf\u001b[39m\u001b[38;5;124m\"\u001b[39m\u001b[38;5;124mCan\u001b[39m\u001b[38;5;124m'\u001b[39m\u001b[38;5;124mt load tokenizer for \u001b[39m\u001b[38;5;124m'\u001b[39m\u001b[38;5;132;01m{\u001b[39;00mpretrained_model_name_or_path\u001b[38;5;132;01m}\u001b[39;00m\u001b[38;5;124m'\u001b[39m\u001b[38;5;124m. If you were trying to load it from \u001b[39m\u001b[38;5;124m\"\u001b[39m\n\u001b[0;32m   1934\u001b[0m         \u001b[38;5;124m\"\u001b[39m\u001b[38;5;124m'\u001b[39m\u001b[38;5;124mhttps://huggingface.co/models\u001b[39m\u001b[38;5;124m'\u001b[39m\u001b[38;5;124m, make sure you don\u001b[39m\u001b[38;5;124m'\u001b[39m\u001b[38;5;124mt have a local directory with the same name. \u001b[39m\u001b[38;5;124m\"\u001b[39m\n\u001b[0;32m   1935\u001b[0m         \u001b[38;5;124mf\u001b[39m\u001b[38;5;124m\"\u001b[39m\u001b[38;5;124mOtherwise, make sure \u001b[39m\u001b[38;5;124m'\u001b[39m\u001b[38;5;132;01m{\u001b[39;00mpretrained_model_name_or_path\u001b[38;5;132;01m}\u001b[39;00m\u001b[38;5;124m'\u001b[39m\u001b[38;5;124m is the correct path to a directory \u001b[39m\u001b[38;5;124m\"\u001b[39m\n\u001b[0;32m   1936\u001b[0m         \u001b[38;5;124mf\u001b[39m\u001b[38;5;124m\"\u001b[39m\u001b[38;5;124mcontaining all relevant files for a \u001b[39m\u001b[38;5;132;01m{\u001b[39;00m\u001b[38;5;28mcls\u001b[39m\u001b[38;5;241m.\u001b[39m\u001b[38;5;18m__name__\u001b[39m\u001b[38;5;132;01m}\u001b[39;00m\u001b[38;5;124m tokenizer.\u001b[39m\u001b[38;5;124m\"\u001b[39m\n\u001b[0;32m   1937\u001b[0m     )\n\u001b[0;32m   1939\u001b[0m commit_hash \u001b[38;5;241m=\u001b[39m extract_commit_hash(resolved_config_file, commit_hash)\n\u001b[0;32m   1940\u001b[0m \u001b[38;5;28;01mif\u001b[39;00m resolved_config_file \u001b[38;5;129;01mis\u001b[39;00m \u001b[38;5;129;01mnot\u001b[39;00m \u001b[38;5;28;01mNone\u001b[39;00m:\n",
      "\u001b[1;31mOSError\u001b[0m: Can't load tokenizer for 'to/save/model/tokenizer.json'. If you were trying to load it from 'https://huggingface.co/models', make sure you don't have a local directory with the same name. Otherwise, make sure 'to/save/model/tokenizer.json' is the correct path to a directory containing all relevant files for a BertTokenizer tokenizer."
     ]
    }
   ],
   "source": [
    "from transformers import BertTokenizer, BertForSequenceClassification\n",
    "\n",
    "# Use the correct directory path for model and tokenizer\n",
    "tokenizer = BertTokenizer.from_pretrained(model_path)\n",
    "model = BertForSequenceClassification.from_pretrained(model_path)"
   ]
  },
  {
   "cell_type": "code",
   "execution_count": 11,
   "metadata": {
    "id": "0D-T0Z2EyUX1"
   },
   "outputs": [
    {
     "ename": "HFValidationError",
     "evalue": "Repo id must be in the form 'repo_name' or 'namespace/repo_name': 'path/to/save/model'. Use `repo_type` argument if needed.",
     "output_type": "error",
     "traceback": [
      "\u001b[1;31m---------------------------------------------------------------------------\u001b[0m",
      "\u001b[1;31mHFValidationError\u001b[0m                         Traceback (most recent call last)",
      "File \u001b[1;32mc:\\Users\\ugoch\\AppData\\Local\\Programs\\Python\\Python310\\lib\\site-packages\\transformers\\utils\\hub.py:470\u001b[0m, in \u001b[0;36mcached_files\u001b[1;34m(path_or_repo_id, filenames, cache_dir, force_download, resume_download, proxies, token, revision, local_files_only, subfolder, repo_type, user_agent, _raise_exceptions_for_gated_repo, _raise_exceptions_for_missing_entries, _raise_exceptions_for_connection_errors, _commit_hash, **deprecated_kwargs)\u001b[0m\n\u001b[0;32m    468\u001b[0m \u001b[38;5;28;01mif\u001b[39;00m \u001b[38;5;28mlen\u001b[39m(full_filenames) \u001b[38;5;241m==\u001b[39m \u001b[38;5;241m1\u001b[39m:\n\u001b[0;32m    469\u001b[0m     \u001b[38;5;66;03m# This is slightly better for only 1 file\u001b[39;00m\n\u001b[1;32m--> 470\u001b[0m     \u001b[43mhf_hub_download\u001b[49m\u001b[43m(\u001b[49m\n\u001b[0;32m    471\u001b[0m \u001b[43m        \u001b[49m\u001b[43mpath_or_repo_id\u001b[49m\u001b[43m,\u001b[49m\n\u001b[0;32m    472\u001b[0m \u001b[43m        \u001b[49m\u001b[43mfilenames\u001b[49m\u001b[43m[\u001b[49m\u001b[38;5;241;43m0\u001b[39;49m\u001b[43m]\u001b[49m\u001b[43m,\u001b[49m\n\u001b[0;32m    473\u001b[0m \u001b[43m        \u001b[49m\u001b[43msubfolder\u001b[49m\u001b[38;5;241;43m=\u001b[39;49m\u001b[38;5;28;43;01mNone\u001b[39;49;00m\u001b[43m \u001b[49m\u001b[38;5;28;43;01mif\u001b[39;49;00m\u001b[43m \u001b[49m\u001b[38;5;28;43mlen\u001b[39;49m\u001b[43m(\u001b[49m\u001b[43msubfolder\u001b[49m\u001b[43m)\u001b[49m\u001b[43m \u001b[49m\u001b[38;5;241;43m==\u001b[39;49m\u001b[43m \u001b[49m\u001b[38;5;241;43m0\u001b[39;49m\u001b[43m \u001b[49m\u001b[38;5;28;43;01melse\u001b[39;49;00m\u001b[43m \u001b[49m\u001b[43msubfolder\u001b[49m\u001b[43m,\u001b[49m\n\u001b[0;32m    474\u001b[0m \u001b[43m        \u001b[49m\u001b[43mrepo_type\u001b[49m\u001b[38;5;241;43m=\u001b[39;49m\u001b[43mrepo_type\u001b[49m\u001b[43m,\u001b[49m\n\u001b[0;32m    475\u001b[0m \u001b[43m        \u001b[49m\u001b[43mrevision\u001b[49m\u001b[38;5;241;43m=\u001b[39;49m\u001b[43mrevision\u001b[49m\u001b[43m,\u001b[49m\n\u001b[0;32m    476\u001b[0m \u001b[43m        \u001b[49m\u001b[43mcache_dir\u001b[49m\u001b[38;5;241;43m=\u001b[39;49m\u001b[43mcache_dir\u001b[49m\u001b[43m,\u001b[49m\n\u001b[0;32m    477\u001b[0m \u001b[43m        \u001b[49m\u001b[43muser_agent\u001b[49m\u001b[38;5;241;43m=\u001b[39;49m\u001b[43muser_agent\u001b[49m\u001b[43m,\u001b[49m\n\u001b[0;32m    478\u001b[0m \u001b[43m        \u001b[49m\u001b[43mforce_download\u001b[49m\u001b[38;5;241;43m=\u001b[39;49m\u001b[43mforce_download\u001b[49m\u001b[43m,\u001b[49m\n\u001b[0;32m    479\u001b[0m \u001b[43m        \u001b[49m\u001b[43mproxies\u001b[49m\u001b[38;5;241;43m=\u001b[39;49m\u001b[43mproxies\u001b[49m\u001b[43m,\u001b[49m\n\u001b[0;32m    480\u001b[0m \u001b[43m        \u001b[49m\u001b[43mresume_download\u001b[49m\u001b[38;5;241;43m=\u001b[39;49m\u001b[43mresume_download\u001b[49m\u001b[43m,\u001b[49m\n\u001b[0;32m    481\u001b[0m \u001b[43m        \u001b[49m\u001b[43mtoken\u001b[49m\u001b[38;5;241;43m=\u001b[39;49m\u001b[43mtoken\u001b[49m\u001b[43m,\u001b[49m\n\u001b[0;32m    482\u001b[0m \u001b[43m        \u001b[49m\u001b[43mlocal_files_only\u001b[49m\u001b[38;5;241;43m=\u001b[39;49m\u001b[43mlocal_files_only\u001b[49m\u001b[43m,\u001b[49m\n\u001b[0;32m    483\u001b[0m \u001b[43m    \u001b[49m\u001b[43m)\u001b[49m\n\u001b[0;32m    484\u001b[0m \u001b[38;5;28;01melse\u001b[39;00m:\n",
      "File \u001b[1;32mc:\\Users\\ugoch\\AppData\\Local\\Programs\\Python\\Python310\\lib\\site-packages\\huggingface_hub\\utils\\_validators.py:106\u001b[0m, in \u001b[0;36mvalidate_hf_hub_args.<locals>._inner_fn\u001b[1;34m(*args, **kwargs)\u001b[0m\n\u001b[0;32m    105\u001b[0m \u001b[38;5;28;01mif\u001b[39;00m arg_name \u001b[38;5;129;01min\u001b[39;00m [\u001b[38;5;124m\"\u001b[39m\u001b[38;5;124mrepo_id\u001b[39m\u001b[38;5;124m\"\u001b[39m, \u001b[38;5;124m\"\u001b[39m\u001b[38;5;124mfrom_id\u001b[39m\u001b[38;5;124m\"\u001b[39m, \u001b[38;5;124m\"\u001b[39m\u001b[38;5;124mto_id\u001b[39m\u001b[38;5;124m\"\u001b[39m]:\n\u001b[1;32m--> 106\u001b[0m     \u001b[43mvalidate_repo_id\u001b[49m\u001b[43m(\u001b[49m\u001b[43marg_value\u001b[49m\u001b[43m)\u001b[49m\n\u001b[0;32m    108\u001b[0m \u001b[38;5;28;01melif\u001b[39;00m arg_name \u001b[38;5;241m==\u001b[39m \u001b[38;5;124m\"\u001b[39m\u001b[38;5;124mtoken\u001b[39m\u001b[38;5;124m\"\u001b[39m \u001b[38;5;129;01mand\u001b[39;00m arg_value \u001b[38;5;129;01mis\u001b[39;00m \u001b[38;5;129;01mnot\u001b[39;00m \u001b[38;5;28;01mNone\u001b[39;00m:\n",
      "File \u001b[1;32mc:\\Users\\ugoch\\AppData\\Local\\Programs\\Python\\Python310\\lib\\site-packages\\huggingface_hub\\utils\\_validators.py:154\u001b[0m, in \u001b[0;36mvalidate_repo_id\u001b[1;34m(repo_id)\u001b[0m\n\u001b[0;32m    153\u001b[0m \u001b[38;5;28;01mif\u001b[39;00m repo_id\u001b[38;5;241m.\u001b[39mcount(\u001b[38;5;124m\"\u001b[39m\u001b[38;5;124m/\u001b[39m\u001b[38;5;124m\"\u001b[39m) \u001b[38;5;241m>\u001b[39m \u001b[38;5;241m1\u001b[39m:\n\u001b[1;32m--> 154\u001b[0m     \u001b[38;5;28;01mraise\u001b[39;00m HFValidationError(\n\u001b[0;32m    155\u001b[0m         \u001b[38;5;124m\"\u001b[39m\u001b[38;5;124mRepo id must be in the form \u001b[39m\u001b[38;5;124m'\u001b[39m\u001b[38;5;124mrepo_name\u001b[39m\u001b[38;5;124m'\u001b[39m\u001b[38;5;124m or \u001b[39m\u001b[38;5;124m'\u001b[39m\u001b[38;5;124mnamespace/repo_name\u001b[39m\u001b[38;5;124m'\u001b[39m\u001b[38;5;124m:\u001b[39m\u001b[38;5;124m\"\u001b[39m\n\u001b[0;32m    156\u001b[0m         \u001b[38;5;124mf\u001b[39m\u001b[38;5;124m\"\u001b[39m\u001b[38;5;124m \u001b[39m\u001b[38;5;124m'\u001b[39m\u001b[38;5;132;01m{\u001b[39;00mrepo_id\u001b[38;5;132;01m}\u001b[39;00m\u001b[38;5;124m'\u001b[39m\u001b[38;5;124m. Use `repo_type` argument if needed.\u001b[39m\u001b[38;5;124m\"\u001b[39m\n\u001b[0;32m    157\u001b[0m     )\n\u001b[0;32m    159\u001b[0m \u001b[38;5;28;01mif\u001b[39;00m \u001b[38;5;129;01mnot\u001b[39;00m REPO_ID_REGEX\u001b[38;5;241m.\u001b[39mmatch(repo_id):\n",
      "\u001b[1;31mHFValidationError\u001b[0m: Repo id must be in the form 'repo_name' or 'namespace/repo_name': 'path/to/save/model'. Use `repo_type` argument if needed.",
      "\nDuring handling of the above exception, another exception occurred:\n",
      "\u001b[1;31mHFValidationError\u001b[0m                         Traceback (most recent call last)",
      "Cell \u001b[1;32mIn[11], line 1\u001b[0m\n\u001b[1;32m----> 1\u001b[0m trained_pipeline \u001b[38;5;241m=\u001b[39m \u001b[43mpipeline\u001b[49m\u001b[43m(\u001b[49m\u001b[38;5;124;43m\"\u001b[39;49m\u001b[38;5;124;43mtext-classification\u001b[39;49m\u001b[38;5;124;43m\"\u001b[39;49m\u001b[43m,\u001b[49m\u001b[43m \u001b[49m\u001b[43mmodel\u001b[49m\u001b[38;5;241;43m=\u001b[39;49m\u001b[43mmodel_path\u001b[49m\u001b[43m,\u001b[49m\u001b[43m \u001b[49m\u001b[43mtokenizer\u001b[49m\u001b[38;5;241;43m=\u001b[39;49m\u001b[43mmodel_path\u001b[49m\u001b[43m,\u001b[49m\u001b[43mdevice\u001b[49m\u001b[38;5;241;43m=\u001b[39;49m\u001b[38;5;241;43m0\u001b[39;49m\u001b[43m)\u001b[49m\n",
      "File \u001b[1;32mc:\\Users\\ugoch\\AppData\\Local\\Programs\\Python\\Python310\\lib\\site-packages\\transformers\\pipelines\\__init__.py:892\u001b[0m, in \u001b[0;36mpipeline\u001b[1;34m(task, model, config, tokenizer, feature_extractor, image_processor, processor, framework, revision, use_fast, token, device, device_map, torch_dtype, trust_remote_code, model_kwargs, pipeline_class, **kwargs)\u001b[0m\n\u001b[0;32m    888\u001b[0m     pretrained_model_name_or_path \u001b[38;5;241m=\u001b[39m model\n\u001b[0;32m    890\u001b[0m \u001b[38;5;28;01mif\u001b[39;00m \u001b[38;5;129;01mnot\u001b[39;00m \u001b[38;5;28misinstance\u001b[39m(config, PretrainedConfig) \u001b[38;5;129;01mand\u001b[39;00m pretrained_model_name_or_path \u001b[38;5;129;01mis\u001b[39;00m \u001b[38;5;129;01mnot\u001b[39;00m \u001b[38;5;28;01mNone\u001b[39;00m:\n\u001b[0;32m    891\u001b[0m     \u001b[38;5;66;03m# We make a call to the config file first (which may be absent) to get the commit hash as soon as possible\u001b[39;00m\n\u001b[1;32m--> 892\u001b[0m     resolved_config_file \u001b[38;5;241m=\u001b[39m cached_file(\n\u001b[0;32m    893\u001b[0m         pretrained_model_name_or_path,\n\u001b[0;32m    894\u001b[0m         CONFIG_NAME,\n\u001b[0;32m    895\u001b[0m         _raise_exceptions_for_gated_repo\u001b[38;5;241m=\u001b[39m\u001b[38;5;28;01mFalse\u001b[39;00m,\n\u001b[0;32m    896\u001b[0m         _raise_exceptions_for_missing_entries\u001b[38;5;241m=\u001b[39m\u001b[38;5;28;01mFalse\u001b[39;00m,\n\u001b[0;32m    897\u001b[0m         _raise_exceptions_for_connection_errors\u001b[38;5;241m=\u001b[39m\u001b[38;5;28;01mFalse\u001b[39;00m,\n\u001b[0;32m    898\u001b[0m         cache_dir\u001b[38;5;241m=\u001b[39mmodel_kwargs\u001b[38;5;241m.\u001b[39mget(\u001b[38;5;124m\"\u001b[39m\u001b[38;5;124mcache_dir\u001b[39m\u001b[38;5;124m\"\u001b[39m),\n\u001b[0;32m    899\u001b[0m         \u001b[38;5;241m*\u001b[39m\u001b[38;5;241m*\u001b[39mhub_kwargs,\n\u001b[0;32m    900\u001b[0m     )\n\u001b[0;32m    901\u001b[0m     hub_kwargs[\u001b[38;5;124m\"\u001b[39m\u001b[38;5;124m_commit_hash\u001b[39m\u001b[38;5;124m\"\u001b[39m] \u001b[38;5;241m=\u001b[39m extract_commit_hash(resolved_config_file, commit_hash)\n\u001b[0;32m    902\u001b[0m \u001b[38;5;28;01melse\u001b[39;00m:\n",
      "File \u001b[1;32mc:\\Users\\ugoch\\AppData\\Local\\Programs\\Python\\Python310\\lib\\site-packages\\transformers\\utils\\hub.py:312\u001b[0m, in \u001b[0;36mcached_file\u001b[1;34m(path_or_repo_id, filename, **kwargs)\u001b[0m\n\u001b[0;32m    254\u001b[0m \u001b[38;5;28;01mdef\u001b[39;00m\u001b[38;5;250m \u001b[39m\u001b[38;5;21mcached_file\u001b[39m(\n\u001b[0;32m    255\u001b[0m     path_or_repo_id: Union[\u001b[38;5;28mstr\u001b[39m, os\u001b[38;5;241m.\u001b[39mPathLike],\n\u001b[0;32m    256\u001b[0m     filename: \u001b[38;5;28mstr\u001b[39m,\n\u001b[0;32m    257\u001b[0m     \u001b[38;5;241m*\u001b[39m\u001b[38;5;241m*\u001b[39mkwargs,\n\u001b[0;32m    258\u001b[0m ) \u001b[38;5;241m-\u001b[39m\u001b[38;5;241m>\u001b[39m Optional[\u001b[38;5;28mstr\u001b[39m]:\n\u001b[0;32m    259\u001b[0m \u001b[38;5;250m    \u001b[39m\u001b[38;5;124;03m\"\"\"\u001b[39;00m\n\u001b[0;32m    260\u001b[0m \u001b[38;5;124;03m    Tries to locate a file in a local folder and repo, downloads and cache it if necessary.\u001b[39;00m\n\u001b[0;32m    261\u001b[0m \n\u001b[1;32m   (...)\u001b[0m\n\u001b[0;32m    310\u001b[0m \u001b[38;5;124;03m    ```\u001b[39;00m\n\u001b[0;32m    311\u001b[0m \u001b[38;5;124;03m    \"\"\"\u001b[39;00m\n\u001b[1;32m--> 312\u001b[0m     file \u001b[38;5;241m=\u001b[39m cached_files(path_or_repo_id\u001b[38;5;241m=\u001b[39mpath_or_repo_id, filenames\u001b[38;5;241m=\u001b[39m[filename], \u001b[38;5;241m*\u001b[39m\u001b[38;5;241m*\u001b[39mkwargs)\n\u001b[0;32m    313\u001b[0m     file \u001b[38;5;241m=\u001b[39m file[\u001b[38;5;241m0\u001b[39m] \u001b[38;5;28;01mif\u001b[39;00m file \u001b[38;5;129;01mis\u001b[39;00m \u001b[38;5;129;01mnot\u001b[39;00m \u001b[38;5;28;01mNone\u001b[39;00m \u001b[38;5;28;01melse\u001b[39;00m file\n\u001b[0;32m    314\u001b[0m     \u001b[38;5;28;01mreturn\u001b[39;00m file\n",
      "File \u001b[1;32mc:\\Users\\ugoch\\AppData\\Local\\Programs\\Python\\Python310\\lib\\site-packages\\transformers\\utils\\hub.py:522\u001b[0m, in \u001b[0;36mcached_files\u001b[1;34m(path_or_repo_id, filenames, cache_dir, force_download, resume_download, proxies, token, revision, local_files_only, subfolder, repo_type, user_agent, _raise_exceptions_for_gated_repo, _raise_exceptions_for_missing_entries, _raise_exceptions_for_connection_errors, _commit_hash, **deprecated_kwargs)\u001b[0m\n\u001b[0;32m    515\u001b[0m     \u001b[38;5;28;01mraise\u001b[39;00m \u001b[38;5;167;01mOSError\u001b[39;00m(\n\u001b[0;32m    516\u001b[0m         \u001b[38;5;124mf\u001b[39m\u001b[38;5;124m\"\u001b[39m\u001b[38;5;124mPermissionError at \u001b[39m\u001b[38;5;132;01m{\u001b[39;00me\u001b[38;5;241m.\u001b[39mfilename\u001b[38;5;132;01m}\u001b[39;00m\u001b[38;5;124m when downloading \u001b[39m\u001b[38;5;132;01m{\u001b[39;00mpath_or_repo_id\u001b[38;5;132;01m}\u001b[39;00m\u001b[38;5;124m. \u001b[39m\u001b[38;5;124m\"\u001b[39m\n\u001b[0;32m    517\u001b[0m         \u001b[38;5;124m\"\u001b[39m\u001b[38;5;124mCheck cache directory permissions. Common causes: 1) another user is downloading the same model (please wait); \u001b[39m\u001b[38;5;124m\"\u001b[39m\n\u001b[0;32m    518\u001b[0m         \u001b[38;5;124m\"\u001b[39m\u001b[38;5;124m2) a previous download was canceled and the lock file needs manual removal.\u001b[39m\u001b[38;5;124m\"\u001b[39m\n\u001b[0;32m    519\u001b[0m     ) \u001b[38;5;28;01mfrom\u001b[39;00m\u001b[38;5;250m \u001b[39m\u001b[38;5;21;01me\u001b[39;00m\n\u001b[0;32m    521\u001b[0m \u001b[38;5;66;03m# Now we try to recover if we can find all files correctly in the cache\u001b[39;00m\n\u001b[1;32m--> 522\u001b[0m resolved_files \u001b[38;5;241m=\u001b[39m [\n\u001b[0;32m    523\u001b[0m     _get_cache_file_to_return(path_or_repo_id, filename, cache_dir, revision) \u001b[38;5;28;01mfor\u001b[39;00m filename \u001b[38;5;129;01min\u001b[39;00m full_filenames\n\u001b[0;32m    524\u001b[0m ]\n\u001b[0;32m    525\u001b[0m \u001b[38;5;28;01mif\u001b[39;00m \u001b[38;5;28mall\u001b[39m(file \u001b[38;5;129;01mis\u001b[39;00m \u001b[38;5;129;01mnot\u001b[39;00m \u001b[38;5;28;01mNone\u001b[39;00m \u001b[38;5;28;01mfor\u001b[39;00m file \u001b[38;5;129;01min\u001b[39;00m resolved_files):\n\u001b[0;32m    526\u001b[0m     \u001b[38;5;28;01mreturn\u001b[39;00m resolved_files\n",
      "File \u001b[1;32mc:\\Users\\ugoch\\AppData\\Local\\Programs\\Python\\Python310\\lib\\site-packages\\transformers\\utils\\hub.py:523\u001b[0m, in \u001b[0;36m<listcomp>\u001b[1;34m(.0)\u001b[0m\n\u001b[0;32m    515\u001b[0m     \u001b[38;5;28;01mraise\u001b[39;00m \u001b[38;5;167;01mOSError\u001b[39;00m(\n\u001b[0;32m    516\u001b[0m         \u001b[38;5;124mf\u001b[39m\u001b[38;5;124m\"\u001b[39m\u001b[38;5;124mPermissionError at \u001b[39m\u001b[38;5;132;01m{\u001b[39;00me\u001b[38;5;241m.\u001b[39mfilename\u001b[38;5;132;01m}\u001b[39;00m\u001b[38;5;124m when downloading \u001b[39m\u001b[38;5;132;01m{\u001b[39;00mpath_or_repo_id\u001b[38;5;132;01m}\u001b[39;00m\u001b[38;5;124m. \u001b[39m\u001b[38;5;124m\"\u001b[39m\n\u001b[0;32m    517\u001b[0m         \u001b[38;5;124m\"\u001b[39m\u001b[38;5;124mCheck cache directory permissions. Common causes: 1) another user is downloading the same model (please wait); \u001b[39m\u001b[38;5;124m\"\u001b[39m\n\u001b[0;32m    518\u001b[0m         \u001b[38;5;124m\"\u001b[39m\u001b[38;5;124m2) a previous download was canceled and the lock file needs manual removal.\u001b[39m\u001b[38;5;124m\"\u001b[39m\n\u001b[0;32m    519\u001b[0m     ) \u001b[38;5;28;01mfrom\u001b[39;00m\u001b[38;5;250m \u001b[39m\u001b[38;5;21;01me\u001b[39;00m\n\u001b[0;32m    521\u001b[0m \u001b[38;5;66;03m# Now we try to recover if we can find all files correctly in the cache\u001b[39;00m\n\u001b[0;32m    522\u001b[0m resolved_files \u001b[38;5;241m=\u001b[39m [\n\u001b[1;32m--> 523\u001b[0m     \u001b[43m_get_cache_file_to_return\u001b[49m\u001b[43m(\u001b[49m\u001b[43mpath_or_repo_id\u001b[49m\u001b[43m,\u001b[49m\u001b[43m \u001b[49m\u001b[43mfilename\u001b[49m\u001b[43m,\u001b[49m\u001b[43m \u001b[49m\u001b[43mcache_dir\u001b[49m\u001b[43m,\u001b[49m\u001b[43m \u001b[49m\u001b[43mrevision\u001b[49m\u001b[43m)\u001b[49m \u001b[38;5;28;01mfor\u001b[39;00m filename \u001b[38;5;129;01min\u001b[39;00m full_filenames\n\u001b[0;32m    524\u001b[0m ]\n\u001b[0;32m    525\u001b[0m \u001b[38;5;28;01mif\u001b[39;00m \u001b[38;5;28mall\u001b[39m(file \u001b[38;5;129;01mis\u001b[39;00m \u001b[38;5;129;01mnot\u001b[39;00m \u001b[38;5;28;01mNone\u001b[39;00m \u001b[38;5;28;01mfor\u001b[39;00m file \u001b[38;5;129;01min\u001b[39;00m resolved_files):\n\u001b[0;32m    526\u001b[0m     \u001b[38;5;28;01mreturn\u001b[39;00m resolved_files\n",
      "File \u001b[1;32mc:\\Users\\ugoch\\AppData\\Local\\Programs\\Python\\Python310\\lib\\site-packages\\transformers\\utils\\hub.py:140\u001b[0m, in \u001b[0;36m_get_cache_file_to_return\u001b[1;34m(path_or_repo_id, full_filename, cache_dir, revision)\u001b[0m\n\u001b[0;32m    136\u001b[0m \u001b[38;5;28;01mdef\u001b[39;00m\u001b[38;5;250m \u001b[39m\u001b[38;5;21m_get_cache_file_to_return\u001b[39m(\n\u001b[0;32m    137\u001b[0m     path_or_repo_id: \u001b[38;5;28mstr\u001b[39m, full_filename: \u001b[38;5;28mstr\u001b[39m, cache_dir: Union[\u001b[38;5;28mstr\u001b[39m, Path, \u001b[38;5;28;01mNone\u001b[39;00m] \u001b[38;5;241m=\u001b[39m \u001b[38;5;28;01mNone\u001b[39;00m, revision: Optional[\u001b[38;5;28mstr\u001b[39m] \u001b[38;5;241m=\u001b[39m \u001b[38;5;28;01mNone\u001b[39;00m\n\u001b[0;32m    138\u001b[0m ):\n\u001b[0;32m    139\u001b[0m     \u001b[38;5;66;03m# We try to see if we have a cached version (not up to date):\u001b[39;00m\n\u001b[1;32m--> 140\u001b[0m     resolved_file \u001b[38;5;241m=\u001b[39m \u001b[43mtry_to_load_from_cache\u001b[49m\u001b[43m(\u001b[49m\u001b[43mpath_or_repo_id\u001b[49m\u001b[43m,\u001b[49m\u001b[43m \u001b[49m\u001b[43mfull_filename\u001b[49m\u001b[43m,\u001b[49m\u001b[43m \u001b[49m\u001b[43mcache_dir\u001b[49m\u001b[38;5;241;43m=\u001b[39;49m\u001b[43mcache_dir\u001b[49m\u001b[43m,\u001b[49m\u001b[43m \u001b[49m\u001b[43mrevision\u001b[49m\u001b[38;5;241;43m=\u001b[39;49m\u001b[43mrevision\u001b[49m\u001b[43m)\u001b[49m\n\u001b[0;32m    141\u001b[0m     \u001b[38;5;28;01mif\u001b[39;00m resolved_file \u001b[38;5;129;01mis\u001b[39;00m \u001b[38;5;129;01mnot\u001b[39;00m \u001b[38;5;28;01mNone\u001b[39;00m \u001b[38;5;129;01mand\u001b[39;00m resolved_file \u001b[38;5;241m!=\u001b[39m _CACHED_NO_EXIST:\n\u001b[0;32m    142\u001b[0m         \u001b[38;5;28;01mreturn\u001b[39;00m resolved_file\n",
      "File \u001b[1;32mc:\\Users\\ugoch\\AppData\\Local\\Programs\\Python\\Python310\\lib\\site-packages\\huggingface_hub\\utils\\_validators.py:106\u001b[0m, in \u001b[0;36mvalidate_hf_hub_args.<locals>._inner_fn\u001b[1;34m(*args, **kwargs)\u001b[0m\n\u001b[0;32m    101\u001b[0m \u001b[38;5;28;01mfor\u001b[39;00m arg_name, arg_value \u001b[38;5;129;01min\u001b[39;00m chain(\n\u001b[0;32m    102\u001b[0m     \u001b[38;5;28mzip\u001b[39m(signature\u001b[38;5;241m.\u001b[39mparameters, args),  \u001b[38;5;66;03m# Args values\u001b[39;00m\n\u001b[0;32m    103\u001b[0m     kwargs\u001b[38;5;241m.\u001b[39mitems(),  \u001b[38;5;66;03m# Kwargs values\u001b[39;00m\n\u001b[0;32m    104\u001b[0m ):\n\u001b[0;32m    105\u001b[0m     \u001b[38;5;28;01mif\u001b[39;00m arg_name \u001b[38;5;129;01min\u001b[39;00m [\u001b[38;5;124m\"\u001b[39m\u001b[38;5;124mrepo_id\u001b[39m\u001b[38;5;124m\"\u001b[39m, \u001b[38;5;124m\"\u001b[39m\u001b[38;5;124mfrom_id\u001b[39m\u001b[38;5;124m\"\u001b[39m, \u001b[38;5;124m\"\u001b[39m\u001b[38;5;124mto_id\u001b[39m\u001b[38;5;124m\"\u001b[39m]:\n\u001b[1;32m--> 106\u001b[0m         \u001b[43mvalidate_repo_id\u001b[49m\u001b[43m(\u001b[49m\u001b[43marg_value\u001b[49m\u001b[43m)\u001b[49m\n\u001b[0;32m    108\u001b[0m     \u001b[38;5;28;01melif\u001b[39;00m arg_name \u001b[38;5;241m==\u001b[39m \u001b[38;5;124m\"\u001b[39m\u001b[38;5;124mtoken\u001b[39m\u001b[38;5;124m\"\u001b[39m \u001b[38;5;129;01mand\u001b[39;00m arg_value \u001b[38;5;129;01mis\u001b[39;00m \u001b[38;5;129;01mnot\u001b[39;00m \u001b[38;5;28;01mNone\u001b[39;00m:\n\u001b[0;32m    109\u001b[0m         has_token \u001b[38;5;241m=\u001b[39m \u001b[38;5;28;01mTrue\u001b[39;00m\n",
      "File \u001b[1;32mc:\\Users\\ugoch\\AppData\\Local\\Programs\\Python\\Python310\\lib\\site-packages\\huggingface_hub\\utils\\_validators.py:154\u001b[0m, in \u001b[0;36mvalidate_repo_id\u001b[1;34m(repo_id)\u001b[0m\n\u001b[0;32m    151\u001b[0m     \u001b[38;5;28;01mraise\u001b[39;00m HFValidationError(\u001b[38;5;124mf\u001b[39m\u001b[38;5;124m\"\u001b[39m\u001b[38;5;124mRepo id must be a string, not \u001b[39m\u001b[38;5;132;01m{\u001b[39;00m\u001b[38;5;28mtype\u001b[39m(repo_id)\u001b[38;5;132;01m}\u001b[39;00m\u001b[38;5;124m: \u001b[39m\u001b[38;5;124m'\u001b[39m\u001b[38;5;132;01m{\u001b[39;00mrepo_id\u001b[38;5;132;01m}\u001b[39;00m\u001b[38;5;124m'\u001b[39m\u001b[38;5;124m.\u001b[39m\u001b[38;5;124m\"\u001b[39m)\n\u001b[0;32m    153\u001b[0m \u001b[38;5;28;01mif\u001b[39;00m repo_id\u001b[38;5;241m.\u001b[39mcount(\u001b[38;5;124m\"\u001b[39m\u001b[38;5;124m/\u001b[39m\u001b[38;5;124m\"\u001b[39m) \u001b[38;5;241m>\u001b[39m \u001b[38;5;241m1\u001b[39m:\n\u001b[1;32m--> 154\u001b[0m     \u001b[38;5;28;01mraise\u001b[39;00m HFValidationError(\n\u001b[0;32m    155\u001b[0m         \u001b[38;5;124m\"\u001b[39m\u001b[38;5;124mRepo id must be in the form \u001b[39m\u001b[38;5;124m'\u001b[39m\u001b[38;5;124mrepo_name\u001b[39m\u001b[38;5;124m'\u001b[39m\u001b[38;5;124m or \u001b[39m\u001b[38;5;124m'\u001b[39m\u001b[38;5;124mnamespace/repo_name\u001b[39m\u001b[38;5;124m'\u001b[39m\u001b[38;5;124m:\u001b[39m\u001b[38;5;124m\"\u001b[39m\n\u001b[0;32m    156\u001b[0m         \u001b[38;5;124mf\u001b[39m\u001b[38;5;124m\"\u001b[39m\u001b[38;5;124m \u001b[39m\u001b[38;5;124m'\u001b[39m\u001b[38;5;132;01m{\u001b[39;00mrepo_id\u001b[38;5;132;01m}\u001b[39;00m\u001b[38;5;124m'\u001b[39m\u001b[38;5;124m. Use `repo_type` argument if needed.\u001b[39m\u001b[38;5;124m\"\u001b[39m\n\u001b[0;32m    157\u001b[0m     )\n\u001b[0;32m    159\u001b[0m \u001b[38;5;28;01mif\u001b[39;00m \u001b[38;5;129;01mnot\u001b[39;00m REPO_ID_REGEX\u001b[38;5;241m.\u001b[39mmatch(repo_id):\n\u001b[0;32m    160\u001b[0m     \u001b[38;5;28;01mraise\u001b[39;00m HFValidationError(\n\u001b[0;32m    161\u001b[0m         \u001b[38;5;124m\"\u001b[39m\u001b[38;5;124mRepo id must use alphanumeric chars or \u001b[39m\u001b[38;5;124m'\u001b[39m\u001b[38;5;124m-\u001b[39m\u001b[38;5;124m'\u001b[39m\u001b[38;5;124m, \u001b[39m\u001b[38;5;124m'\u001b[39m\u001b[38;5;124m_\u001b[39m\u001b[38;5;124m'\u001b[39m\u001b[38;5;124m, \u001b[39m\u001b[38;5;124m'\u001b[39m\u001b[38;5;124m.\u001b[39m\u001b[38;5;124m'\u001b[39m\u001b[38;5;124m, \u001b[39m\u001b[38;5;124m'\u001b[39m\u001b[38;5;124m--\u001b[39m\u001b[38;5;124m'\u001b[39m\u001b[38;5;124m and \u001b[39m\u001b[38;5;124m'\u001b[39m\u001b[38;5;124m..\u001b[39m\u001b[38;5;124m'\u001b[39m\u001b[38;5;124m are\u001b[39m\u001b[38;5;124m\"\u001b[39m\n\u001b[0;32m    162\u001b[0m         \u001b[38;5;124m\"\u001b[39m\u001b[38;5;124m forbidden, \u001b[39m\u001b[38;5;124m'\u001b[39m\u001b[38;5;124m-\u001b[39m\u001b[38;5;124m'\u001b[39m\u001b[38;5;124m and \u001b[39m\u001b[38;5;124m'\u001b[39m\u001b[38;5;124m.\u001b[39m\u001b[38;5;124m'\u001b[39m\u001b[38;5;124m cannot start or end the name, max length is 96:\u001b[39m\u001b[38;5;124m\"\u001b[39m\n\u001b[0;32m    163\u001b[0m         \u001b[38;5;124mf\u001b[39m\u001b[38;5;124m\"\u001b[39m\u001b[38;5;124m \u001b[39m\u001b[38;5;124m'\u001b[39m\u001b[38;5;132;01m{\u001b[39;00mrepo_id\u001b[38;5;132;01m}\u001b[39;00m\u001b[38;5;124m'\u001b[39m\u001b[38;5;124m.\u001b[39m\u001b[38;5;124m\"\u001b[39m\n\u001b[0;32m    164\u001b[0m     )\n",
      "\u001b[1;31mHFValidationError\u001b[0m: Repo id must be in the form 'repo_name' or 'namespace/repo_name': 'path/to/save/model'. Use `repo_type` argument if needed."
     ]
    }
   ],
   "source": [
    "trained_pipeline = pipeline(\"text-classification\", model=model_path, tokenizer=model_path,device=0)"
   ]
  }
 ],
 "metadata": {
  "accelerator": "GPU",
  "colab": {
   "authorship_tag": "ABX9TyPXQZJ2rUKSsErUxYoIAWid",
   "gpuType": "T4",
   "provenance": []
  },
  "kernelspec": {
   "display_name": "Python 3",
   "name": "python3"
  },
  "language_info": {
   "codemirror_mode": {
    "name": "ipython",
    "version": 3
   },
   "file_extension": ".py",
   "mimetype": "text/x-python",
   "name": "python",
   "nbconvert_exporter": "python",
   "pygments_lexer": "ipython3",
   "version": "3.10.10"
  },
  "widgets": {
   "application/vnd.jupyter.widget-state+json": {
    "03ff9c17d867489c88b27ca7e1ea1836": {
     "model_module": "@jupyter-widgets/controls",
     "model_module_version": "1.5.0",
     "model_name": "DescriptionStyleModel",
     "state": {
      "_model_module": "@jupyter-widgets/controls",
      "_model_module_version": "1.5.0",
      "_model_name": "DescriptionStyleModel",
      "_view_count": null,
      "_view_module": "@jupyter-widgets/base",
      "_view_module_version": "1.2.0",
      "_view_name": "StyleView",
      "description_width": ""
     }
    },
    "05daa68e0bef409b9ecb6582052a5749": {
     "model_module": "@jupyter-widgets/controls",
     "model_module_version": "1.5.0",
     "model_name": "ProgressStyleModel",
     "state": {
      "_model_module": "@jupyter-widgets/controls",
      "_model_module_version": "1.5.0",
      "_model_name": "ProgressStyleModel",
      "_view_count": null,
      "_view_module": "@jupyter-widgets/base",
      "_view_module_version": "1.2.0",
      "_view_name": "StyleView",
      "bar_color": null,
      "description_width": ""
     }
    },
    "073248ef103848fcbb486e5b67e128f4": {
     "model_module": "@jupyter-widgets/controls",
     "model_module_version": "1.5.0",
     "model_name": "DescriptionStyleModel",
     "state": {
      "_model_module": "@jupyter-widgets/controls",
      "_model_module_version": "1.5.0",
      "_model_name": "DescriptionStyleModel",
      "_view_count": null,
      "_view_module": "@jupyter-widgets/base",
      "_view_module_version": "1.2.0",
      "_view_name": "StyleView",
      "description_width": ""
     }
    },
    "09b4eb8af40340c29886531a2ddc5da1": {
     "model_module": "@jupyter-widgets/controls",
     "model_module_version": "1.5.0",
     "model_name": "HBoxModel",
     "state": {
      "_dom_classes": [],
      "_model_module": "@jupyter-widgets/controls",
      "_model_module_version": "1.5.0",
      "_model_name": "HBoxModel",
      "_view_count": null,
      "_view_module": "@jupyter-widgets/controls",
      "_view_module_version": "1.5.0",
      "_view_name": "HBoxView",
      "box_style": "",
      "children": [
       "IPY_MODEL_d6ffac999db34c1cbf556acab60189b0",
       "IPY_MODEL_fb75b4b95db14f0ca6412562a8dbaa6e",
       "IPY_MODEL_df4143032ad94db18eec24524eeb6241"
      ],
      "layout": "IPY_MODEL_3fab39549860467dabfd6201044c0549"
     }
    },
    "0fb84ea90b444dceb53e8c628f89faeb": {
     "model_module": "@jupyter-widgets/base",
     "model_module_version": "1.2.0",
     "model_name": "LayoutModel",
     "state": {
      "_model_module": "@jupyter-widgets/base",
      "_model_module_version": "1.2.0",
      "_model_name": "LayoutModel",
      "_view_count": null,
      "_view_module": "@jupyter-widgets/base",
      "_view_module_version": "1.2.0",
      "_view_name": "LayoutView",
      "align_content": null,
      "align_items": null,
      "align_self": null,
      "border": null,
      "bottom": null,
      "display": null,
      "flex": null,
      "flex_flow": null,
      "grid_area": null,
      "grid_auto_columns": null,
      "grid_auto_flow": null,
      "grid_auto_rows": null,
      "grid_column": null,
      "grid_gap": null,
      "grid_row": null,
      "grid_template_areas": null,
      "grid_template_columns": null,
      "grid_template_rows": null,
      "height": null,
      "justify_content": null,
      "justify_items": null,
      "left": null,
      "margin": null,
      "max_height": null,
      "max_width": null,
      "min_height": null,
      "min_width": null,
      "object_fit": null,
      "object_position": null,
      "order": null,
      "overflow": null,
      "overflow_x": null,
      "overflow_y": null,
      "padding": null,
      "right": null,
      "top": null,
      "visibility": null,
      "width": null
     }
    },
    "19735336722a41269c0a2eb966baa6a0": {
     "model_module": "@jupyter-widgets/controls",
     "model_module_version": "1.5.0",
     "model_name": "HTMLModel",
     "state": {
      "_dom_classes": [],
      "_model_module": "@jupyter-widgets/controls",
      "_model_module_version": "1.5.0",
      "_model_name": "HTMLModel",
      "_view_count": null,
      "_view_module": "@jupyter-widgets/controls",
      "_view_module_version": "1.5.0",
      "_view_name": "HTMLView",
      "description": "",
      "description_tooltip": null,
      "layout": "IPY_MODEL_20e7e451986d47d992ef1f5321a6e431",
      "placeholder": "​",
      "style": "IPY_MODEL_6580dd122aaa4c75b0e4fcc0911c7d20",
      "value": " 3505/3505 [00:00&lt;00:00, 6090.51 examples/s]"
     }
    },
    "1ca7608bd3854c49a1330591772b43fe": {
     "model_module": "@jupyter-widgets/controls",
     "model_module_version": "1.5.0",
     "model_name": "DescriptionStyleModel",
     "state": {
      "_model_module": "@jupyter-widgets/controls",
      "_model_module_version": "1.5.0",
      "_model_name": "DescriptionStyleModel",
      "_view_count": null,
      "_view_module": "@jupyter-widgets/base",
      "_view_module_version": "1.2.0",
      "_view_name": "StyleView",
      "description_width": ""
     }
    },
    "1defed152f4d4c69af275fb9deaca79e": {
     "model_module": "@jupyter-widgets/base",
     "model_module_version": "1.2.0",
     "model_name": "LayoutModel",
     "state": {
      "_model_module": "@jupyter-widgets/base",
      "_model_module_version": "1.2.0",
      "_model_name": "LayoutModel",
      "_view_count": null,
      "_view_module": "@jupyter-widgets/base",
      "_view_module_version": "1.2.0",
      "_view_name": "LayoutView",
      "align_content": null,
      "align_items": null,
      "align_self": null,
      "border": null,
      "bottom": null,
      "display": null,
      "flex": null,
      "flex_flow": null,
      "grid_area": null,
      "grid_auto_columns": null,
      "grid_auto_flow": null,
      "grid_auto_rows": null,
      "grid_column": null,
      "grid_gap": null,
      "grid_row": null,
      "grid_template_areas": null,
      "grid_template_columns": null,
      "grid_template_rows": null,
      "height": null,
      "justify_content": null,
      "justify_items": null,
      "left": null,
      "margin": null,
      "max_height": null,
      "max_width": null,
      "min_height": null,
      "min_width": null,
      "object_fit": null,
      "object_position": null,
      "order": null,
      "overflow": null,
      "overflow_x": null,
      "overflow_y": null,
      "padding": null,
      "right": null,
      "top": null,
      "visibility": null,
      "width": null
     }
    },
    "20c48a1675d343e79dc250f46fda70fb": {
     "model_module": "@jupyter-widgets/controls",
     "model_module_version": "1.5.0",
     "model_name": "ProgressStyleModel",
     "state": {
      "_model_module": "@jupyter-widgets/controls",
      "_model_module_version": "1.5.0",
      "_model_name": "ProgressStyleModel",
      "_view_count": null,
      "_view_module": "@jupyter-widgets/base",
      "_view_module_version": "1.2.0",
      "_view_name": "StyleView",
      "bar_color": null,
      "description_width": ""
     }
    },
    "20e7e451986d47d992ef1f5321a6e431": {
     "model_module": "@jupyter-widgets/base",
     "model_module_version": "1.2.0",
     "model_name": "LayoutModel",
     "state": {
      "_model_module": "@jupyter-widgets/base",
      "_model_module_version": "1.2.0",
      "_model_name": "LayoutModel",
      "_view_count": null,
      "_view_module": "@jupyter-widgets/base",
      "_view_module_version": "1.2.0",
      "_view_name": "LayoutView",
      "align_content": null,
      "align_items": null,
      "align_self": null,
      "border": null,
      "bottom": null,
      "display": null,
      "flex": null,
      "flex_flow": null,
      "grid_area": null,
      "grid_auto_columns": null,
      "grid_auto_flow": null,
      "grid_auto_rows": null,
      "grid_column": null,
      "grid_gap": null,
      "grid_row": null,
      "grid_template_areas": null,
      "grid_template_columns": null,
      "grid_template_rows": null,
      "height": null,
      "justify_content": null,
      "justify_items": null,
      "left": null,
      "margin": null,
      "max_height": null,
      "max_width": null,
      "min_height": null,
      "min_width": null,
      "object_fit": null,
      "object_position": null,
      "order": null,
      "overflow": null,
      "overflow_x": null,
      "overflow_y": null,
      "padding": null,
      "right": null,
      "top": null,
      "visibility": null,
      "width": null
     }
    },
    "27c185a5beb34a6c8f51552f45b2c7d6": {
     "model_module": "@jupyter-widgets/controls",
     "model_module_version": "1.5.0",
     "model_name": "HTMLModel",
     "state": {
      "_dom_classes": [],
      "_model_module": "@jupyter-widgets/controls",
      "_model_module_version": "1.5.0",
      "_model_name": "HTMLModel",
      "_view_count": null,
      "_view_module": "@jupyter-widgets/controls",
      "_view_module_version": "1.5.0",
      "_view_name": "HTMLView",
      "description": "",
      "description_tooltip": null,
      "layout": "IPY_MODEL_4dd166d43b30413c92199555fddad4d4",
      "placeholder": "​",
      "style": "IPY_MODEL_c1bbb7ba2fdd4a1a9ac0fbf4fdc4fc2b",
      "value": " 1168/1168 [00:00&lt;00:00, 5237.52 examples/s]"
     }
    },
    "3a72c06e3dea49debf17853774af2613": {
     "model_module": "@jupyter-widgets/base",
     "model_module_version": "1.2.0",
     "model_name": "LayoutModel",
     "state": {
      "_model_module": "@jupyter-widgets/base",
      "_model_module_version": "1.2.0",
      "_model_name": "LayoutModel",
      "_view_count": null,
      "_view_module": "@jupyter-widgets/base",
      "_view_module_version": "1.2.0",
      "_view_name": "LayoutView",
      "align_content": null,
      "align_items": null,
      "align_self": null,
      "border": null,
      "bottom": null,
      "display": null,
      "flex": null,
      "flex_flow": null,
      "grid_area": null,
      "grid_auto_columns": null,
      "grid_auto_flow": null,
      "grid_auto_rows": null,
      "grid_column": null,
      "grid_gap": null,
      "grid_row": null,
      "grid_template_areas": null,
      "grid_template_columns": null,
      "grid_template_rows": null,
      "height": null,
      "justify_content": null,
      "justify_items": null,
      "left": null,
      "margin": null,
      "max_height": null,
      "max_width": null,
      "min_height": null,
      "min_width": null,
      "object_fit": null,
      "object_position": null,
      "order": null,
      "overflow": null,
      "overflow_x": null,
      "overflow_y": null,
      "padding": null,
      "right": null,
      "top": null,
      "visibility": null,
      "width": null
     }
    },
    "3fab39549860467dabfd6201044c0549": {
     "model_module": "@jupyter-widgets/base",
     "model_module_version": "1.2.0",
     "model_name": "LayoutModel",
     "state": {
      "_model_module": "@jupyter-widgets/base",
      "_model_module_version": "1.2.0",
      "_model_name": "LayoutModel",
      "_view_count": null,
      "_view_module": "@jupyter-widgets/base",
      "_view_module_version": "1.2.0",
      "_view_name": "LayoutView",
      "align_content": null,
      "align_items": null,
      "align_self": null,
      "border": null,
      "bottom": null,
      "display": null,
      "flex": null,
      "flex_flow": null,
      "grid_area": null,
      "grid_auto_columns": null,
      "grid_auto_flow": null,
      "grid_auto_rows": null,
      "grid_column": null,
      "grid_gap": null,
      "grid_row": null,
      "grid_template_areas": null,
      "grid_template_columns": null,
      "grid_template_rows": null,
      "height": null,
      "justify_content": null,
      "justify_items": null,
      "left": null,
      "margin": null,
      "max_height": null,
      "max_width": null,
      "min_height": null,
      "min_width": null,
      "object_fit": null,
      "object_position": null,
      "order": null,
      "overflow": null,
      "overflow_x": null,
      "overflow_y": null,
      "padding": null,
      "right": null,
      "top": null,
      "visibility": null,
      "width": null
     }
    },
    "4050debaf78644ca98a257fa912f904a": {
     "model_module": "@jupyter-widgets/base",
     "model_module_version": "1.2.0",
     "model_name": "LayoutModel",
     "state": {
      "_model_module": "@jupyter-widgets/base",
      "_model_module_version": "1.2.0",
      "_model_name": "LayoutModel",
      "_view_count": null,
      "_view_module": "@jupyter-widgets/base",
      "_view_module_version": "1.2.0",
      "_view_name": "LayoutView",
      "align_content": null,
      "align_items": null,
      "align_self": null,
      "border": null,
      "bottom": null,
      "display": null,
      "flex": null,
      "flex_flow": null,
      "grid_area": null,
      "grid_auto_columns": null,
      "grid_auto_flow": null,
      "grid_auto_rows": null,
      "grid_column": null,
      "grid_gap": null,
      "grid_row": null,
      "grid_template_areas": null,
      "grid_template_columns": null,
      "grid_template_rows": null,
      "height": null,
      "justify_content": null,
      "justify_items": null,
      "left": null,
      "margin": null,
      "max_height": null,
      "max_width": null,
      "min_height": null,
      "min_width": null,
      "object_fit": null,
      "object_position": null,
      "order": null,
      "overflow": null,
      "overflow_x": null,
      "overflow_y": null,
      "padding": null,
      "right": null,
      "top": null,
      "visibility": null,
      "width": null
     }
    },
    "43391fb96d814f2d988d55ac5ed2db0b": {
     "model_module": "@jupyter-widgets/controls",
     "model_module_version": "1.5.0",
     "model_name": "HTMLModel",
     "state": {
      "_dom_classes": [],
      "_model_module": "@jupyter-widgets/controls",
      "_model_module_version": "1.5.0",
      "_model_name": "HTMLModel",
      "_view_count": null,
      "_view_module": "@jupyter-widgets/controls",
      "_view_module_version": "1.5.0",
      "_view_name": "HTMLView",
      "description": "",
      "description_tooltip": null,
      "layout": "IPY_MODEL_3a72c06e3dea49debf17853774af2613",
      "placeholder": "​",
      "style": "IPY_MODEL_e2b009aa720d426b96f6e50af06b4561",
      "value": " 439M/439M [00:09&lt;00:00, 31.1MB/s]"
     }
    },
    "471183902e9d4d87a504f0ab19e98368": {
     "model_module": "@jupyter-widgets/controls",
     "model_module_version": "1.5.0",
     "model_name": "HBoxModel",
     "state": {
      "_dom_classes": [],
      "_model_module": "@jupyter-widgets/controls",
      "_model_module_version": "1.5.0",
      "_model_name": "HBoxModel",
      "_view_count": null,
      "_view_module": "@jupyter-widgets/controls",
      "_view_module_version": "1.5.0",
      "_view_name": "HBoxView",
      "box_style": "",
      "children": [
       "IPY_MODEL_b5fd0789ca8940d88f8a61e8f42b0e65",
       "IPY_MODEL_78b111fe46794c699947b8a2942e4eaf",
       "IPY_MODEL_27c185a5beb34a6c8f51552f45b2c7d6"
      ],
      "layout": "IPY_MODEL_a8af901c338a45a5845532dacf53ec7b"
     }
    },
    "4b3243dae63f40bbb3d0dd30114edcc6": {
     "model_module": "@jupyter-widgets/controls",
     "model_module_version": "1.5.0",
     "model_name": "HBoxModel",
     "state": {
      "_dom_classes": [],
      "_model_module": "@jupyter-widgets/controls",
      "_model_module_version": "1.5.0",
      "_model_name": "HBoxModel",
      "_view_count": null,
      "_view_module": "@jupyter-widgets/controls",
      "_view_module_version": "1.5.0",
      "_view_name": "HBoxView",
      "box_style": "",
      "children": [
       "IPY_MODEL_d62e2a723af4480e8e48fc183af1ffd8",
       "IPY_MODEL_7abf66cfe6cc48299aeb6738e0b4c35f",
       "IPY_MODEL_43391fb96d814f2d988d55ac5ed2db0b"
      ],
      "layout": "IPY_MODEL_fbd69508ef47417daed238e88b35e8ae"
     }
    },
    "4dd166d43b30413c92199555fddad4d4": {
     "model_module": "@jupyter-widgets/base",
     "model_module_version": "1.2.0",
     "model_name": "LayoutModel",
     "state": {
      "_model_module": "@jupyter-widgets/base",
      "_model_module_version": "1.2.0",
      "_model_name": "LayoutModel",
      "_view_count": null,
      "_view_module": "@jupyter-widgets/base",
      "_view_module_version": "1.2.0",
      "_view_name": "LayoutView",
      "align_content": null,
      "align_items": null,
      "align_self": null,
      "border": null,
      "bottom": null,
      "display": null,
      "flex": null,
      "flex_flow": null,
      "grid_area": null,
      "grid_auto_columns": null,
      "grid_auto_flow": null,
      "grid_auto_rows": null,
      "grid_column": null,
      "grid_gap": null,
      "grid_row": null,
      "grid_template_areas": null,
      "grid_template_columns": null,
      "grid_template_rows": null,
      "height": null,
      "justify_content": null,
      "justify_items": null,
      "left": null,
      "margin": null,
      "max_height": null,
      "max_width": null,
      "min_height": null,
      "min_width": null,
      "object_fit": null,
      "object_position": null,
      "order": null,
      "overflow": null,
      "overflow_x": null,
      "overflow_y": null,
      "padding": null,
      "right": null,
      "top": null,
      "visibility": null,
      "width": null
     }
    },
    "6580dd122aaa4c75b0e4fcc0911c7d20": {
     "model_module": "@jupyter-widgets/controls",
     "model_module_version": "1.5.0",
     "model_name": "DescriptionStyleModel",
     "state": {
      "_model_module": "@jupyter-widgets/controls",
      "_model_module_version": "1.5.0",
      "_model_name": "DescriptionStyleModel",
      "_view_count": null,
      "_view_module": "@jupyter-widgets/base",
      "_view_module_version": "1.2.0",
      "_view_name": "StyleView",
      "description_width": ""
     }
    },
    "68c239efb8c94a7f8366a3c9fafd12d2": {
     "model_module": "@jupyter-widgets/controls",
     "model_module_version": "1.5.0",
     "model_name": "HTMLModel",
     "state": {
      "_dom_classes": [],
      "_model_module": "@jupyter-widgets/controls",
      "_model_module_version": "1.5.0",
      "_model_name": "HTMLModel",
      "_view_count": null,
      "_view_module": "@jupyter-widgets/controls",
      "_view_module_version": "1.5.0",
      "_view_name": "HTMLView",
      "description": "",
      "description_tooltip": null,
      "layout": "IPY_MODEL_902c725bf3684d93a2a9967e822d8d87",
      "placeholder": "​",
      "style": "IPY_MODEL_aadb173a75ce4d35a918ee69c6280331",
      "value": "Map: 100%"
     }
    },
    "78b111fe46794c699947b8a2942e4eaf": {
     "model_module": "@jupyter-widgets/controls",
     "model_module_version": "1.5.0",
     "model_name": "FloatProgressModel",
     "state": {
      "_dom_classes": [],
      "_model_module": "@jupyter-widgets/controls",
      "_model_module_version": "1.5.0",
      "_model_name": "FloatProgressModel",
      "_view_count": null,
      "_view_module": "@jupyter-widgets/controls",
      "_view_module_version": "1.5.0",
      "_view_name": "ProgressView",
      "bar_style": "success",
      "description": "",
      "description_tooltip": null,
      "layout": "IPY_MODEL_84fbecd4be4545728bc275a835665c15",
      "max": 1168,
      "min": 0,
      "orientation": "horizontal",
      "style": "IPY_MODEL_7930faa01b164609883b464c8ead344c",
      "value": 1168
     }
    },
    "7930faa01b164609883b464c8ead344c": {
     "model_module": "@jupyter-widgets/controls",
     "model_module_version": "1.5.0",
     "model_name": "ProgressStyleModel",
     "state": {
      "_model_module": "@jupyter-widgets/controls",
      "_model_module_version": "1.5.0",
      "_model_name": "ProgressStyleModel",
      "_view_count": null,
      "_view_module": "@jupyter-widgets/base",
      "_view_module_version": "1.2.0",
      "_view_name": "StyleView",
      "bar_color": null,
      "description_width": ""
     }
    },
    "7abf66cfe6cc48299aeb6738e0b4c35f": {
     "model_module": "@jupyter-widgets/controls",
     "model_module_version": "1.5.0",
     "model_name": "FloatProgressModel",
     "state": {
      "_dom_classes": [],
      "_model_module": "@jupyter-widgets/controls",
      "_model_module_version": "1.5.0",
      "_model_name": "FloatProgressModel",
      "_view_count": null,
      "_view_module": "@jupyter-widgets/controls",
      "_view_module_version": "1.5.0",
      "_view_name": "ProgressView",
      "bar_style": "success",
      "description": "",
      "description_tooltip": null,
      "layout": "IPY_MODEL_4050debaf78644ca98a257fa912f904a",
      "max": 439039996,
      "min": 0,
      "orientation": "horizontal",
      "style": "IPY_MODEL_d92bf3a4261743d0bca0c28a26f7e908",
      "value": 439039996
     }
    },
    "84fbecd4be4545728bc275a835665c15": {
     "model_module": "@jupyter-widgets/base",
     "model_module_version": "1.2.0",
     "model_name": "LayoutModel",
     "state": {
      "_model_module": "@jupyter-widgets/base",
      "_model_module_version": "1.2.0",
      "_model_name": "LayoutModel",
      "_view_count": null,
      "_view_module": "@jupyter-widgets/base",
      "_view_module_version": "1.2.0",
      "_view_name": "LayoutView",
      "align_content": null,
      "align_items": null,
      "align_self": null,
      "border": null,
      "bottom": null,
      "display": null,
      "flex": null,
      "flex_flow": null,
      "grid_area": null,
      "grid_auto_columns": null,
      "grid_auto_flow": null,
      "grid_auto_rows": null,
      "grid_column": null,
      "grid_gap": null,
      "grid_row": null,
      "grid_template_areas": null,
      "grid_template_columns": null,
      "grid_template_rows": null,
      "height": null,
      "justify_content": null,
      "justify_items": null,
      "left": null,
      "margin": null,
      "max_height": null,
      "max_width": null,
      "min_height": null,
      "min_width": null,
      "object_fit": null,
      "object_position": null,
      "order": null,
      "overflow": null,
      "overflow_x": null,
      "overflow_y": null,
      "padding": null,
      "right": null,
      "top": null,
      "visibility": null,
      "width": null
     }
    },
    "8b0d874bd1cf439f9761fc858d077d36": {
     "model_module": "@jupyter-widgets/controls",
     "model_module_version": "1.5.0",
     "model_name": "HBoxModel",
     "state": {
      "_dom_classes": [],
      "_model_module": "@jupyter-widgets/controls",
      "_model_module_version": "1.5.0",
      "_model_name": "HBoxModel",
      "_view_count": null,
      "_view_module": "@jupyter-widgets/controls",
      "_view_module_version": "1.5.0",
      "_view_name": "HBoxView",
      "box_style": "",
      "children": [
       "IPY_MODEL_68c239efb8c94a7f8366a3c9fafd12d2",
       "IPY_MODEL_e13f89315f794897b773b09a04a130d7",
       "IPY_MODEL_19735336722a41269c0a2eb966baa6a0"
      ],
      "layout": "IPY_MODEL_e44399fdf10044e4bc41d887a11ed90a"
     }
    },
    "902c725bf3684d93a2a9967e822d8d87": {
     "model_module": "@jupyter-widgets/base",
     "model_module_version": "1.2.0",
     "model_name": "LayoutModel",
     "state": {
      "_model_module": "@jupyter-widgets/base",
      "_model_module_version": "1.2.0",
      "_model_name": "LayoutModel",
      "_view_count": null,
      "_view_module": "@jupyter-widgets/base",
      "_view_module_version": "1.2.0",
      "_view_name": "LayoutView",
      "align_content": null,
      "align_items": null,
      "align_self": null,
      "border": null,
      "bottom": null,
      "display": null,
      "flex": null,
      "flex_flow": null,
      "grid_area": null,
      "grid_auto_columns": null,
      "grid_auto_flow": null,
      "grid_auto_rows": null,
      "grid_column": null,
      "grid_gap": null,
      "grid_row": null,
      "grid_template_areas": null,
      "grid_template_columns": null,
      "grid_template_rows": null,
      "height": null,
      "justify_content": null,
      "justify_items": null,
      "left": null,
      "margin": null,
      "max_height": null,
      "max_width": null,
      "min_height": null,
      "min_width": null,
      "object_fit": null,
      "object_position": null,
      "order": null,
      "overflow": null,
      "overflow_x": null,
      "overflow_y": null,
      "padding": null,
      "right": null,
      "top": null,
      "visibility": null,
      "width": null
     }
    },
    "a8af901c338a45a5845532dacf53ec7b": {
     "model_module": "@jupyter-widgets/base",
     "model_module_version": "1.2.0",
     "model_name": "LayoutModel",
     "state": {
      "_model_module": "@jupyter-widgets/base",
      "_model_module_version": "1.2.0",
      "_model_name": "LayoutModel",
      "_view_count": null,
      "_view_module": "@jupyter-widgets/base",
      "_view_module_version": "1.2.0",
      "_view_name": "LayoutView",
      "align_content": null,
      "align_items": null,
      "align_self": null,
      "border": null,
      "bottom": null,
      "display": null,
      "flex": null,
      "flex_flow": null,
      "grid_area": null,
      "grid_auto_columns": null,
      "grid_auto_flow": null,
      "grid_auto_rows": null,
      "grid_column": null,
      "grid_gap": null,
      "grid_row": null,
      "grid_template_areas": null,
      "grid_template_columns": null,
      "grid_template_rows": null,
      "height": null,
      "justify_content": null,
      "justify_items": null,
      "left": null,
      "margin": null,
      "max_height": null,
      "max_width": null,
      "min_height": null,
      "min_width": null,
      "object_fit": null,
      "object_position": null,
      "order": null,
      "overflow": null,
      "overflow_x": null,
      "overflow_y": null,
      "padding": null,
      "right": null,
      "top": null,
      "visibility": null,
      "width": null
     }
    },
    "aadb173a75ce4d35a918ee69c6280331": {
     "model_module": "@jupyter-widgets/controls",
     "model_module_version": "1.5.0",
     "model_name": "DescriptionStyleModel",
     "state": {
      "_model_module": "@jupyter-widgets/controls",
      "_model_module_version": "1.5.0",
      "_model_name": "DescriptionStyleModel",
      "_view_count": null,
      "_view_module": "@jupyter-widgets/base",
      "_view_module_version": "1.2.0",
      "_view_name": "StyleView",
      "description_width": ""
     }
    },
    "adbc5c0cb28d4fab9bf96d16a7d712e3": {
     "model_module": "@jupyter-widgets/controls",
     "model_module_version": "1.5.0",
     "model_name": "DescriptionStyleModel",
     "state": {
      "_model_module": "@jupyter-widgets/controls",
      "_model_module_version": "1.5.0",
      "_model_name": "DescriptionStyleModel",
      "_view_count": null,
      "_view_module": "@jupyter-widgets/base",
      "_view_module_version": "1.2.0",
      "_view_name": "StyleView",
      "description_width": ""
     }
    },
    "b0f451f135eb46e1861dd8d9f7401979": {
     "model_module": "@jupyter-widgets/base",
     "model_module_version": "1.2.0",
     "model_name": "LayoutModel",
     "state": {
      "_model_module": "@jupyter-widgets/base",
      "_model_module_version": "1.2.0",
      "_model_name": "LayoutModel",
      "_view_count": null,
      "_view_module": "@jupyter-widgets/base",
      "_view_module_version": "1.2.0",
      "_view_name": "LayoutView",
      "align_content": null,
      "align_items": null,
      "align_self": null,
      "border": null,
      "bottom": null,
      "display": null,
      "flex": null,
      "flex_flow": null,
      "grid_area": null,
      "grid_auto_columns": null,
      "grid_auto_flow": null,
      "grid_auto_rows": null,
      "grid_column": null,
      "grid_gap": null,
      "grid_row": null,
      "grid_template_areas": null,
      "grid_template_columns": null,
      "grid_template_rows": null,
      "height": null,
      "justify_content": null,
      "justify_items": null,
      "left": null,
      "margin": null,
      "max_height": null,
      "max_width": null,
      "min_height": null,
      "min_width": null,
      "object_fit": null,
      "object_position": null,
      "order": null,
      "overflow": null,
      "overflow_x": null,
      "overflow_y": null,
      "padding": null,
      "right": null,
      "top": null,
      "visibility": null,
      "width": null
     }
    },
    "b5fd0789ca8940d88f8a61e8f42b0e65": {
     "model_module": "@jupyter-widgets/controls",
     "model_module_version": "1.5.0",
     "model_name": "HTMLModel",
     "state": {
      "_dom_classes": [],
      "_model_module": "@jupyter-widgets/controls",
      "_model_module_version": "1.5.0",
      "_model_name": "HTMLModel",
      "_view_count": null,
      "_view_module": "@jupyter-widgets/controls",
      "_view_module_version": "1.5.0",
      "_view_name": "HTMLView",
      "description": "",
      "description_tooltip": null,
      "layout": "IPY_MODEL_e5004f0b06f548ab9b33fb694add4674",
      "placeholder": "​",
      "style": "IPY_MODEL_1ca7608bd3854c49a1330591772b43fe",
      "value": "Map: 100%"
     }
    },
    "b677057dc3324d47af608c920245a864": {
     "model_module": "@jupyter-widgets/base",
     "model_module_version": "1.2.0",
     "model_name": "LayoutModel",
     "state": {
      "_model_module": "@jupyter-widgets/base",
      "_model_module_version": "1.2.0",
      "_model_name": "LayoutModel",
      "_view_count": null,
      "_view_module": "@jupyter-widgets/base",
      "_view_module_version": "1.2.0",
      "_view_name": "LayoutView",
      "align_content": null,
      "align_items": null,
      "align_self": null,
      "border": null,
      "bottom": null,
      "display": null,
      "flex": null,
      "flex_flow": null,
      "grid_area": null,
      "grid_auto_columns": null,
      "grid_auto_flow": null,
      "grid_auto_rows": null,
      "grid_column": null,
      "grid_gap": null,
      "grid_row": null,
      "grid_template_areas": null,
      "grid_template_columns": null,
      "grid_template_rows": null,
      "height": null,
      "justify_content": null,
      "justify_items": null,
      "left": null,
      "margin": null,
      "max_height": null,
      "max_width": null,
      "min_height": null,
      "min_width": null,
      "object_fit": null,
      "object_position": null,
      "order": null,
      "overflow": null,
      "overflow_x": null,
      "overflow_y": null,
      "padding": null,
      "right": null,
      "top": null,
      "visibility": null,
      "width": null
     }
    },
    "c1bbb7ba2fdd4a1a9ac0fbf4fdc4fc2b": {
     "model_module": "@jupyter-widgets/controls",
     "model_module_version": "1.5.0",
     "model_name": "DescriptionStyleModel",
     "state": {
      "_model_module": "@jupyter-widgets/controls",
      "_model_module_version": "1.5.0",
      "_model_name": "DescriptionStyleModel",
      "_view_count": null,
      "_view_module": "@jupyter-widgets/base",
      "_view_module_version": "1.2.0",
      "_view_name": "StyleView",
      "description_width": ""
     }
    },
    "cf7308f537614024bd9a594f91184685": {
     "model_module": "@jupyter-widgets/base",
     "model_module_version": "1.2.0",
     "model_name": "LayoutModel",
     "state": {
      "_model_module": "@jupyter-widgets/base",
      "_model_module_version": "1.2.0",
      "_model_name": "LayoutModel",
      "_view_count": null,
      "_view_module": "@jupyter-widgets/base",
      "_view_module_version": "1.2.0",
      "_view_name": "LayoutView",
      "align_content": null,
      "align_items": null,
      "align_self": null,
      "border": null,
      "bottom": null,
      "display": null,
      "flex": null,
      "flex_flow": null,
      "grid_area": null,
      "grid_auto_columns": null,
      "grid_auto_flow": null,
      "grid_auto_rows": null,
      "grid_column": null,
      "grid_gap": null,
      "grid_row": null,
      "grid_template_areas": null,
      "grid_template_columns": null,
      "grid_template_rows": null,
      "height": null,
      "justify_content": null,
      "justify_items": null,
      "left": null,
      "margin": null,
      "max_height": null,
      "max_width": null,
      "min_height": null,
      "min_width": null,
      "object_fit": null,
      "object_position": null,
      "order": null,
      "overflow": null,
      "overflow_x": null,
      "overflow_y": null,
      "padding": null,
      "right": null,
      "top": null,
      "visibility": null,
      "width": null
     }
    },
    "d62e2a723af4480e8e48fc183af1ffd8": {
     "model_module": "@jupyter-widgets/controls",
     "model_module_version": "1.5.0",
     "model_name": "HTMLModel",
     "state": {
      "_dom_classes": [],
      "_model_module": "@jupyter-widgets/controls",
      "_model_module_version": "1.5.0",
      "_model_name": "HTMLModel",
      "_view_count": null,
      "_view_module": "@jupyter-widgets/controls",
      "_view_module_version": "1.5.0",
      "_view_name": "HTMLView",
      "description": "",
      "description_tooltip": null,
      "layout": "IPY_MODEL_cf7308f537614024bd9a594f91184685",
      "placeholder": "​",
      "style": "IPY_MODEL_adbc5c0cb28d4fab9bf96d16a7d712e3",
      "value": "Uploading...: 100%"
     }
    },
    "d6ffac999db34c1cbf556acab60189b0": {
     "model_module": "@jupyter-widgets/controls",
     "model_module_version": "1.5.0",
     "model_name": "HTMLModel",
     "state": {
      "_dom_classes": [],
      "_model_module": "@jupyter-widgets/controls",
      "_model_module_version": "1.5.0",
      "_model_name": "HTMLModel",
      "_view_count": null,
      "_view_module": "@jupyter-widgets/controls",
      "_view_module_version": "1.5.0",
      "_view_name": "HTMLView",
      "description": "",
      "description_tooltip": null,
      "layout": "IPY_MODEL_b0f451f135eb46e1861dd8d9f7401979",
      "placeholder": "​",
      "style": "IPY_MODEL_073248ef103848fcbb486e5b67e128f4",
      "value": "Map: 100%"
     }
    },
    "d92bf3a4261743d0bca0c28a26f7e908": {
     "model_module": "@jupyter-widgets/controls",
     "model_module_version": "1.5.0",
     "model_name": "ProgressStyleModel",
     "state": {
      "_model_module": "@jupyter-widgets/controls",
      "_model_module_version": "1.5.0",
      "_model_name": "ProgressStyleModel",
      "_view_count": null,
      "_view_module": "@jupyter-widgets/base",
      "_view_module_version": "1.2.0",
      "_view_name": "StyleView",
      "bar_color": null,
      "description_width": ""
     }
    },
    "df4143032ad94db18eec24524eeb6241": {
     "model_module": "@jupyter-widgets/controls",
     "model_module_version": "1.5.0",
     "model_name": "HTMLModel",
     "state": {
      "_dom_classes": [],
      "_model_module": "@jupyter-widgets/controls",
      "_model_module_version": "1.5.0",
      "_model_name": "HTMLModel",
      "_view_count": null,
      "_view_module": "@jupyter-widgets/controls",
      "_view_module_version": "1.5.0",
      "_view_name": "HTMLView",
      "description": "",
      "description_tooltip": null,
      "layout": "IPY_MODEL_1defed152f4d4c69af275fb9deaca79e",
      "placeholder": "​",
      "style": "IPY_MODEL_03ff9c17d867489c88b27ca7e1ea1836",
      "value": " 1169/1169 [00:00&lt;00:00, 5738.47 examples/s]"
     }
    },
    "e13f89315f794897b773b09a04a130d7": {
     "model_module": "@jupyter-widgets/controls",
     "model_module_version": "1.5.0",
     "model_name": "FloatProgressModel",
     "state": {
      "_dom_classes": [],
      "_model_module": "@jupyter-widgets/controls",
      "_model_module_version": "1.5.0",
      "_model_name": "FloatProgressModel",
      "_view_count": null,
      "_view_module": "@jupyter-widgets/controls",
      "_view_module_version": "1.5.0",
      "_view_name": "ProgressView",
      "bar_style": "success",
      "description": "",
      "description_tooltip": null,
      "layout": "IPY_MODEL_0fb84ea90b444dceb53e8c628f89faeb",
      "max": 3505,
      "min": 0,
      "orientation": "horizontal",
      "style": "IPY_MODEL_20c48a1675d343e79dc250f46fda70fb",
      "value": 3505
     }
    },
    "e2b009aa720d426b96f6e50af06b4561": {
     "model_module": "@jupyter-widgets/controls",
     "model_module_version": "1.5.0",
     "model_name": "DescriptionStyleModel",
     "state": {
      "_model_module": "@jupyter-widgets/controls",
      "_model_module_version": "1.5.0",
      "_model_name": "DescriptionStyleModel",
      "_view_count": null,
      "_view_module": "@jupyter-widgets/base",
      "_view_module_version": "1.2.0",
      "_view_name": "StyleView",
      "description_width": ""
     }
    },
    "e44399fdf10044e4bc41d887a11ed90a": {
     "model_module": "@jupyter-widgets/base",
     "model_module_version": "1.2.0",
     "model_name": "LayoutModel",
     "state": {
      "_model_module": "@jupyter-widgets/base",
      "_model_module_version": "1.2.0",
      "_model_name": "LayoutModel",
      "_view_count": null,
      "_view_module": "@jupyter-widgets/base",
      "_view_module_version": "1.2.0",
      "_view_name": "LayoutView",
      "align_content": null,
      "align_items": null,
      "align_self": null,
      "border": null,
      "bottom": null,
      "display": null,
      "flex": null,
      "flex_flow": null,
      "grid_area": null,
      "grid_auto_columns": null,
      "grid_auto_flow": null,
      "grid_auto_rows": null,
      "grid_column": null,
      "grid_gap": null,
      "grid_row": null,
      "grid_template_areas": null,
      "grid_template_columns": null,
      "grid_template_rows": null,
      "height": null,
      "justify_content": null,
      "justify_items": null,
      "left": null,
      "margin": null,
      "max_height": null,
      "max_width": null,
      "min_height": null,
      "min_width": null,
      "object_fit": null,
      "object_position": null,
      "order": null,
      "overflow": null,
      "overflow_x": null,
      "overflow_y": null,
      "padding": null,
      "right": null,
      "top": null,
      "visibility": null,
      "width": null
     }
    },
    "e5004f0b06f548ab9b33fb694add4674": {
     "model_module": "@jupyter-widgets/base",
     "model_module_version": "1.2.0",
     "model_name": "LayoutModel",
     "state": {
      "_model_module": "@jupyter-widgets/base",
      "_model_module_version": "1.2.0",
      "_model_name": "LayoutModel",
      "_view_count": null,
      "_view_module": "@jupyter-widgets/base",
      "_view_module_version": "1.2.0",
      "_view_name": "LayoutView",
      "align_content": null,
      "align_items": null,
      "align_self": null,
      "border": null,
      "bottom": null,
      "display": null,
      "flex": null,
      "flex_flow": null,
      "grid_area": null,
      "grid_auto_columns": null,
      "grid_auto_flow": null,
      "grid_auto_rows": null,
      "grid_column": null,
      "grid_gap": null,
      "grid_row": null,
      "grid_template_areas": null,
      "grid_template_columns": null,
      "grid_template_rows": null,
      "height": null,
      "justify_content": null,
      "justify_items": null,
      "left": null,
      "margin": null,
      "max_height": null,
      "max_width": null,
      "min_height": null,
      "min_width": null,
      "object_fit": null,
      "object_position": null,
      "order": null,
      "overflow": null,
      "overflow_x": null,
      "overflow_y": null,
      "padding": null,
      "right": null,
      "top": null,
      "visibility": null,
      "width": null
     }
    },
    "fb75b4b95db14f0ca6412562a8dbaa6e": {
     "model_module": "@jupyter-widgets/controls",
     "model_module_version": "1.5.0",
     "model_name": "FloatProgressModel",
     "state": {
      "_dom_classes": [],
      "_model_module": "@jupyter-widgets/controls",
      "_model_module_version": "1.5.0",
      "_model_name": "FloatProgressModel",
      "_view_count": null,
      "_view_module": "@jupyter-widgets/controls",
      "_view_module_version": "1.5.0",
      "_view_name": "ProgressView",
      "bar_style": "success",
      "description": "",
      "description_tooltip": null,
      "layout": "IPY_MODEL_b677057dc3324d47af608c920245a864",
      "max": 1169,
      "min": 0,
      "orientation": "horizontal",
      "style": "IPY_MODEL_05daa68e0bef409b9ecb6582052a5749",
      "value": 1169
     }
    },
    "fbd69508ef47417daed238e88b35e8ae": {
     "model_module": "@jupyter-widgets/base",
     "model_module_version": "1.2.0",
     "model_name": "LayoutModel",
     "state": {
      "_model_module": "@jupyter-widgets/base",
      "_model_module_version": "1.2.0",
      "_model_name": "LayoutModel",
      "_view_count": null,
      "_view_module": "@jupyter-widgets/base",
      "_view_module_version": "1.2.0",
      "_view_name": "LayoutView",
      "align_content": null,
      "align_items": null,
      "align_self": null,
      "border": null,
      "bottom": null,
      "display": null,
      "flex": null,
      "flex_flow": null,
      "grid_area": null,
      "grid_auto_columns": null,
      "grid_auto_flow": null,
      "grid_auto_rows": null,
      "grid_column": null,
      "grid_gap": null,
      "grid_row": null,
      "grid_template_areas": null,
      "grid_template_columns": null,
      "grid_template_rows": null,
      "height": null,
      "justify_content": null,
      "justify_items": null,
      "left": null,
      "margin": null,
      "max_height": null,
      "max_width": null,
      "min_height": null,
      "min_width": null,
      "object_fit": null,
      "object_position": null,
      "order": null,
      "overflow": null,
      "overflow_x": null,
      "overflow_y": null,
      "padding": null,
      "right": null,
      "top": null,
      "visibility": null,
      "width": null
     }
    }
   }
  }
 },
 "nbformat": 4,
 "nbformat_minor": 0
}
